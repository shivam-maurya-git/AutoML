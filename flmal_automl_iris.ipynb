{
 "cells": [
  {
   "cell_type": "markdown",
   "id": "b7af3206",
   "metadata": {},
   "source": [
    "**FLAML : Fast and LightWeight AutoML Library designed to automate ML Model. Fast Hyperparamter tuning.**\n",
    "<p>By default, flaml decides the resampling automatically according to the data size and the time budget. I will set resample startegy eval_method:'cv'. </p>"
   ]
  },
  {
   "cell_type": "markdown",
   "id": "ef8bca5a",
   "metadata": {},
   "source": [
    "**flaml relies on the provided task type to infer the default splitting strategy:**\n",
    "\n",
    "<p>stratified split for classification;</p>\n",
    "uniform split for regression;\n",
    "<p>time-based split for time series forecasting;</p>\n",
    "group-based split for learning to rank.\n"
   ]
  },
  {
   "cell_type": "code",
   "execution_count": 1,
   "id": "b611775f",
   "metadata": {
    "collapsed": true
   },
   "outputs": [
    {
     "name": "stdout",
     "output_type": "stream",
     "text": [
      "Requirement already satisfied: flaml[automl] in c:\\users\\apu\\anaconda3\\lib\\site-packages (2.1.1)\n",
      "Requirement already satisfied: NumPy>=1.17.0rc1 in c:\\users\\apu\\anaconda3\\lib\\site-packages (from flaml[automl]) (1.24.3)\n",
      "Requirement already satisfied: lightgbm>=2.3.1 in c:\\users\\apu\\anaconda3\\lib\\site-packages (from flaml[automl]) (4.2.0)\n",
      "Requirement already satisfied: xgboost>=0.90 in c:\\users\\apu\\anaconda3\\lib\\site-packages (from flaml[automl]) (2.0.3)\n",
      "Requirement already satisfied: scipy>=1.4.1 in c:\\users\\apu\\anaconda3\\lib\\site-packages (from flaml[automl]) (1.11.1)\n",
      "Requirement already satisfied: pandas>=1.1.4 in c:\\users\\apu\\anaconda3\\lib\\site-packages (from flaml[automl]) (2.0.3)\n",
      "Requirement already satisfied: scikit-learn>=0.24 in c:\\users\\apu\\anaconda3\\lib\\site-packages (from flaml[automl]) (1.3.0)\n",
      "Requirement already satisfied: python-dateutil>=2.8.2 in c:\\users\\apu\\anaconda3\\lib\\site-packages (from pandas>=1.1.4->flaml[automl]) (2.8.2)\n",
      "Requirement already satisfied: pytz>=2020.1 in c:\\users\\apu\\anaconda3\\lib\\site-packages (from pandas>=1.1.4->flaml[automl]) (2023.3.post1)\n",
      "Requirement already satisfied: tzdata>=2022.1 in c:\\users\\apu\\anaconda3\\lib\\site-packages (from pandas>=1.1.4->flaml[automl]) (2023.3)\n",
      "Requirement already satisfied: joblib>=1.1.1 in c:\\users\\apu\\anaconda3\\lib\\site-packages (from scikit-learn>=0.24->flaml[automl]) (1.2.0)\n",
      "Requirement already satisfied: threadpoolctl>=2.0.0 in c:\\users\\apu\\anaconda3\\lib\\site-packages (from scikit-learn>=0.24->flaml[automl]) (2.2.0)\n",
      "Requirement already satisfied: six>=1.5 in c:\\users\\apu\\anaconda3\\lib\\site-packages (from python-dateutil>=2.8.2->pandas>=1.1.4->flaml[automl]) (1.16.0)\n"
     ]
    }
   ],
   "source": [
    "!pip install \"flaml[automl]\""
   ]
  },
  {
   "cell_type": "code",
   "execution_count": 2,
   "id": "7d8b867e",
   "metadata": {},
   "outputs": [],
   "source": [
    "from sklearn.datasets import load_digits\n",
    "from sklearn.model_selection import train_test_split"
   ]
  },
  {
   "cell_type": "code",
   "execution_count": 3,
   "id": "0c0602d3",
   "metadata": {},
   "outputs": [],
   "source": [
    "from flaml import AutoML\n",
    "automl = AutoML()"
   ]
  },
  {
   "cell_type": "code",
   "execution_count": 4,
   "id": "a17a55ec",
   "metadata": {},
   "outputs": [],
   "source": [
    "digits = load_digits()"
   ]
  },
  {
   "cell_type": "code",
   "execution_count": 5,
   "id": "564847e7",
   "metadata": {},
   "outputs": [],
   "source": [
    "#Customize AutoML https://microsoft.github.io/FLAML/docs/Use-Cases/Task-Oriented-AutoML/#customize-automlfit\n",
    "settings = {\n",
    "    \"time_budget\": 600,  # total running time in seconds\n",
    "    \"metric\": 'accuracy', \n",
    "    \"estimator_list\":['rf','lrl1','lrl2','kneighbor'],\n",
    "     \"task\": 'classification',  # task type\n",
    "    \"log_file_name\": 'iris.log',  # flaml log file\n",
    "    \"seed\": 7654321,    # random seed\n",
    "    'eval_method':'cv'\n",
    "}"
   ]
  },
  {
   "cell_type": "code",
   "execution_count": 6,
   "id": "df4ee33c",
   "metadata": {},
   "outputs": [],
   "source": [
    "X_train,X_test,y_train,y_test = train_test_split(digits.data,digits.target)"
   ]
  },
  {
   "cell_type": "code",
   "execution_count": 7,
   "id": "9e55feee",
   "metadata": {},
   "outputs": [
    {
     "name": "stdout",
     "output_type": "stream",
     "text": [
      "[flaml.automl.logger: 12-24 18:27:12] {1679} INFO - task = classification\n",
      "[flaml.automl.logger: 12-24 18:27:12] {1690} INFO - Evaluation method: cv\n",
      "[flaml.automl.logger: 12-24 18:27:12] {1788} INFO - Minimizing error metric: 1-accuracy\n",
      "[flaml.automl.logger: 12-24 18:27:12] {1900} INFO - List of ML learners in AutoML Run: ['rf', 'lrl1', 'lrl2', 'kneighbor']\n",
      "[flaml.automl.logger: 12-24 18:27:12] {2218} INFO - iteration 0, current learner rf\n",
      "[flaml.automl.logger: 12-24 18:27:13] {2344} INFO - Estimated sufficient time budget=2861s. Estimated necessary time budget=31s.\n",
      "[flaml.automl.logger: 12-24 18:27:13] {2391} INFO -  at 0.3s,\testimator rf's best error=0.4180,\tbest estimator rf's best error=0.4180\n",
      "[flaml.automl.logger: 12-24 18:27:13] {2218} INFO - iteration 1, current learner rf\n",
      "[flaml.automl.logger: 12-24 18:27:13] {2391} INFO -  at 0.6s,\testimator rf's best error=0.4039,\tbest estimator rf's best error=0.4039\n",
      "[flaml.automl.logger: 12-24 18:27:13] {2218} INFO - iteration 2, current learner rf\n",
      "[flaml.automl.logger: 12-24 18:27:13] {2391} INFO -  at 0.8s,\testimator rf's best error=0.2650,\tbest estimator rf's best error=0.2650\n",
      "[flaml.automl.logger: 12-24 18:27:13] {2218} INFO - iteration 3, current learner rf\n",
      "[flaml.automl.logger: 12-24 18:27:14] {2391} INFO -  at 1.2s,\testimator rf's best error=0.2650,\tbest estimator rf's best error=0.2650\n",
      "[flaml.automl.logger: 12-24 18:27:14] {2218} INFO - iteration 4, current learner rf\n",
      "[flaml.automl.logger: 12-24 18:27:14] {2391} INFO -  at 1.8s,\testimator rf's best error=0.1967,\tbest estimator rf's best error=0.1967\n",
      "[flaml.automl.logger: 12-24 18:27:14] {2218} INFO - iteration 5, current learner rf\n",
      "[flaml.automl.logger: 12-24 18:27:15] {2391} INFO -  at 2.4s,\testimator rf's best error=0.1967,\tbest estimator rf's best error=0.1967\n",
      "[flaml.automl.logger: 12-24 18:27:15] {2218} INFO - iteration 6, current learner rf\n",
      "[flaml.automl.logger: 12-24 18:27:15] {2391} INFO -  at 2.9s,\testimator rf's best error=0.1967,\tbest estimator rf's best error=0.1967\n",
      "[flaml.automl.logger: 12-24 18:27:15] {2218} INFO - iteration 7, current learner rf\n",
      "[flaml.automl.logger: 12-24 18:27:16] {2391} INFO -  at 3.6s,\testimator rf's best error=0.1418,\tbest estimator rf's best error=0.1418\n",
      "[flaml.automl.logger: 12-24 18:27:16] {2218} INFO - iteration 8, current learner rf\n",
      "[flaml.automl.logger: 12-24 18:27:16] {2391} INFO -  at 4.1s,\testimator rf's best error=0.1418,\tbest estimator rf's best error=0.1418\n",
      "[flaml.automl.logger: 12-24 18:27:16] {2218} INFO - iteration 9, current learner rf\n",
      "[flaml.automl.logger: 12-24 18:27:18] {2391} INFO -  at 5.5s,\testimator rf's best error=0.1418,\tbest estimator rf's best error=0.1418\n",
      "[flaml.automl.logger: 12-24 18:27:18] {2218} INFO - iteration 10, current learner rf\n",
      "[flaml.automl.logger: 12-24 18:27:18] {2391} INFO -  at 6.1s,\testimator rf's best error=0.1321,\tbest estimator rf's best error=0.1321\n",
      "[flaml.automl.logger: 12-24 18:27:18] {2218} INFO - iteration 11, current learner rf\n",
      "[flaml.automl.logger: 12-24 18:27:19] {2391} INFO -  at 6.6s,\testimator rf's best error=0.1321,\tbest estimator rf's best error=0.1321\n",
      "[flaml.automl.logger: 12-24 18:27:19] {2218} INFO - iteration 12, current learner rf\n",
      "[flaml.automl.logger: 12-24 18:27:20] {2391} INFO -  at 7.2s,\testimator rf's best error=0.0891,\tbest estimator rf's best error=0.0891\n",
      "[flaml.automl.logger: 12-24 18:27:20] {2218} INFO - iteration 13, current learner rf\n",
      "[flaml.automl.logger: 12-24 18:27:20] {2391} INFO -  at 7.6s,\testimator rf's best error=0.0891,\tbest estimator rf's best error=0.0891\n",
      "[flaml.automl.logger: 12-24 18:27:20] {2218} INFO - iteration 14, current learner rf\n",
      "[flaml.automl.logger: 12-24 18:27:21] {2391} INFO -  at 8.5s,\testimator rf's best error=0.0675,\tbest estimator rf's best error=0.0675\n",
      "[flaml.automl.logger: 12-24 18:27:21] {2218} INFO - iteration 15, current learner rf\n",
      "[flaml.automl.logger: 12-24 18:27:22] {2391} INFO -  at 9.2s,\testimator rf's best error=0.0490,\tbest estimator rf's best error=0.0490\n",
      "[flaml.automl.logger: 12-24 18:27:22] {2218} INFO - iteration 16, current learner rf\n",
      "[flaml.automl.logger: 12-24 18:27:22] {2391} INFO -  at 10.1s,\testimator rf's best error=0.0490,\tbest estimator rf's best error=0.0490\n",
      "[flaml.automl.logger: 12-24 18:27:22] {2218} INFO - iteration 17, current learner rf\n",
      "[flaml.automl.logger: 12-24 18:27:23] {2391} INFO -  at 10.6s,\testimator rf's best error=0.0490,\tbest estimator rf's best error=0.0490\n",
      "[flaml.automl.logger: 12-24 18:27:23] {2218} INFO - iteration 18, current learner rf\n",
      "[flaml.automl.logger: 12-24 18:27:24] {2391} INFO -  at 11.8s,\testimator rf's best error=0.0349,\tbest estimator rf's best error=0.0349\n",
      "[flaml.automl.logger: 12-24 18:27:24] {2218} INFO - iteration 19, current learner rf\n",
      "[flaml.automl.logger: 12-24 18:27:25] {2391} INFO -  at 12.8s,\testimator rf's best error=0.0304,\tbest estimator rf's best error=0.0304\n",
      "[flaml.automl.logger: 12-24 18:27:25] {2218} INFO - iteration 20, current learner rf\n",
      "[flaml.automl.logger: 12-24 18:27:26] {2391} INFO -  at 13.9s,\testimator rf's best error=0.0304,\tbest estimator rf's best error=0.0304\n",
      "[flaml.automl.logger: 12-24 18:27:26] {2218} INFO - iteration 21, current learner rf\n",
      "[flaml.automl.logger: 12-24 18:27:27] {2391} INFO -  at 14.6s,\testimator rf's best error=0.0304,\tbest estimator rf's best error=0.0304\n",
      "[flaml.automl.logger: 12-24 18:27:27] {2218} INFO - iteration 22, current learner rf\n",
      "[flaml.automl.logger: 12-24 18:27:28] {2391} INFO -  at 15.9s,\testimator rf's best error=0.0282,\tbest estimator rf's best error=0.0282\n",
      "[flaml.automl.logger: 12-24 18:27:28] {2218} INFO - iteration 23, current learner rf\n",
      "[flaml.automl.logger: 12-24 18:27:29] {2391} INFO -  at 16.8s,\testimator rf's best error=0.0282,\tbest estimator rf's best error=0.0282\n",
      "[flaml.automl.logger: 12-24 18:27:29] {2218} INFO - iteration 24, current learner rf\n",
      "[flaml.automl.logger: 12-24 18:27:31] {2391} INFO -  at 19.0s,\testimator rf's best error=0.0282,\tbest estimator rf's best error=0.0282\n",
      "[flaml.automl.logger: 12-24 18:27:31] {2218} INFO - iteration 25, current learner rf\n",
      "[flaml.automl.logger: 12-24 18:27:32] {2391} INFO -  at 19.8s,\testimator rf's best error=0.0282,\tbest estimator rf's best error=0.0282\n",
      "[flaml.automl.logger: 12-24 18:27:32] {2218} INFO - iteration 26, current learner lrl2\n",
      "[flaml.automl.logger: 12-24 18:27:40] {2391} INFO -  at 27.3s,\testimator lrl2's best error=0.0282,\tbest estimator rf's best error=0.0282\n",
      "[flaml.automl.logger: 12-24 18:27:40] {2218} INFO - iteration 27, current learner lrl2\n",
      "[flaml.automl.logger: 12-24 18:27:40] {2391} INFO -  at 27.9s,\testimator lrl2's best error=0.0267,\tbest estimator lrl2's best error=0.0267\n",
      "[flaml.automl.logger: 12-24 18:27:40] {2218} INFO - iteration 28, current learner lrl2\n",
      "[flaml.automl.logger: 12-24 18:27:41] {2391} INFO -  at 28.6s,\testimator lrl2's best error=0.0267,\tbest estimator lrl2's best error=0.0267\n",
      "[flaml.automl.logger: 12-24 18:27:41] {2218} INFO - iteration 29, current learner rf\n",
      "[flaml.automl.logger: 12-24 18:27:42] {2391} INFO -  at 30.0s,\testimator rf's best error=0.0282,\tbest estimator lrl2's best error=0.0267\n",
      "[flaml.automl.logger: 12-24 18:27:42] {2218} INFO - iteration 30, current learner lrl2\n",
      "[flaml.automl.logger: 12-24 18:27:43] {2391} INFO -  at 30.5s,\testimator lrl2's best error=0.0267,\tbest estimator lrl2's best error=0.0267\n",
      "[flaml.automl.logger: 12-24 18:27:43] {2218} INFO - iteration 31, current learner lrl2\n",
      "[flaml.automl.logger: 12-24 18:27:43] {2391} INFO -  at 31.1s,\testimator lrl2's best error=0.0267,\tbest estimator lrl2's best error=0.0267\n",
      "[flaml.automl.logger: 12-24 18:27:43] {2218} INFO - iteration 32, current learner rf\n",
      "[flaml.automl.logger: 12-24 18:27:45] {2391} INFO -  at 33.1s,\testimator rf's best error=0.0282,\tbest estimator lrl2's best error=0.0267\n",
      "[flaml.automl.logger: 12-24 18:27:45] {2218} INFO - iteration 33, current learner lrl2\n",
      "[flaml.automl.logger: 12-24 18:27:46] {2391} INFO -  at 33.7s,\testimator lrl2's best error=0.0267,\tbest estimator lrl2's best error=0.0267\n",
      "[flaml.automl.logger: 12-24 18:27:46] {2218} INFO - iteration 34, current learner lrl2\n",
      "[flaml.automl.logger: 12-24 18:27:47] {2391} INFO -  at 34.3s,\testimator lrl2's best error=0.0267,\tbest estimator lrl2's best error=0.0267\n"
     ]
    },
    {
     "name": "stdout",
     "output_type": "stream",
     "text": [
      "[flaml.automl.logger: 12-24 18:27:47] {2218} INFO - iteration 35, current learner lrl2\n",
      "[flaml.automl.logger: 12-24 18:27:47] {2391} INFO -  at 34.9s,\testimator lrl2's best error=0.0267,\tbest estimator lrl2's best error=0.0267\n",
      "[flaml.automl.logger: 12-24 18:27:47] {2218} INFO - iteration 36, current learner lrl2\n",
      "[flaml.automl.logger: 12-24 18:27:48] {2391} INFO -  at 35.5s,\testimator lrl2's best error=0.0267,\tbest estimator lrl2's best error=0.0267\n",
      "[flaml.automl.logger: 12-24 18:27:48] {2218} INFO - iteration 37, current learner lrl2\n",
      "[flaml.automl.logger: 12-24 18:27:48] {2391} INFO -  at 36.1s,\testimator lrl2's best error=0.0267,\tbest estimator lrl2's best error=0.0267\n",
      "[flaml.automl.logger: 12-24 18:27:48] {2218} INFO - iteration 38, current learner kneighbor\n",
      "[flaml.automl.logger: 12-24 18:27:49] {2391} INFO -  at 37.1s,\testimator kneighbor's best error=0.0171,\tbest estimator kneighbor's best error=0.0171\n",
      "[flaml.automl.logger: 12-24 18:27:49] {2218} INFO - iteration 39, current learner kneighbor\n",
      "[flaml.automl.logger: 12-24 18:27:50] {2391} INFO -  at 37.8s,\testimator kneighbor's best error=0.0156,\tbest estimator kneighbor's best error=0.0156\n",
      "[flaml.automl.logger: 12-24 18:27:50] {2218} INFO - iteration 40, current learner kneighbor\n",
      "[flaml.automl.logger: 12-24 18:27:51] {2391} INFO -  at 38.4s,\testimator kneighbor's best error=0.0156,\tbest estimator kneighbor's best error=0.0156\n",
      "[flaml.automl.logger: 12-24 18:27:51] {2218} INFO - iteration 41, current learner kneighbor\n",
      "[flaml.automl.logger: 12-24 18:27:51] {2391} INFO -  at 39.1s,\testimator kneighbor's best error=0.0156,\tbest estimator kneighbor's best error=0.0156\n",
      "[flaml.automl.logger: 12-24 18:27:51] {2218} INFO - iteration 42, current learner kneighbor\n",
      "[flaml.automl.logger: 12-24 18:27:52] {2391} INFO -  at 39.8s,\testimator kneighbor's best error=0.0148,\tbest estimator kneighbor's best error=0.0148\n",
      "[flaml.automl.logger: 12-24 18:27:52] {2218} INFO - iteration 43, current learner kneighbor\n",
      "[flaml.automl.logger: 12-24 18:27:53] {2391} INFO -  at 40.5s,\testimator kneighbor's best error=0.0148,\tbest estimator kneighbor's best error=0.0148\n",
      "[flaml.automl.logger: 12-24 18:27:53] {2218} INFO - iteration 44, current learner kneighbor\n",
      "[flaml.automl.logger: 12-24 18:27:54] {2391} INFO -  at 41.3s,\testimator kneighbor's best error=0.0148,\tbest estimator kneighbor's best error=0.0148\n",
      "[flaml.automl.logger: 12-24 18:27:54] {2218} INFO - iteration 45, current learner kneighbor\n",
      "[flaml.automl.logger: 12-24 18:27:54] {2391} INFO -  at 41.9s,\testimator kneighbor's best error=0.0148,\tbest estimator kneighbor's best error=0.0148\n",
      "[flaml.automl.logger: 12-24 18:27:54] {2218} INFO - iteration 46, current learner kneighbor\n",
      "[flaml.automl.logger: 12-24 18:27:55] {2391} INFO -  at 42.6s,\testimator kneighbor's best error=0.0148,\tbest estimator kneighbor's best error=0.0148\n",
      "[flaml.automl.logger: 12-24 18:27:55] {2218} INFO - iteration 47, current learner kneighbor\n",
      "[flaml.automl.logger: 12-24 18:27:56] {2391} INFO -  at 43.3s,\testimator kneighbor's best error=0.0148,\tbest estimator kneighbor's best error=0.0148\n",
      "[flaml.automl.logger: 12-24 18:27:56] {2218} INFO - iteration 48, current learner kneighbor\n",
      "[flaml.automl.logger: 12-24 18:27:56] {2391} INFO -  at 44.0s,\testimator kneighbor's best error=0.0148,\tbest estimator kneighbor's best error=0.0148\n",
      "[flaml.automl.logger: 12-24 18:27:56] {2218} INFO - iteration 49, current learner kneighbor\n",
      "[flaml.automl.logger: 12-24 18:27:57] {2391} INFO -  at 44.7s,\testimator kneighbor's best error=0.0148,\tbest estimator kneighbor's best error=0.0148\n",
      "[flaml.automl.logger: 12-24 18:27:57] {2218} INFO - iteration 50, current learner kneighbor\n",
      "[flaml.automl.logger: 12-24 18:27:58] {2391} INFO -  at 45.4s,\testimator kneighbor's best error=0.0148,\tbest estimator kneighbor's best error=0.0148\n",
      "[flaml.automl.logger: 12-24 18:27:58] {2218} INFO - iteration 51, current learner kneighbor\n",
      "[flaml.automl.logger: 12-24 18:27:59] {2391} INFO -  at 46.2s,\testimator kneighbor's best error=0.0148,\tbest estimator kneighbor's best error=0.0148\n",
      "[flaml.automl.logger: 12-24 18:27:59] {2218} INFO - iteration 52, current learner kneighbor\n",
      "[flaml.automl.logger: 12-24 18:27:59] {2419} INFO - stop trying learner kneighbor\n",
      "[flaml.automl.logger: 12-24 18:27:59] {2218} INFO - iteration 53, current learner lrl1\n"
     ]
    },
    {
     "name": "stderr",
     "output_type": "stream",
     "text": [
      "C:\\Users\\APU\\anaconda3\\Lib\\site-packages\\sklearn\\linear_model\\_sag.py:350: ConvergenceWarning: The max_iter was reached which means the coef_ did not converge\n",
      "  warnings.warn(\n",
      "C:\\Users\\APU\\anaconda3\\Lib\\site-packages\\sklearn\\linear_model\\_sag.py:350: ConvergenceWarning: The max_iter was reached which means the coef_ did not converge\n",
      "  warnings.warn(\n",
      "C:\\Users\\APU\\anaconda3\\Lib\\site-packages\\sklearn\\linear_model\\_sag.py:350: ConvergenceWarning: The max_iter was reached which means the coef_ did not converge\n",
      "  warnings.warn(\n",
      "C:\\Users\\APU\\anaconda3\\Lib\\site-packages\\sklearn\\linear_model\\_sag.py:350: ConvergenceWarning: The max_iter was reached which means the coef_ did not converge\n",
      "  warnings.warn(\n"
     ]
    },
    {
     "name": "stdout",
     "output_type": "stream",
     "text": [
      "[flaml.automl.logger: 12-24 18:28:04] {2391} INFO -  at 51.6s,\testimator lrl1's best error=0.0297,\tbest estimator kneighbor's best error=0.0148\n",
      "[flaml.automl.logger: 12-24 18:28:04] {2218} INFO - iteration 54, current learner rf\n"
     ]
    },
    {
     "name": "stderr",
     "output_type": "stream",
     "text": [
      "C:\\Users\\APU\\anaconda3\\Lib\\site-packages\\sklearn\\linear_model\\_sag.py:350: ConvergenceWarning: The max_iter was reached which means the coef_ did not converge\n",
      "  warnings.warn(\n"
     ]
    },
    {
     "name": "stdout",
     "output_type": "stream",
     "text": [
      "[flaml.automl.logger: 12-24 18:28:05] {2391} INFO -  at 52.3s,\testimator rf's best error=0.0282,\tbest estimator kneighbor's best error=0.0148\n",
      "[flaml.automl.logger: 12-24 18:28:05] {2218} INFO - iteration 55, current learner lrl1\n"
     ]
    },
    {
     "name": "stderr",
     "output_type": "stream",
     "text": [
      "C:\\Users\\APU\\anaconda3\\Lib\\site-packages\\sklearn\\linear_model\\_sag.py:350: ConvergenceWarning: The max_iter was reached which means the coef_ did not converge\n",
      "  warnings.warn(\n",
      "C:\\Users\\APU\\anaconda3\\Lib\\site-packages\\sklearn\\linear_model\\_sag.py:350: ConvergenceWarning: The max_iter was reached which means the coef_ did not converge\n",
      "  warnings.warn(\n",
      "C:\\Users\\APU\\anaconda3\\Lib\\site-packages\\sklearn\\linear_model\\_sag.py:350: ConvergenceWarning: The max_iter was reached which means the coef_ did not converge\n",
      "  warnings.warn(\n",
      "C:\\Users\\APU\\anaconda3\\Lib\\site-packages\\sklearn\\linear_model\\_sag.py:350: ConvergenceWarning: The max_iter was reached which means the coef_ did not converge\n",
      "  warnings.warn(\n"
     ]
    },
    {
     "name": "stdout",
     "output_type": "stream",
     "text": [
      "[flaml.automl.logger: 12-24 18:28:10] {2391} INFO -  at 57.4s,\testimator lrl1's best error=0.0297,\tbest estimator kneighbor's best error=0.0148\n",
      "[flaml.automl.logger: 12-24 18:28:10] {2218} INFO - iteration 56, current learner lrl1\n"
     ]
    },
    {
     "name": "stderr",
     "output_type": "stream",
     "text": [
      "C:\\Users\\APU\\anaconda3\\Lib\\site-packages\\sklearn\\linear_model\\_sag.py:350: ConvergenceWarning: The max_iter was reached which means the coef_ did not converge\n",
      "  warnings.warn(\n",
      "C:\\Users\\APU\\anaconda3\\Lib\\site-packages\\sklearn\\linear_model\\_sag.py:350: ConvergenceWarning: The max_iter was reached which means the coef_ did not converge\n",
      "  warnings.warn(\n",
      "C:\\Users\\APU\\anaconda3\\Lib\\site-packages\\sklearn\\linear_model\\_sag.py:350: ConvergenceWarning: The max_iter was reached which means the coef_ did not converge\n",
      "  warnings.warn(\n",
      "C:\\Users\\APU\\anaconda3\\Lib\\site-packages\\sklearn\\linear_model\\_sag.py:350: ConvergenceWarning: The max_iter was reached which means the coef_ did not converge\n",
      "  warnings.warn(\n",
      "C:\\Users\\APU\\anaconda3\\Lib\\site-packages\\sklearn\\linear_model\\_sag.py:350: ConvergenceWarning: The max_iter was reached which means the coef_ did not converge\n",
      "  warnings.warn(\n"
     ]
    },
    {
     "name": "stdout",
     "output_type": "stream",
     "text": [
      "[flaml.automl.logger: 12-24 18:28:15] {2391} INFO -  at 63.0s,\testimator lrl1's best error=0.0297,\tbest estimator kneighbor's best error=0.0148\n",
      "[flaml.automl.logger: 12-24 18:28:15] {2218} INFO - iteration 57, current learner lrl1\n"
     ]
    },
    {
     "name": "stderr",
     "output_type": "stream",
     "text": [
      "C:\\Users\\APU\\anaconda3\\Lib\\site-packages\\sklearn\\linear_model\\_sag.py:350: ConvergenceWarning: The max_iter was reached which means the coef_ did not converge\n",
      "  warnings.warn(\n",
      "C:\\Users\\APU\\anaconda3\\Lib\\site-packages\\sklearn\\linear_model\\_sag.py:350: ConvergenceWarning: The max_iter was reached which means the coef_ did not converge\n",
      "  warnings.warn(\n",
      "C:\\Users\\APU\\anaconda3\\Lib\\site-packages\\sklearn\\linear_model\\_sag.py:350: ConvergenceWarning: The max_iter was reached which means the coef_ did not converge\n",
      "  warnings.warn(\n",
      "C:\\Users\\APU\\anaconda3\\Lib\\site-packages\\sklearn\\linear_model\\_sag.py:350: ConvergenceWarning: The max_iter was reached which means the coef_ did not converge\n",
      "  warnings.warn(\n",
      "C:\\Users\\APU\\anaconda3\\Lib\\site-packages\\sklearn\\linear_model\\_sag.py:350: ConvergenceWarning: The max_iter was reached which means the coef_ did not converge\n",
      "  warnings.warn(\n"
     ]
    },
    {
     "name": "stdout",
     "output_type": "stream",
     "text": [
      "[flaml.automl.logger: 12-24 18:28:21] {2391} INFO -  at 68.4s,\testimator lrl1's best error=0.0297,\tbest estimator kneighbor's best error=0.0148\n",
      "[flaml.automl.logger: 12-24 18:28:21] {2218} INFO - iteration 58, current learner lrl1\n"
     ]
    },
    {
     "name": "stderr",
     "output_type": "stream",
     "text": [
      "C:\\Users\\APU\\anaconda3\\Lib\\site-packages\\sklearn\\linear_model\\_sag.py:350: ConvergenceWarning: The max_iter was reached which means the coef_ did not converge\n",
      "  warnings.warn(\n",
      "C:\\Users\\APU\\anaconda3\\Lib\\site-packages\\sklearn\\linear_model\\_sag.py:350: ConvergenceWarning: The max_iter was reached which means the coef_ did not converge\n",
      "  warnings.warn(\n",
      "C:\\Users\\APU\\anaconda3\\Lib\\site-packages\\sklearn\\linear_model\\_sag.py:350: ConvergenceWarning: The max_iter was reached which means the coef_ did not converge\n",
      "  warnings.warn(\n",
      "C:\\Users\\APU\\anaconda3\\Lib\\site-packages\\sklearn\\linear_model\\_sag.py:350: ConvergenceWarning: The max_iter was reached which means the coef_ did not converge\n",
      "  warnings.warn(\n",
      "C:\\Users\\APU\\anaconda3\\Lib\\site-packages\\sklearn\\linear_model\\_sag.py:350: ConvergenceWarning: The max_iter was reached which means the coef_ did not converge\n",
      "  warnings.warn(\n"
     ]
    },
    {
     "name": "stdout",
     "output_type": "stream",
     "text": [
      "[flaml.automl.logger: 12-24 18:28:26] {2391} INFO -  at 73.6s,\testimator lrl1's best error=0.0282,\tbest estimator kneighbor's best error=0.0148\n",
      "[flaml.automl.logger: 12-24 18:28:26] {2218} INFO - iteration 59, current learner rf\n"
     ]
    },
    {
     "name": "stderr",
     "output_type": "stream",
     "text": [
      "C:\\Users\\APU\\anaconda3\\Lib\\site-packages\\sklearn\\linear_model\\_sag.py:350: ConvergenceWarning: The max_iter was reached which means the coef_ did not converge\n",
      "  warnings.warn(\n"
     ]
    },
    {
     "name": "stdout",
     "output_type": "stream",
     "text": [
      "[flaml.automl.logger: 12-24 18:28:28] {2391} INFO -  at 76.1s,\testimator rf's best error=0.0267,\tbest estimator kneighbor's best error=0.0148\n",
      "[flaml.automl.logger: 12-24 18:28:28] {2218} INFO - iteration 60, current learner lrl2\n",
      "[flaml.automl.logger: 12-24 18:28:29] {2391} INFO -  at 76.6s,\testimator lrl2's best error=0.0267,\tbest estimator kneighbor's best error=0.0148\n",
      "[flaml.automl.logger: 12-24 18:28:29] {2218} INFO - iteration 61, current learner rf\n",
      "[flaml.automl.logger: 12-24 18:28:30] {2391} INFO -  at 77.7s,\testimator rf's best error=0.0267,\tbest estimator kneighbor's best error=0.0148\n",
      "[flaml.automl.logger: 12-24 18:28:30] {2218} INFO - iteration 62, current learner lrl2\n",
      "[flaml.automl.logger: 12-24 18:28:31] {2391} INFO -  at 78.3s,\testimator lrl2's best error=0.0267,\tbest estimator kneighbor's best error=0.0148\n",
      "[flaml.automl.logger: 12-24 18:28:31] {2218} INFO - iteration 63, current learner lrl2\n",
      "[flaml.automl.logger: 12-24 18:28:31] {2391} INFO -  at 78.9s,\testimator lrl2's best error=0.0267,\tbest estimator kneighbor's best error=0.0148\n",
      "[flaml.automl.logger: 12-24 18:28:31] {2218} INFO - iteration 64, current learner rf\n",
      "[flaml.automl.logger: 12-24 18:28:34] {2391} INFO -  at 81.8s,\testimator rf's best error=0.0245,\tbest estimator kneighbor's best error=0.0148\n",
      "[flaml.automl.logger: 12-24 18:28:34] {2218} INFO - iteration 65, current learner rf\n",
      "[flaml.automl.logger: 12-24 18:28:36] {2391} INFO -  at 83.9s,\testimator rf's best error=0.0245,\tbest estimator kneighbor's best error=0.0148\n",
      "[flaml.automl.logger: 12-24 18:28:36] {2218} INFO - iteration 66, current learner lrl1\n"
     ]
    },
    {
     "name": "stderr",
     "output_type": "stream",
     "text": [
      "C:\\Users\\APU\\anaconda3\\Lib\\site-packages\\sklearn\\linear_model\\_sag.py:350: ConvergenceWarning: The max_iter was reached which means the coef_ did not converge\n",
      "  warnings.warn(\n",
      "C:\\Users\\APU\\anaconda3\\Lib\\site-packages\\sklearn\\linear_model\\_sag.py:350: ConvergenceWarning: The max_iter was reached which means the coef_ did not converge\n",
      "  warnings.warn(\n",
      "C:\\Users\\APU\\anaconda3\\Lib\\site-packages\\sklearn\\linear_model\\_sag.py:350: ConvergenceWarning: The max_iter was reached which means the coef_ did not converge\n",
      "  warnings.warn(\n",
      "C:\\Users\\APU\\anaconda3\\Lib\\site-packages\\sklearn\\linear_model\\_sag.py:350: ConvergenceWarning: The max_iter was reached which means the coef_ did not converge\n",
      "  warnings.warn(\n"
     ]
    },
    {
     "name": "stdout",
     "output_type": "stream",
     "text": [
      "[flaml.automl.logger: 12-24 18:28:42] {2391} INFO -  at 89.2s,\testimator lrl1's best error=0.0282,\tbest estimator kneighbor's best error=0.0148\n",
      "[flaml.automl.logger: 12-24 18:28:42] {2218} INFO - iteration 67, current learner rf\n"
     ]
    },
    {
     "name": "stderr",
     "output_type": "stream",
     "text": [
      "C:\\Users\\APU\\anaconda3\\Lib\\site-packages\\sklearn\\linear_model\\_sag.py:350: ConvergenceWarning: The max_iter was reached which means the coef_ did not converge\n",
      "  warnings.warn(\n"
     ]
    },
    {
     "name": "stdout",
     "output_type": "stream",
     "text": [
      "[flaml.automl.logger: 12-24 18:28:48] {2391} INFO -  at 95.5s,\testimator rf's best error=0.0230,\tbest estimator kneighbor's best error=0.0148\n",
      "[flaml.automl.logger: 12-24 18:28:48] {2218} INFO - iteration 68, current learner rf\n",
      "[flaml.automl.logger: 12-24 18:28:51] {2391} INFO -  at 98.8s,\testimator rf's best error=0.0230,\tbest estimator kneighbor's best error=0.0148\n",
      "[flaml.automl.logger: 12-24 18:28:51] {2218} INFO - iteration 69, current learner lrl2\n",
      "[flaml.automl.logger: 12-24 18:28:52] {2391} INFO -  at 99.3s,\testimator lrl2's best error=0.0267,\tbest estimator kneighbor's best error=0.0148\n",
      "[flaml.automl.logger: 12-24 18:28:52] {2218} INFO - iteration 70, current learner lrl2\n",
      "[flaml.automl.logger: 12-24 18:28:52] {2391} INFO -  at 99.9s,\testimator lrl2's best error=0.0267,\tbest estimator kneighbor's best error=0.0148\n",
      "[flaml.automl.logger: 12-24 18:28:52] {2218} INFO - iteration 71, current learner lrl1\n"
     ]
    },
    {
     "name": "stderr",
     "output_type": "stream",
     "text": [
      "C:\\Users\\APU\\anaconda3\\Lib\\site-packages\\sklearn\\linear_model\\_sag.py:350: ConvergenceWarning: The max_iter was reached which means the coef_ did not converge\n",
      "  warnings.warn(\n",
      "C:\\Users\\APU\\anaconda3\\Lib\\site-packages\\sklearn\\linear_model\\_sag.py:350: ConvergenceWarning: The max_iter was reached which means the coef_ did not converge\n",
      "  warnings.warn(\n",
      "C:\\Users\\APU\\anaconda3\\Lib\\site-packages\\sklearn\\linear_model\\_sag.py:350: ConvergenceWarning: The max_iter was reached which means the coef_ did not converge\n",
      "  warnings.warn(\n",
      "C:\\Users\\APU\\anaconda3\\Lib\\site-packages\\sklearn\\linear_model\\_sag.py:350: ConvergenceWarning: The max_iter was reached which means the coef_ did not converge\n",
      "  warnings.warn(\n"
     ]
    },
    {
     "name": "stdout",
     "output_type": "stream",
     "text": [
      "[flaml.automl.logger: 12-24 18:28:57] {2391} INFO -  at 104.9s,\testimator lrl1's best error=0.0282,\tbest estimator kneighbor's best error=0.0148\n",
      "[flaml.automl.logger: 12-24 18:28:57] {2218} INFO - iteration 72, current learner lrl2\n"
     ]
    },
    {
     "name": "stderr",
     "output_type": "stream",
     "text": [
      "C:\\Users\\APU\\anaconda3\\Lib\\site-packages\\sklearn\\linear_model\\_sag.py:350: ConvergenceWarning: The max_iter was reached which means the coef_ did not converge\n",
      "  warnings.warn(\n"
     ]
    },
    {
     "name": "stdout",
     "output_type": "stream",
     "text": [
      "[flaml.automl.logger: 12-24 18:28:58] {2391} INFO -  at 105.4s,\testimator lrl2's best error=0.0267,\tbest estimator kneighbor's best error=0.0148\n",
      "[flaml.automl.logger: 12-24 18:28:58] {2218} INFO - iteration 73, current learner lrl2\n",
      "[flaml.automl.logger: 12-24 18:28:59] {2391} INFO -  at 106.2s,\testimator lrl2's best error=0.0267,\tbest estimator kneighbor's best error=0.0148\n",
      "[flaml.automl.logger: 12-24 18:28:59] {2218} INFO - iteration 74, current learner lrl2\n",
      "[flaml.automl.logger: 12-24 18:28:59] {2391} INFO -  at 106.8s,\testimator lrl2's best error=0.0267,\tbest estimator kneighbor's best error=0.0148\n",
      "[flaml.automl.logger: 12-24 18:28:59] {2218} INFO - iteration 75, current learner rf\n",
      "[flaml.automl.logger: 12-24 18:29:15] {2391} INFO -  at 122.4s,\testimator rf's best error=0.0223,\tbest estimator kneighbor's best error=0.0148\n",
      "[flaml.automl.logger: 12-24 18:29:15] {2218} INFO - iteration 76, current learner rf\n",
      "[flaml.automl.logger: 12-24 18:29:20] {2391} INFO -  at 128.0s,\testimator rf's best error=0.0223,\tbest estimator kneighbor's best error=0.0148\n",
      "[flaml.automl.logger: 12-24 18:29:20] {2218} INFO - iteration 77, current learner lrl2\n",
      "[flaml.automl.logger: 12-24 18:29:21] {2391} INFO -  at 128.6s,\testimator lrl2's best error=0.0267,\tbest estimator kneighbor's best error=0.0148\n",
      "[flaml.automl.logger: 12-24 18:29:21] {2218} INFO - iteration 78, current learner lrl2\n",
      "[flaml.automl.logger: 12-24 18:29:21] {2391} INFO -  at 129.1s,\testimator lrl2's best error=0.0267,\tbest estimator kneighbor's best error=0.0148\n",
      "[flaml.automl.logger: 12-24 18:29:22] {2218} INFO - iteration 79, current learner rf\n",
      "[flaml.automl.logger: 12-24 18:29:38] {2391} INFO -  at 145.2s,\testimator rf's best error=0.0223,\tbest estimator kneighbor's best error=0.0148\n",
      "[flaml.automl.logger: 12-24 18:29:38] {2218} INFO - iteration 80, current learner lrl2\n",
      "[flaml.automl.logger: 12-24 18:29:38] {2391} INFO -  at 145.8s,\testimator lrl2's best error=0.0267,\tbest estimator kneighbor's best error=0.0148\n",
      "[flaml.automl.logger: 12-24 18:29:38] {2218} INFO - iteration 81, current learner lrl1\n"
     ]
    },
    {
     "name": "stderr",
     "output_type": "stream",
     "text": [
      "C:\\Users\\APU\\anaconda3\\Lib\\site-packages\\sklearn\\linear_model\\_sag.py:350: ConvergenceWarning: The max_iter was reached which means the coef_ did not converge\n",
      "  warnings.warn(\n",
      "C:\\Users\\APU\\anaconda3\\Lib\\site-packages\\sklearn\\linear_model\\_sag.py:350: ConvergenceWarning: The max_iter was reached which means the coef_ did not converge\n",
      "  warnings.warn(\n",
      "C:\\Users\\APU\\anaconda3\\Lib\\site-packages\\sklearn\\linear_model\\_sag.py:350: ConvergenceWarning: The max_iter was reached which means the coef_ did not converge\n",
      "  warnings.warn(\n",
      "C:\\Users\\APU\\anaconda3\\Lib\\site-packages\\sklearn\\linear_model\\_sag.py:350: ConvergenceWarning: The max_iter was reached which means the coef_ did not converge\n",
      "  warnings.warn(\n"
     ]
    },
    {
     "name": "stdout",
     "output_type": "stream",
     "text": [
      "[flaml.automl.logger: 12-24 18:29:43] {2391} INFO -  at 150.9s,\testimator lrl1's best error=0.0282,\tbest estimator kneighbor's best error=0.0148\n",
      "[flaml.automl.logger: 12-24 18:29:43] {2218} INFO - iteration 82, current learner lrl2\n"
     ]
    },
    {
     "name": "stderr",
     "output_type": "stream",
     "text": [
      "C:\\Users\\APU\\anaconda3\\Lib\\site-packages\\sklearn\\linear_model\\_sag.py:350: ConvergenceWarning: The max_iter was reached which means the coef_ did not converge\n",
      "  warnings.warn(\n"
     ]
    },
    {
     "name": "stdout",
     "output_type": "stream",
     "text": [
      "[flaml.automl.logger: 12-24 18:29:44] {2391} INFO -  at 151.5s,\testimator lrl2's best error=0.0267,\tbest estimator kneighbor's best error=0.0148\n",
      "[flaml.automl.logger: 12-24 18:29:44] {2218} INFO - iteration 83, current learner lrl2\n",
      "[flaml.automl.logger: 12-24 18:29:44] {2391} INFO -  at 152.0s,\testimator lrl2's best error=0.0267,\tbest estimator kneighbor's best error=0.0148\n",
      "[flaml.automl.logger: 12-24 18:29:44] {2218} INFO - iteration 84, current learner lrl2\n",
      "[flaml.automl.logger: 12-24 18:29:45] {2391} INFO -  at 152.5s,\testimator lrl2's best error=0.0267,\tbest estimator kneighbor's best error=0.0148\n",
      "[flaml.automl.logger: 12-24 18:29:45] {2218} INFO - iteration 85, current learner lrl2\n",
      "[flaml.automl.logger: 12-24 18:29:45] {2391} INFO -  at 153.1s,\testimator lrl2's best error=0.0267,\tbest estimator kneighbor's best error=0.0148\n",
      "[flaml.automl.logger: 12-24 18:29:45] {2218} INFO - iteration 86, current learner lrl2\n",
      "[flaml.automl.logger: 12-24 18:29:46] {2391} INFO -  at 153.6s,\testimator lrl2's best error=0.0267,\tbest estimator kneighbor's best error=0.0148\n",
      "[flaml.automl.logger: 12-24 18:29:46] {2218} INFO - iteration 87, current learner lrl1\n"
     ]
    },
    {
     "name": "stderr",
     "output_type": "stream",
     "text": [
      "C:\\Users\\APU\\anaconda3\\Lib\\site-packages\\sklearn\\linear_model\\_sag.py:350: ConvergenceWarning: The max_iter was reached which means the coef_ did not converge\n",
      "  warnings.warn(\n",
      "C:\\Users\\APU\\anaconda3\\Lib\\site-packages\\sklearn\\linear_model\\_sag.py:350: ConvergenceWarning: The max_iter was reached which means the coef_ did not converge\n",
      "  warnings.warn(\n",
      "C:\\Users\\APU\\anaconda3\\Lib\\site-packages\\sklearn\\linear_model\\_sag.py:350: ConvergenceWarning: The max_iter was reached which means the coef_ did not converge\n",
      "  warnings.warn(\n",
      "C:\\Users\\APU\\anaconda3\\Lib\\site-packages\\sklearn\\linear_model\\_sag.py:350: ConvergenceWarning: The max_iter was reached which means the coef_ did not converge\n",
      "  warnings.warn(\n"
     ]
    },
    {
     "name": "stdout",
     "output_type": "stream",
     "text": [
      "[flaml.automl.logger: 12-24 18:29:51] {2391} INFO -  at 158.9s,\testimator lrl1's best error=0.0282,\tbest estimator kneighbor's best error=0.0148\n",
      "[flaml.automl.logger: 12-24 18:29:51] {2218} INFO - iteration 88, current learner lrl1\n"
     ]
    },
    {
     "name": "stderr",
     "output_type": "stream",
     "text": [
      "C:\\Users\\APU\\anaconda3\\Lib\\site-packages\\sklearn\\linear_model\\_sag.py:350: ConvergenceWarning: The max_iter was reached which means the coef_ did not converge\n",
      "  warnings.warn(\n",
      "C:\\Users\\APU\\anaconda3\\Lib\\site-packages\\sklearn\\linear_model\\_sag.py:350: ConvergenceWarning: The max_iter was reached which means the coef_ did not converge\n",
      "  warnings.warn(\n",
      "C:\\Users\\APU\\anaconda3\\Lib\\site-packages\\sklearn\\linear_model\\_sag.py:350: ConvergenceWarning: The max_iter was reached which means the coef_ did not converge\n",
      "  warnings.warn(\n",
      "C:\\Users\\APU\\anaconda3\\Lib\\site-packages\\sklearn\\linear_model\\_sag.py:350: ConvergenceWarning: The max_iter was reached which means the coef_ did not converge\n",
      "  warnings.warn(\n",
      "C:\\Users\\APU\\anaconda3\\Lib\\site-packages\\sklearn\\linear_model\\_sag.py:350: ConvergenceWarning: The max_iter was reached which means the coef_ did not converge\n",
      "  warnings.warn(\n"
     ]
    },
    {
     "name": "stdout",
     "output_type": "stream",
     "text": [
      "[flaml.automl.logger: 12-24 18:29:56] {2391} INFO -  at 164.0s,\testimator lrl1's best error=0.0282,\tbest estimator kneighbor's best error=0.0148\n",
      "[flaml.automl.logger: 12-24 18:29:56] {2218} INFO - iteration 89, current learner lrl2\n"
     ]
    },
    {
     "name": "stderr",
     "output_type": "stream",
     "text": [
      "C:\\Users\\APU\\anaconda3\\Lib\\site-packages\\sklearn\\linear_model\\_sag.py:350: ConvergenceWarning: The max_iter was reached which means the coef_ did not converge\n",
      "  warnings.warn(\n"
     ]
    },
    {
     "name": "stdout",
     "output_type": "stream",
     "text": [
      "[flaml.automl.logger: 12-24 18:29:57] {2391} INFO -  at 164.5s,\testimator lrl2's best error=0.0267,\tbest estimator kneighbor's best error=0.0148\n",
      "[flaml.automl.logger: 12-24 18:29:57] {2218} INFO - iteration 90, current learner lrl2\n",
      "[flaml.automl.logger: 12-24 18:29:57] {2391} INFO -  at 165.1s,\testimator lrl2's best error=0.0267,\tbest estimator kneighbor's best error=0.0148\n",
      "[flaml.automl.logger: 12-24 18:29:57] {2218} INFO - iteration 91, current learner lrl2\n",
      "[flaml.automl.logger: 12-24 18:29:58] {2391} INFO -  at 165.7s,\testimator lrl2's best error=0.0267,\tbest estimator kneighbor's best error=0.0148\n",
      "[flaml.automl.logger: 12-24 18:29:58] {2218} INFO - iteration 92, current learner lrl2\n",
      "[flaml.automl.logger: 12-24 18:29:59] {2391} INFO -  at 166.3s,\testimator lrl2's best error=0.0267,\tbest estimator kneighbor's best error=0.0148\n",
      "[flaml.automl.logger: 12-24 18:29:59] {2218} INFO - iteration 93, current learner lrl2\n",
      "[flaml.automl.logger: 12-24 18:29:59] {2391} INFO -  at 167.0s,\testimator lrl2's best error=0.0267,\tbest estimator kneighbor's best error=0.0148\n",
      "[flaml.automl.logger: 12-24 18:29:59] {2218} INFO - iteration 94, current learner rf\n",
      "[flaml.automl.logger: 12-24 18:30:13] {2391} INFO -  at 180.9s,\testimator rf's best error=0.0223,\tbest estimator kneighbor's best error=0.0148\n",
      "[flaml.automl.logger: 12-24 18:30:13] {2218} INFO - iteration 95, current learner lrl2\n",
      "[flaml.automl.logger: 12-24 18:30:14] {2391} INFO -  at 181.4s,\testimator lrl2's best error=0.0267,\tbest estimator kneighbor's best error=0.0148\n",
      "[flaml.automl.logger: 12-24 18:30:14] {2218} INFO - iteration 96, current learner lrl2\n",
      "[flaml.automl.logger: 12-24 18:30:14] {2391} INFO -  at 182.0s,\testimator lrl2's best error=0.0267,\tbest estimator kneighbor's best error=0.0148\n",
      "[flaml.automl.logger: 12-24 18:30:14] {2218} INFO - iteration 97, current learner lrl2\n",
      "[flaml.automl.logger: 12-24 18:30:15] {2391} INFO -  at 182.6s,\testimator lrl2's best error=0.0267,\tbest estimator kneighbor's best error=0.0148\n",
      "[flaml.automl.logger: 12-24 18:30:15] {2218} INFO - iteration 98, current learner lrl2\n",
      "[flaml.automl.logger: 12-24 18:30:16] {2391} INFO -  at 183.1s,\testimator lrl2's best error=0.0267,\tbest estimator kneighbor's best error=0.0148\n",
      "[flaml.automl.logger: 12-24 18:30:16] {2218} INFO - iteration 99, current learner lrl1\n"
     ]
    },
    {
     "name": "stderr",
     "output_type": "stream",
     "text": [
      "C:\\Users\\APU\\anaconda3\\Lib\\site-packages\\sklearn\\linear_model\\_sag.py:350: ConvergenceWarning: The max_iter was reached which means the coef_ did not converge\n",
      "  warnings.warn(\n",
      "C:\\Users\\APU\\anaconda3\\Lib\\site-packages\\sklearn\\linear_model\\_sag.py:350: ConvergenceWarning: The max_iter was reached which means the coef_ did not converge\n",
      "  warnings.warn(\n",
      "C:\\Users\\APU\\anaconda3\\Lib\\site-packages\\sklearn\\linear_model\\_sag.py:350: ConvergenceWarning: The max_iter was reached which means the coef_ did not converge\n",
      "  warnings.warn(\n",
      "C:\\Users\\APU\\anaconda3\\Lib\\site-packages\\sklearn\\linear_model\\_sag.py:350: ConvergenceWarning: The max_iter was reached which means the coef_ did not converge\n",
      "  warnings.warn(\n"
     ]
    },
    {
     "name": "stdout",
     "output_type": "stream",
     "text": [
      "[flaml.automl.logger: 12-24 18:30:21] {2391} INFO -  at 188.4s,\testimator lrl1's best error=0.0282,\tbest estimator kneighbor's best error=0.0148\n",
      "[flaml.automl.logger: 12-24 18:30:21] {2218} INFO - iteration 100, current learner lrl2\n"
     ]
    },
    {
     "name": "stderr",
     "output_type": "stream",
     "text": [
      "C:\\Users\\APU\\anaconda3\\Lib\\site-packages\\sklearn\\linear_model\\_sag.py:350: ConvergenceWarning: The max_iter was reached which means the coef_ did not converge\n",
      "  warnings.warn(\n"
     ]
    },
    {
     "name": "stdout",
     "output_type": "stream",
     "text": [
      "[flaml.automl.logger: 12-24 18:30:21] {2391} INFO -  at 188.9s,\testimator lrl2's best error=0.0267,\tbest estimator kneighbor's best error=0.0148\n",
      "[flaml.automl.logger: 12-24 18:30:21] {2218} INFO - iteration 101, current learner lrl2\n",
      "[flaml.automl.logger: 12-24 18:30:22] {2391} INFO -  at 189.4s,\testimator lrl2's best error=0.0267,\tbest estimator kneighbor's best error=0.0148\n",
      "[flaml.automl.logger: 12-24 18:30:22] {2218} INFO - iteration 102, current learner rf\n",
      "[flaml.automl.logger: 12-24 18:30:30] {2391} INFO -  at 197.6s,\testimator rf's best error=0.0208,\tbest estimator kneighbor's best error=0.0148\n",
      "[flaml.automl.logger: 12-24 18:30:30] {2218} INFO - iteration 103, current learner lrl2\n",
      "[flaml.automl.logger: 12-24 18:30:30] {2391} INFO -  at 198.1s,\testimator lrl2's best error=0.0267,\tbest estimator kneighbor's best error=0.0148\n",
      "[flaml.automl.logger: 12-24 18:30:30] {2218} INFO - iteration 104, current learner rf\n",
      "[flaml.automl.logger: 12-24 18:30:45] {2391} INFO -  at 212.3s,\testimator rf's best error=0.0208,\tbest estimator kneighbor's best error=0.0148\n",
      "[flaml.automl.logger: 12-24 18:30:45] {2218} INFO - iteration 105, current learner lrl2\n",
      "[flaml.automl.logger: 12-24 18:30:45] {2391} INFO -  at 212.8s,\testimator lrl2's best error=0.0267,\tbest estimator kneighbor's best error=0.0148\n",
      "[flaml.automl.logger: 12-24 18:30:45] {2218} INFO - iteration 106, current learner lrl2\n",
      "[flaml.automl.logger: 12-24 18:30:46] {2391} INFO -  at 213.4s,\testimator lrl2's best error=0.0267,\tbest estimator kneighbor's best error=0.0148\n",
      "[flaml.automl.logger: 12-24 18:30:46] {2218} INFO - iteration 107, current learner rf\n",
      "[flaml.automl.logger: 12-24 18:30:52] {2391} INFO -  at 219.5s,\testimator rf's best error=0.0208,\tbest estimator kneighbor's best error=0.0148\n",
      "[flaml.automl.logger: 12-24 18:30:52] {2218} INFO - iteration 108, current learner lrl2\n",
      "[flaml.automl.logger: 12-24 18:30:52] {2391} INFO -  at 220.0s,\testimator lrl2's best error=0.0267,\tbest estimator kneighbor's best error=0.0148\n",
      "[flaml.automl.logger: 12-24 18:30:52] {2218} INFO - iteration 109, current learner lrl2\n",
      "[flaml.automl.logger: 12-24 18:30:53] {2391} INFO -  at 220.7s,\testimator lrl2's best error=0.0267,\tbest estimator kneighbor's best error=0.0148\n",
      "[flaml.automl.logger: 12-24 18:30:53] {2218} INFO - iteration 110, current learner rf\n",
      "[flaml.automl.logger: 12-24 18:31:04] {2391} INFO -  at 231.2s,\testimator rf's best error=0.0208,\tbest estimator kneighbor's best error=0.0148\n",
      "[flaml.automl.logger: 12-24 18:31:04] {2218} INFO - iteration 111, current learner lrl2\n",
      "[flaml.automl.logger: 12-24 18:31:04] {2391} INFO -  at 231.7s,\testimator lrl2's best error=0.0267,\tbest estimator kneighbor's best error=0.0148\n",
      "[flaml.automl.logger: 12-24 18:31:04] {2218} INFO - iteration 112, current learner lrl2\n",
      "[flaml.automl.logger: 12-24 18:31:05] {2391} INFO -  at 232.4s,\testimator lrl2's best error=0.0267,\tbest estimator kneighbor's best error=0.0148\n",
      "[flaml.automl.logger: 12-24 18:31:05] {2218} INFO - iteration 113, current learner lrl2\n",
      "[flaml.automl.logger: 12-24 18:31:05] {2391} INFO -  at 232.9s,\testimator lrl2's best error=0.0267,\tbest estimator kneighbor's best error=0.0148\n",
      "[flaml.automl.logger: 12-24 18:31:05] {2218} INFO - iteration 114, current learner rf\n",
      "[flaml.automl.logger: 12-24 18:31:13] {2391} INFO -  at 240.4s,\testimator rf's best error=0.0208,\tbest estimator kneighbor's best error=0.0148\n",
      "[flaml.automl.logger: 12-24 18:31:13] {2218} INFO - iteration 115, current learner rf\n",
      "[flaml.automl.logger: 12-24 18:31:21] {2391} INFO -  at 248.7s,\testimator rf's best error=0.0208,\tbest estimator kneighbor's best error=0.0148\n",
      "[flaml.automl.logger: 12-24 18:31:21] {2218} INFO - iteration 116, current learner lrl2\n",
      "[flaml.automl.logger: 12-24 18:31:22] {2391} INFO -  at 249.2s,\testimator lrl2's best error=0.0267,\tbest estimator kneighbor's best error=0.0148\n",
      "[flaml.automl.logger: 12-24 18:31:22] {2218} INFO - iteration 117, current learner lrl2\n",
      "[flaml.automl.logger: 12-24 18:31:22] {2391} INFO -  at 250.1s,\testimator lrl2's best error=0.0267,\tbest estimator kneighbor's best error=0.0148\n",
      "[flaml.automl.logger: 12-24 18:31:22] {2218} INFO - iteration 118, current learner rf\n",
      "[flaml.automl.logger: 12-24 18:31:29] {2391} INFO -  at 256.5s,\testimator rf's best error=0.0208,\tbest estimator kneighbor's best error=0.0148\n",
      "[flaml.automl.logger: 12-24 18:31:29] {2218} INFO - iteration 119, current learner lrl2\n",
      "[flaml.automl.logger: 12-24 18:31:29] {2391} INFO -  at 257.0s,\testimator lrl2's best error=0.0267,\tbest estimator kneighbor's best error=0.0148\n",
      "[flaml.automl.logger: 12-24 18:31:29] {2218} INFO - iteration 120, current learner lrl2\n",
      "[flaml.automl.logger: 12-24 18:31:30] {2391} INFO -  at 257.7s,\testimator lrl2's best error=0.0267,\tbest estimator kneighbor's best error=0.0148\n",
      "[flaml.automl.logger: 12-24 18:31:30] {2218} INFO - iteration 121, current learner lrl2\n",
      "[flaml.automl.logger: 12-24 18:31:31] {2391} INFO -  at 258.2s,\testimator lrl2's best error=0.0267,\tbest estimator kneighbor's best error=0.0148\n",
      "[flaml.automl.logger: 12-24 18:31:31] {2218} INFO - iteration 122, current learner lrl2\n",
      "[flaml.automl.logger: 12-24 18:31:31] {2391} INFO -  at 258.9s,\testimator lrl2's best error=0.0267,\tbest estimator kneighbor's best error=0.0148\n",
      "[flaml.automl.logger: 12-24 18:31:31] {2218} INFO - iteration 123, current learner rf\n",
      "[flaml.automl.logger: 12-24 18:31:41] {2391} INFO -  at 268.6s,\testimator rf's best error=0.0208,\tbest estimator kneighbor's best error=0.0148\n",
      "[flaml.automl.logger: 12-24 18:31:41] {2218} INFO - iteration 124, current learner rf\n",
      "[flaml.automl.logger: 12-24 18:31:49] {2391} INFO -  at 276.5s,\testimator rf's best error=0.0208,\tbest estimator kneighbor's best error=0.0148\n",
      "[flaml.automl.logger: 12-24 18:31:49] {2218} INFO - iteration 125, current learner rf\n",
      "[flaml.automl.logger: 12-24 18:31:57] {2391} INFO -  at 284.3s,\testimator rf's best error=0.0208,\tbest estimator kneighbor's best error=0.0148\n",
      "[flaml.automl.logger: 12-24 18:31:57] {2218} INFO - iteration 126, current learner rf\n",
      "[flaml.automl.logger: 12-24 18:32:05] {2391} INFO -  at 293.1s,\testimator rf's best error=0.0208,\tbest estimator kneighbor's best error=0.0148\n",
      "[flaml.automl.logger: 12-24 18:32:05] {2218} INFO - iteration 127, current learner rf\n",
      "[flaml.automl.logger: 12-24 18:32:13] {2391} INFO -  at 300.3s,\testimator rf's best error=0.0208,\tbest estimator kneighbor's best error=0.0148\n",
      "[flaml.automl.logger: 12-24 18:32:13] {2218} INFO - iteration 128, current learner lrl2\n",
      "[flaml.automl.logger: 12-24 18:32:13] {2391} INFO -  at 300.8s,\testimator lrl2's best error=0.0267,\tbest estimator kneighbor's best error=0.0148\n",
      "[flaml.automl.logger: 12-24 18:32:13] {2218} INFO - iteration 129, current learner lrl2\n",
      "[flaml.automl.logger: 12-24 18:32:14] {2391} INFO -  at 301.4s,\testimator lrl2's best error=0.0267,\tbest estimator kneighbor's best error=0.0148\n",
      "[flaml.automl.logger: 12-24 18:32:14] {2218} INFO - iteration 130, current learner lrl2\n",
      "[flaml.automl.logger: 12-24 18:32:15] {2391} INFO -  at 302.2s,\testimator lrl2's best error=0.0267,\tbest estimator kneighbor's best error=0.0148\n",
      "[flaml.automl.logger: 12-24 18:32:15] {2218} INFO - iteration 131, current learner lrl2\n",
      "[flaml.automl.logger: 12-24 18:32:15] {2391} INFO -  at 302.8s,\testimator lrl2's best error=0.0267,\tbest estimator kneighbor's best error=0.0148\n",
      "[flaml.automl.logger: 12-24 18:32:15] {2218} INFO - iteration 132, current learner rf\n",
      "[flaml.automl.logger: 12-24 18:32:26] {2391} INFO -  at 313.5s,\testimator rf's best error=0.0208,\tbest estimator kneighbor's best error=0.0148\n",
      "[flaml.automl.logger: 12-24 18:32:26] {2218} INFO - iteration 133, current learner rf\n",
      "[flaml.automl.logger: 12-24 18:32:32] {2391} INFO -  at 319.2s,\testimator rf's best error=0.0208,\tbest estimator kneighbor's best error=0.0148\n",
      "[flaml.automl.logger: 12-24 18:32:32] {2218} INFO - iteration 134, current learner lrl2\n",
      "[flaml.automl.logger: 12-24 18:32:32] {2391} INFO -  at 319.7s,\testimator lrl2's best error=0.0267,\tbest estimator kneighbor's best error=0.0148\n",
      "[flaml.automl.logger: 12-24 18:32:32] {2218} INFO - iteration 135, current learner lrl2\n",
      "[flaml.automl.logger: 12-24 18:32:33] {2391} INFO -  at 320.3s,\testimator lrl2's best error=0.0267,\tbest estimator kneighbor's best error=0.0148\n"
     ]
    },
    {
     "name": "stdout",
     "output_type": "stream",
     "text": [
      "[flaml.automl.logger: 12-24 18:32:33] {2218} INFO - iteration 136, current learner lrl2\n",
      "[flaml.automl.logger: 12-24 18:32:33] {2391} INFO -  at 320.8s,\testimator lrl2's best error=0.0267,\tbest estimator kneighbor's best error=0.0148\n",
      "[flaml.automl.logger: 12-24 18:32:33] {2218} INFO - iteration 137, current learner lrl2\n",
      "[flaml.automl.logger: 12-24 18:32:34] {2391} INFO -  at 321.4s,\testimator lrl2's best error=0.0267,\tbest estimator kneighbor's best error=0.0148\n",
      "[flaml.automl.logger: 12-24 18:32:34] {2218} INFO - iteration 138, current learner lrl2\n",
      "[flaml.automl.logger: 12-24 18:32:35] {2391} INFO -  at 322.2s,\testimator lrl2's best error=0.0267,\tbest estimator kneighbor's best error=0.0148\n",
      "[flaml.automl.logger: 12-24 18:32:35] {2218} INFO - iteration 139, current learner lrl2\n",
      "[flaml.automl.logger: 12-24 18:32:35] {2391} INFO -  at 322.9s,\testimator lrl2's best error=0.0267,\tbest estimator kneighbor's best error=0.0148\n",
      "[flaml.automl.logger: 12-24 18:32:35] {2218} INFO - iteration 140, current learner lrl2\n",
      "[flaml.automl.logger: 12-24 18:32:36] {2391} INFO -  at 323.6s,\testimator lrl2's best error=0.0267,\tbest estimator kneighbor's best error=0.0148\n",
      "[flaml.automl.logger: 12-24 18:32:36] {2218} INFO - iteration 141, current learner lrl2\n",
      "[flaml.automl.logger: 12-24 18:32:36] {2391} INFO -  at 324.1s,\testimator lrl2's best error=0.0267,\tbest estimator kneighbor's best error=0.0148\n",
      "[flaml.automl.logger: 12-24 18:32:36] {2218} INFO - iteration 142, current learner lrl2\n",
      "[flaml.automl.logger: 12-24 18:32:37] {2391} INFO -  at 324.8s,\testimator lrl2's best error=0.0267,\tbest estimator kneighbor's best error=0.0148\n",
      "[flaml.automl.logger: 12-24 18:32:37] {2218} INFO - iteration 143, current learner lrl2\n",
      "[flaml.automl.logger: 12-24 18:32:38] {2391} INFO -  at 325.6s,\testimator lrl2's best error=0.0267,\tbest estimator kneighbor's best error=0.0148\n",
      "[flaml.automl.logger: 12-24 18:32:38] {2218} INFO - iteration 144, current learner lrl2\n",
      "[flaml.automl.logger: 12-24 18:32:38] {2391} INFO -  at 326.1s,\testimator lrl2's best error=0.0267,\tbest estimator kneighbor's best error=0.0148\n",
      "[flaml.automl.logger: 12-24 18:32:38] {2218} INFO - iteration 145, current learner lrl2\n",
      "[flaml.automl.logger: 12-24 18:32:39] {2391} INFO -  at 326.8s,\testimator lrl2's best error=0.0267,\tbest estimator kneighbor's best error=0.0148\n",
      "[flaml.automl.logger: 12-24 18:32:39] {2218} INFO - iteration 146, current learner lrl2\n",
      "[flaml.automl.logger: 12-24 18:32:40] {2391} INFO -  at 327.3s,\testimator lrl2's best error=0.0267,\tbest estimator kneighbor's best error=0.0148\n",
      "[flaml.automl.logger: 12-24 18:32:40] {2218} INFO - iteration 147, current learner lrl2\n",
      "[flaml.automl.logger: 12-24 18:32:40] {2391} INFO -  at 327.9s,\testimator lrl2's best error=0.0267,\tbest estimator kneighbor's best error=0.0148\n",
      "[flaml.automl.logger: 12-24 18:32:40] {2218} INFO - iteration 148, current learner lrl2\n",
      "[flaml.automl.logger: 12-24 18:32:41] {2391} INFO -  at 328.4s,\testimator lrl2's best error=0.0267,\tbest estimator kneighbor's best error=0.0148\n",
      "[flaml.automl.logger: 12-24 18:32:41] {2218} INFO - iteration 149, current learner lrl2\n",
      "[flaml.automl.logger: 12-24 18:32:41] {2391} INFO -  at 328.9s,\testimator lrl2's best error=0.0267,\tbest estimator kneighbor's best error=0.0148\n",
      "[flaml.automl.logger: 12-24 18:32:41] {2218} INFO - iteration 150, current learner lrl2\n",
      "[flaml.automl.logger: 12-24 18:32:42] {2391} INFO -  at 329.6s,\testimator lrl2's best error=0.0267,\tbest estimator kneighbor's best error=0.0148\n",
      "[flaml.automl.logger: 12-24 18:32:42] {2218} INFO - iteration 151, current learner lrl2\n",
      "[flaml.automl.logger: 12-24 18:32:43] {2391} INFO -  at 330.3s,\testimator lrl2's best error=0.0267,\tbest estimator kneighbor's best error=0.0148\n",
      "[flaml.automl.logger: 12-24 18:32:43] {2218} INFO - iteration 152, current learner lrl2\n",
      "[flaml.automl.logger: 12-24 18:32:43] {2391} INFO -  at 330.8s,\testimator lrl2's best error=0.0267,\tbest estimator kneighbor's best error=0.0148\n",
      "[flaml.automl.logger: 12-24 18:32:43] {2218} INFO - iteration 153, current learner lrl2\n",
      "[flaml.automl.logger: 12-24 18:32:44] {2391} INFO -  at 331.5s,\testimator lrl2's best error=0.0267,\tbest estimator kneighbor's best error=0.0148\n",
      "[flaml.automl.logger: 12-24 18:32:44] {2218} INFO - iteration 154, current learner lrl2\n",
      "[flaml.automl.logger: 12-24 18:32:44] {2391} INFO -  at 332.1s,\testimator lrl2's best error=0.0267,\tbest estimator kneighbor's best error=0.0148\n",
      "[flaml.automl.logger: 12-24 18:32:44] {2218} INFO - iteration 155, current learner lrl2\n",
      "[flaml.automl.logger: 12-24 18:32:45] {2391} INFO -  at 332.8s,\testimator lrl2's best error=0.0267,\tbest estimator kneighbor's best error=0.0148\n",
      "[flaml.automl.logger: 12-24 18:32:45] {2218} INFO - iteration 156, current learner lrl2\n",
      "[flaml.automl.logger: 12-24 18:32:46] {2391} INFO -  at 333.5s,\testimator lrl2's best error=0.0267,\tbest estimator kneighbor's best error=0.0148\n",
      "[flaml.automl.logger: 12-24 18:32:46] {2218} INFO - iteration 157, current learner lrl2\n",
      "[flaml.automl.logger: 12-24 18:32:46] {2391} INFO -  at 334.0s,\testimator lrl2's best error=0.0267,\tbest estimator kneighbor's best error=0.0148\n",
      "[flaml.automl.logger: 12-24 18:32:46] {2218} INFO - iteration 158, current learner lrl2\n",
      "[flaml.automl.logger: 12-24 18:32:47] {2391} INFO -  at 334.8s,\testimator lrl2's best error=0.0267,\tbest estimator kneighbor's best error=0.0148\n",
      "[flaml.automl.logger: 12-24 18:32:47] {2218} INFO - iteration 159, current learner lrl2\n",
      "[flaml.automl.logger: 12-24 18:32:48] {2391} INFO -  at 335.5s,\testimator lrl2's best error=0.0267,\tbest estimator kneighbor's best error=0.0148\n",
      "[flaml.automl.logger: 12-24 18:32:48] {2218} INFO - iteration 160, current learner lrl2\n",
      "[flaml.automl.logger: 12-24 18:32:48] {2391} INFO -  at 336.1s,\testimator lrl2's best error=0.0267,\tbest estimator kneighbor's best error=0.0148\n",
      "[flaml.automl.logger: 12-24 18:32:48] {2218} INFO - iteration 161, current learner lrl2\n",
      "[flaml.automl.logger: 12-24 18:32:49] {2391} INFO -  at 336.8s,\testimator lrl2's best error=0.0267,\tbest estimator kneighbor's best error=0.0148\n",
      "[flaml.automl.logger: 12-24 18:32:49] {2218} INFO - iteration 162, current learner lrl2\n",
      "[flaml.automl.logger: 12-24 18:32:50] {2391} INFO -  at 337.3s,\testimator lrl2's best error=0.0267,\tbest estimator kneighbor's best error=0.0148\n",
      "[flaml.automl.logger: 12-24 18:32:50] {2218} INFO - iteration 163, current learner lrl2\n",
      "[flaml.automl.logger: 12-24 18:32:50] {2391} INFO -  at 338.1s,\testimator lrl2's best error=0.0267,\tbest estimator kneighbor's best error=0.0148\n",
      "[flaml.automl.logger: 12-24 18:32:50] {2218} INFO - iteration 164, current learner lrl2\n",
      "[flaml.automl.logger: 12-24 18:32:51] {2391} INFO -  at 338.7s,\testimator lrl2's best error=0.0267,\tbest estimator kneighbor's best error=0.0148\n",
      "[flaml.automl.logger: 12-24 18:32:51] {2218} INFO - iteration 165, current learner lrl2\n",
      "[flaml.automl.logger: 12-24 18:32:52] {2391} INFO -  at 339.3s,\testimator lrl2's best error=0.0267,\tbest estimator kneighbor's best error=0.0148\n",
      "[flaml.automl.logger: 12-24 18:32:52] {2218} INFO - iteration 166, current learner lrl2\n",
      "[flaml.automl.logger: 12-24 18:32:52] {2391} INFO -  at 340.0s,\testimator lrl2's best error=0.0267,\tbest estimator kneighbor's best error=0.0148\n",
      "[flaml.automl.logger: 12-24 18:32:52] {2218} INFO - iteration 167, current learner lrl2\n",
      "[flaml.automl.logger: 12-24 18:32:53] {2391} INFO -  at 340.7s,\testimator lrl2's best error=0.0267,\tbest estimator kneighbor's best error=0.0148\n",
      "[flaml.automl.logger: 12-24 18:32:53] {2218} INFO - iteration 168, current learner lrl2\n",
      "[flaml.automl.logger: 12-24 18:32:54] {2391} INFO -  at 341.3s,\testimator lrl2's best error=0.0267,\tbest estimator kneighbor's best error=0.0148\n",
      "[flaml.automl.logger: 12-24 18:32:54] {2218} INFO - iteration 169, current learner lrl2\n",
      "[flaml.automl.logger: 12-24 18:32:54] {2391} INFO -  at 342.0s,\testimator lrl2's best error=0.0267,\tbest estimator kneighbor's best error=0.0148\n",
      "[flaml.automl.logger: 12-24 18:32:54] {2218} INFO - iteration 170, current learner lrl2\n",
      "[flaml.automl.logger: 12-24 18:32:55] {2391} INFO -  at 342.5s,\testimator lrl2's best error=0.0267,\tbest estimator kneighbor's best error=0.0148\n",
      "[flaml.automl.logger: 12-24 18:32:55] {2218} INFO - iteration 171, current learner lrl2\n"
     ]
    },
    {
     "name": "stdout",
     "output_type": "stream",
     "text": [
      "[flaml.automl.logger: 12-24 18:32:56] {2391} INFO -  at 343.3s,\testimator lrl2's best error=0.0260,\tbest estimator kneighbor's best error=0.0148\n",
      "[flaml.automl.logger: 12-24 18:32:56] {2218} INFO - iteration 172, current learner lrl2\n",
      "[flaml.automl.logger: 12-24 18:32:56] {2391} INFO -  at 344.0s,\testimator lrl2's best error=0.0260,\tbest estimator kneighbor's best error=0.0148\n",
      "[flaml.automl.logger: 12-24 18:32:56] {2218} INFO - iteration 173, current learner lrl2\n",
      "[flaml.automl.logger: 12-24 18:32:57] {2391} INFO -  at 344.6s,\testimator lrl2's best error=0.0260,\tbest estimator kneighbor's best error=0.0148\n",
      "[flaml.automl.logger: 12-24 18:32:57] {2218} INFO - iteration 174, current learner lrl2\n",
      "[flaml.automl.logger: 12-24 18:32:58] {2391} INFO -  at 345.3s,\testimator lrl2's best error=0.0260,\tbest estimator kneighbor's best error=0.0148\n",
      "[flaml.automl.logger: 12-24 18:32:58] {2218} INFO - iteration 175, current learner lrl2\n",
      "[flaml.automl.logger: 12-24 18:32:58] {2391} INFO -  at 345.9s,\testimator lrl2's best error=0.0260,\tbest estimator kneighbor's best error=0.0148\n",
      "[flaml.automl.logger: 12-24 18:32:58] {2218} INFO - iteration 176, current learner lrl2\n",
      "[flaml.automl.logger: 12-24 18:32:59] {2391} INFO -  at 346.5s,\testimator lrl2's best error=0.0260,\tbest estimator kneighbor's best error=0.0148\n",
      "[flaml.automl.logger: 12-24 18:32:59] {2218} INFO - iteration 177, current learner lrl2\n",
      "[flaml.automl.logger: 12-24 18:33:00] {2391} INFO -  at 347.3s,\testimator lrl2's best error=0.0260,\tbest estimator kneighbor's best error=0.0148\n",
      "[flaml.automl.logger: 12-24 18:33:00] {2218} INFO - iteration 178, current learner lrl2\n",
      "[flaml.automl.logger: 12-24 18:33:00] {2391} INFO -  at 348.0s,\testimator lrl2's best error=0.0260,\tbest estimator kneighbor's best error=0.0148\n",
      "[flaml.automl.logger: 12-24 18:33:00] {2218} INFO - iteration 179, current learner lrl2\n",
      "[flaml.automl.logger: 12-24 18:33:01] {2391} INFO -  at 348.6s,\testimator lrl2's best error=0.0260,\tbest estimator kneighbor's best error=0.0148\n",
      "[flaml.automl.logger: 12-24 18:33:01] {2218} INFO - iteration 180, current learner lrl2\n",
      "[flaml.automl.logger: 12-24 18:33:01] {2391} INFO -  at 349.1s,\testimator lrl2's best error=0.0260,\tbest estimator kneighbor's best error=0.0148\n",
      "[flaml.automl.logger: 12-24 18:33:01] {2218} INFO - iteration 181, current learner lrl2\n",
      "[flaml.automl.logger: 12-24 18:33:02] {2391} INFO -  at 349.9s,\testimator lrl2's best error=0.0260,\tbest estimator kneighbor's best error=0.0148\n",
      "[flaml.automl.logger: 12-24 18:33:02] {2218} INFO - iteration 182, current learner lrl2\n",
      "[flaml.automl.logger: 12-24 18:33:03] {2391} INFO -  at 350.4s,\testimator lrl2's best error=0.0260,\tbest estimator kneighbor's best error=0.0148\n",
      "[flaml.automl.logger: 12-24 18:33:03] {2218} INFO - iteration 183, current learner lrl2\n",
      "[flaml.automl.logger: 12-24 18:33:03] {2391} INFO -  at 351.1s,\testimator lrl2's best error=0.0260,\tbest estimator kneighbor's best error=0.0148\n",
      "[flaml.automl.logger: 12-24 18:33:03] {2218} INFO - iteration 184, current learner lrl2\n",
      "[flaml.automl.logger: 12-24 18:33:04] {2391} INFO -  at 351.8s,\testimator lrl2's best error=0.0260,\tbest estimator kneighbor's best error=0.0148\n",
      "[flaml.automl.logger: 12-24 18:33:04] {2218} INFO - iteration 185, current learner lrl2\n",
      "[flaml.automl.logger: 12-24 18:33:05] {2391} INFO -  at 352.4s,\testimator lrl2's best error=0.0260,\tbest estimator kneighbor's best error=0.0148\n",
      "[flaml.automl.logger: 12-24 18:33:05] {2218} INFO - iteration 186, current learner lrl2\n",
      "[flaml.automl.logger: 12-24 18:33:05] {2391} INFO -  at 353.1s,\testimator lrl2's best error=0.0260,\tbest estimator kneighbor's best error=0.0148\n",
      "[flaml.automl.logger: 12-24 18:33:05] {2218} INFO - iteration 187, current learner lrl2\n",
      "[flaml.automl.logger: 12-24 18:33:06] {2391} INFO -  at 353.8s,\testimator lrl2's best error=0.0260,\tbest estimator kneighbor's best error=0.0148\n",
      "[flaml.automl.logger: 12-24 18:33:06] {2218} INFO - iteration 188, current learner lrl2\n",
      "[flaml.automl.logger: 12-24 18:33:07] {2391} INFO -  at 354.4s,\testimator lrl2's best error=0.0260,\tbest estimator kneighbor's best error=0.0148\n",
      "[flaml.automl.logger: 12-24 18:33:07] {2218} INFO - iteration 189, current learner lrl2\n",
      "[flaml.automl.logger: 12-24 18:33:07] {2391} INFO -  at 355.0s,\testimator lrl2's best error=0.0260,\tbest estimator kneighbor's best error=0.0148\n",
      "[flaml.automl.logger: 12-24 18:33:07] {2218} INFO - iteration 190, current learner lrl2\n",
      "[flaml.automl.logger: 12-24 18:33:08] {2391} INFO -  at 355.8s,\testimator lrl2's best error=0.0260,\tbest estimator kneighbor's best error=0.0148\n",
      "[flaml.automl.logger: 12-24 18:33:08] {2218} INFO - iteration 191, current learner lrl2\n",
      "[flaml.automl.logger: 12-24 18:33:09] {2391} INFO -  at 356.4s,\testimator lrl2's best error=0.0260,\tbest estimator kneighbor's best error=0.0148\n",
      "[flaml.automl.logger: 12-24 18:33:09] {2218} INFO - iteration 192, current learner lrl2\n",
      "[flaml.automl.logger: 12-24 18:33:09] {2391} INFO -  at 357.0s,\testimator lrl2's best error=0.0260,\tbest estimator kneighbor's best error=0.0148\n",
      "[flaml.automl.logger: 12-24 18:33:09] {2218} INFO - iteration 193, current learner lrl2\n",
      "[flaml.automl.logger: 12-24 18:33:10] {2391} INFO -  at 357.7s,\testimator lrl2's best error=0.0260,\tbest estimator kneighbor's best error=0.0148\n",
      "[flaml.automl.logger: 12-24 18:33:10] {2218} INFO - iteration 194, current learner lrl2\n",
      "[flaml.automl.logger: 12-24 18:33:11] {2391} INFO -  at 358.3s,\testimator lrl2's best error=0.0260,\tbest estimator kneighbor's best error=0.0148\n",
      "[flaml.automl.logger: 12-24 18:33:11] {2218} INFO - iteration 195, current learner lrl2\n",
      "[flaml.automl.logger: 12-24 18:33:11] {2391} INFO -  at 358.9s,\testimator lrl2's best error=0.0260,\tbest estimator kneighbor's best error=0.0148\n",
      "[flaml.automl.logger: 12-24 18:33:11] {2218} INFO - iteration 196, current learner lrl2\n",
      "[flaml.automl.logger: 12-24 18:33:12] {2391} INFO -  at 359.7s,\testimator lrl2's best error=0.0260,\tbest estimator kneighbor's best error=0.0148\n",
      "[flaml.automl.logger: 12-24 18:33:12] {2218} INFO - iteration 197, current learner lrl2\n",
      "[flaml.automl.logger: 12-24 18:33:13] {2391} INFO -  at 360.3s,\testimator lrl2's best error=0.0260,\tbest estimator kneighbor's best error=0.0148\n",
      "[flaml.automl.logger: 12-24 18:33:13] {2218} INFO - iteration 198, current learner lrl2\n",
      "[flaml.automl.logger: 12-24 18:33:13] {2391} INFO -  at 360.9s,\testimator lrl2's best error=0.0260,\tbest estimator kneighbor's best error=0.0148\n",
      "[flaml.automl.logger: 12-24 18:33:13] {2218} INFO - iteration 199, current learner lrl2\n",
      "[flaml.automl.logger: 12-24 18:33:14] {2391} INFO -  at 361.7s,\testimator lrl2's best error=0.0260,\tbest estimator kneighbor's best error=0.0148\n",
      "[flaml.automl.logger: 12-24 18:33:14] {2218} INFO - iteration 200, current learner lrl1\n"
     ]
    },
    {
     "name": "stderr",
     "output_type": "stream",
     "text": [
      "C:\\Users\\APU\\anaconda3\\Lib\\site-packages\\sklearn\\linear_model\\_sag.py:350: ConvergenceWarning: The max_iter was reached which means the coef_ did not converge\n",
      "  warnings.warn(\n",
      "C:\\Users\\APU\\anaconda3\\Lib\\site-packages\\sklearn\\linear_model\\_sag.py:350: ConvergenceWarning: The max_iter was reached which means the coef_ did not converge\n",
      "  warnings.warn(\n",
      "C:\\Users\\APU\\anaconda3\\Lib\\site-packages\\sklearn\\linear_model\\_sag.py:350: ConvergenceWarning: The max_iter was reached which means the coef_ did not converge\n",
      "  warnings.warn(\n",
      "C:\\Users\\APU\\anaconda3\\Lib\\site-packages\\sklearn\\linear_model\\_sag.py:350: ConvergenceWarning: The max_iter was reached which means the coef_ did not converge\n",
      "  warnings.warn(\n"
     ]
    },
    {
     "name": "stdout",
     "output_type": "stream",
     "text": [
      "[flaml.automl.logger: 12-24 18:33:19] {2391} INFO -  at 367.0s,\testimator lrl1's best error=0.0282,\tbest estimator kneighbor's best error=0.0148\n",
      "[flaml.automl.logger: 12-24 18:33:19] {2218} INFO - iteration 201, current learner lrl2\n"
     ]
    },
    {
     "name": "stderr",
     "output_type": "stream",
     "text": [
      "C:\\Users\\APU\\anaconda3\\Lib\\site-packages\\sklearn\\linear_model\\_sag.py:350: ConvergenceWarning: The max_iter was reached which means the coef_ did not converge\n",
      "  warnings.warn(\n"
     ]
    },
    {
     "name": "stdout",
     "output_type": "stream",
     "text": [
      "[flaml.automl.logger: 12-24 18:33:20] {2391} INFO -  at 367.6s,\testimator lrl2's best error=0.0260,\tbest estimator kneighbor's best error=0.0148\n",
      "[flaml.automl.logger: 12-24 18:33:20] {2218} INFO - iteration 202, current learner lrl2\n",
      "[flaml.automl.logger: 12-24 18:33:20] {2391} INFO -  at 368.1s,\testimator lrl2's best error=0.0260,\tbest estimator kneighbor's best error=0.0148\n",
      "[flaml.automl.logger: 12-24 18:33:20] {2218} INFO - iteration 203, current learner lrl2\n",
      "[flaml.automl.logger: 12-24 18:33:21] {2391} INFO -  at 368.7s,\testimator lrl2's best error=0.0260,\tbest estimator kneighbor's best error=0.0148\n",
      "[flaml.automl.logger: 12-24 18:33:21] {2218} INFO - iteration 204, current learner lrl2\n",
      "[flaml.automl.logger: 12-24 18:33:22] {2391} INFO -  at 369.3s,\testimator lrl2's best error=0.0260,\tbest estimator kneighbor's best error=0.0148\n",
      "[flaml.automl.logger: 12-24 18:33:22] {2218} INFO - iteration 205, current learner lrl2\n",
      "[flaml.automl.logger: 12-24 18:33:22] {2391} INFO -  at 369.8s,\testimator lrl2's best error=0.0260,\tbest estimator kneighbor's best error=0.0148\n",
      "[flaml.automl.logger: 12-24 18:33:22] {2218} INFO - iteration 206, current learner lrl2\n",
      "[flaml.automl.logger: 12-24 18:33:23] {2391} INFO -  at 370.4s,\testimator lrl2's best error=0.0260,\tbest estimator kneighbor's best error=0.0148\n",
      "[flaml.automl.logger: 12-24 18:33:23] {2218} INFO - iteration 207, current learner lrl2\n",
      "[flaml.automl.logger: 12-24 18:33:23] {2391} INFO -  at 371.0s,\testimator lrl2's best error=0.0260,\tbest estimator kneighbor's best error=0.0148\n",
      "[flaml.automl.logger: 12-24 18:33:23] {2218} INFO - iteration 208, current learner lrl2\n",
      "[flaml.automl.logger: 12-24 18:33:24] {2391} INFO -  at 371.5s,\testimator lrl2's best error=0.0260,\tbest estimator kneighbor's best error=0.0148\n",
      "[flaml.automl.logger: 12-24 18:33:24] {2218} INFO - iteration 209, current learner lrl2\n",
      "[flaml.automl.logger: 12-24 18:33:24] {2391} INFO -  at 372.1s,\testimator lrl2's best error=0.0260,\tbest estimator kneighbor's best error=0.0148\n",
      "[flaml.automl.logger: 12-24 18:33:24] {2218} INFO - iteration 210, current learner lrl2\n",
      "[flaml.automl.logger: 12-24 18:33:25] {2391} INFO -  at 372.6s,\testimator lrl2's best error=0.0260,\tbest estimator kneighbor's best error=0.0148\n",
      "[flaml.automl.logger: 12-24 18:33:25] {2218} INFO - iteration 211, current learner lrl2\n",
      "[flaml.automl.logger: 12-24 18:33:26] {2391} INFO -  at 373.3s,\testimator lrl2's best error=0.0260,\tbest estimator kneighbor's best error=0.0148\n",
      "[flaml.automl.logger: 12-24 18:33:26] {2218} INFO - iteration 212, current learner lrl2\n",
      "[flaml.automl.logger: 12-24 18:33:26] {2391} INFO -  at 374.0s,\testimator lrl2's best error=0.0260,\tbest estimator kneighbor's best error=0.0148\n",
      "[flaml.automl.logger: 12-24 18:33:26] {2218} INFO - iteration 213, current learner lrl2\n",
      "[flaml.automl.logger: 12-24 18:33:27] {2391} INFO -  at 374.6s,\testimator lrl2's best error=0.0260,\tbest estimator kneighbor's best error=0.0148\n",
      "[flaml.automl.logger: 12-24 18:33:27] {2218} INFO - iteration 214, current learner lrl2\n",
      "[flaml.automl.logger: 12-24 18:33:28] {2391} INFO -  at 375.3s,\testimator lrl2's best error=0.0260,\tbest estimator kneighbor's best error=0.0148\n",
      "[flaml.automl.logger: 12-24 18:33:28] {2218} INFO - iteration 215, current learner lrl2\n",
      "[flaml.automl.logger: 12-24 18:33:28] {2391} INFO -  at 376.1s,\testimator lrl2's best error=0.0260,\tbest estimator kneighbor's best error=0.0148\n",
      "[flaml.automl.logger: 12-24 18:33:28] {2218} INFO - iteration 216, current learner lrl2\n",
      "[flaml.automl.logger: 12-24 18:33:29] {2391} INFO -  at 376.7s,\testimator lrl2's best error=0.0260,\tbest estimator kneighbor's best error=0.0148\n",
      "[flaml.automl.logger: 12-24 18:33:29] {2218} INFO - iteration 217, current learner lrl2\n",
      "[flaml.automl.logger: 12-24 18:33:30] {2391} INFO -  at 377.3s,\testimator lrl2's best error=0.0260,\tbest estimator kneighbor's best error=0.0148\n",
      "[flaml.automl.logger: 12-24 18:33:30] {2218} INFO - iteration 218, current learner lrl2\n",
      "[flaml.automl.logger: 12-24 18:33:30] {2391} INFO -  at 377.9s,\testimator lrl2's best error=0.0260,\tbest estimator kneighbor's best error=0.0148\n",
      "[flaml.automl.logger: 12-24 18:33:30] {2218} INFO - iteration 219, current learner lrl2\n",
      "[flaml.automl.logger: 12-24 18:33:31] {2391} INFO -  at 378.5s,\testimator lrl2's best error=0.0260,\tbest estimator kneighbor's best error=0.0148\n",
      "[flaml.automl.logger: 12-24 18:33:31] {2218} INFO - iteration 220, current learner lrl2\n",
      "[flaml.automl.logger: 12-24 18:33:32] {2391} INFO -  at 379.3s,\testimator lrl2's best error=0.0260,\tbest estimator kneighbor's best error=0.0148\n",
      "[flaml.automl.logger: 12-24 18:33:32] {2218} INFO - iteration 221, current learner lrl2\n",
      "[flaml.automl.logger: 12-24 18:33:32] {2391} INFO -  at 379.9s,\testimator lrl2's best error=0.0260,\tbest estimator kneighbor's best error=0.0148\n",
      "[flaml.automl.logger: 12-24 18:33:32] {2218} INFO - iteration 222, current learner lrl2\n",
      "[flaml.automl.logger: 12-24 18:33:33] {2391} INFO -  at 380.4s,\testimator lrl2's best error=0.0260,\tbest estimator kneighbor's best error=0.0148\n",
      "[flaml.automl.logger: 12-24 18:33:33] {2218} INFO - iteration 223, current learner lrl1\n"
     ]
    },
    {
     "name": "stderr",
     "output_type": "stream",
     "text": [
      "C:\\Users\\APU\\anaconda3\\Lib\\site-packages\\sklearn\\linear_model\\_sag.py:350: ConvergenceWarning: The max_iter was reached which means the coef_ did not converge\n",
      "  warnings.warn(\n",
      "C:\\Users\\APU\\anaconda3\\Lib\\site-packages\\sklearn\\linear_model\\_sag.py:350: ConvergenceWarning: The max_iter was reached which means the coef_ did not converge\n",
      "  warnings.warn(\n",
      "C:\\Users\\APU\\anaconda3\\Lib\\site-packages\\sklearn\\linear_model\\_sag.py:350: ConvergenceWarning: The max_iter was reached which means the coef_ did not converge\n",
      "  warnings.warn(\n",
      "C:\\Users\\APU\\anaconda3\\Lib\\site-packages\\sklearn\\linear_model\\_sag.py:350: ConvergenceWarning: The max_iter was reached which means the coef_ did not converge\n",
      "  warnings.warn(\n"
     ]
    },
    {
     "name": "stdout",
     "output_type": "stream",
     "text": [
      "[flaml.automl.logger: 12-24 18:33:38] {2391} INFO -  at 385.5s,\testimator lrl1's best error=0.0282,\tbest estimator kneighbor's best error=0.0148\n",
      "[flaml.automl.logger: 12-24 18:33:38] {2218} INFO - iteration 224, current learner lrl2\n"
     ]
    },
    {
     "name": "stderr",
     "output_type": "stream",
     "text": [
      "C:\\Users\\APU\\anaconda3\\Lib\\site-packages\\sklearn\\linear_model\\_sag.py:350: ConvergenceWarning: The max_iter was reached which means the coef_ did not converge\n",
      "  warnings.warn(\n"
     ]
    },
    {
     "name": "stdout",
     "output_type": "stream",
     "text": [
      "[flaml.automl.logger: 12-24 18:33:38] {2391} INFO -  at 386.0s,\testimator lrl2's best error=0.0260,\tbest estimator kneighbor's best error=0.0148\n",
      "[flaml.automl.logger: 12-24 18:33:38] {2218} INFO - iteration 225, current learner lrl2\n",
      "[flaml.automl.logger: 12-24 18:33:39] {2391} INFO -  at 386.6s,\testimator lrl2's best error=0.0260,\tbest estimator kneighbor's best error=0.0148\n",
      "[flaml.automl.logger: 12-24 18:33:39] {2218} INFO - iteration 226, current learner lrl2\n",
      "[flaml.automl.logger: 12-24 18:33:40] {2391} INFO -  at 387.1s,\testimator lrl2's best error=0.0260,\tbest estimator kneighbor's best error=0.0148\n",
      "[flaml.automl.logger: 12-24 18:33:40] {2218} INFO - iteration 227, current learner lrl2\n",
      "[flaml.automl.logger: 12-24 18:33:40] {2391} INFO -  at 388.0s,\testimator lrl2's best error=0.0260,\tbest estimator kneighbor's best error=0.0148\n",
      "[flaml.automl.logger: 12-24 18:33:40] {2218} INFO - iteration 228, current learner lrl2\n",
      "[flaml.automl.logger: 12-24 18:33:41] {2391} INFO -  at 388.5s,\testimator lrl2's best error=0.0260,\tbest estimator kneighbor's best error=0.0148\n",
      "[flaml.automl.logger: 12-24 18:33:41] {2218} INFO - iteration 229, current learner lrl2\n",
      "[flaml.automl.logger: 12-24 18:33:41] {2391} INFO -  at 389.1s,\testimator lrl2's best error=0.0260,\tbest estimator kneighbor's best error=0.0148\n",
      "[flaml.automl.logger: 12-24 18:33:41] {2218} INFO - iteration 230, current learner lrl2\n",
      "[flaml.automl.logger: 12-24 18:33:42] {2391} INFO -  at 389.9s,\testimator lrl2's best error=0.0260,\tbest estimator kneighbor's best error=0.0148\n",
      "[flaml.automl.logger: 12-24 18:33:42] {2218} INFO - iteration 231, current learner lrl2\n",
      "[flaml.automl.logger: 12-24 18:33:43] {2391} INFO -  at 390.5s,\testimator lrl2's best error=0.0260,\tbest estimator kneighbor's best error=0.0148\n",
      "[flaml.automl.logger: 12-24 18:33:43] {2218} INFO - iteration 232, current learner lrl2\n",
      "[flaml.automl.logger: 12-24 18:33:44] {2391} INFO -  at 391.2s,\testimator lrl2's best error=0.0260,\tbest estimator kneighbor's best error=0.0148\n",
      "[flaml.automl.logger: 12-24 18:33:44] {2218} INFO - iteration 233, current learner lrl2\n",
      "[flaml.automl.logger: 12-24 18:33:44] {2391} INFO -  at 391.9s,\testimator lrl2's best error=0.0260,\tbest estimator kneighbor's best error=0.0148\n",
      "[flaml.automl.logger: 12-24 18:33:44] {2218} INFO - iteration 234, current learner lrl2\n",
      "[flaml.automl.logger: 12-24 18:33:45] {2391} INFO -  at 392.4s,\testimator lrl2's best error=0.0260,\tbest estimator kneighbor's best error=0.0148\n",
      "[flaml.automl.logger: 12-24 18:33:45] {2218} INFO - iteration 235, current learner lrl2\n",
      "[flaml.automl.logger: 12-24 18:33:46] {2391} INFO -  at 393.1s,\testimator lrl2's best error=0.0260,\tbest estimator kneighbor's best error=0.0148\n",
      "[flaml.automl.logger: 12-24 18:33:46] {2218} INFO - iteration 236, current learner lrl2\n",
      "[flaml.automl.logger: 12-24 18:33:46] {2391} INFO -  at 393.7s,\testimator lrl2's best error=0.0260,\tbest estimator kneighbor's best error=0.0148\n",
      "[flaml.automl.logger: 12-24 18:33:46] {2218} INFO - iteration 237, current learner lrl2\n",
      "[flaml.automl.logger: 12-24 18:33:47] {2391} INFO -  at 394.4s,\testimator lrl2's best error=0.0260,\tbest estimator kneighbor's best error=0.0148\n",
      "[flaml.automl.logger: 12-24 18:33:47] {2218} INFO - iteration 238, current learner lrl2\n",
      "[flaml.automl.logger: 12-24 18:33:47] {2391} INFO -  at 395.0s,\testimator lrl2's best error=0.0260,\tbest estimator kneighbor's best error=0.0148\n",
      "[flaml.automl.logger: 12-24 18:33:47] {2218} INFO - iteration 239, current learner lrl2\n",
      "[flaml.automl.logger: 12-24 18:33:48] {2391} INFO -  at 395.6s,\testimator lrl2's best error=0.0260,\tbest estimator kneighbor's best error=0.0148\n",
      "[flaml.automl.logger: 12-24 18:33:48] {2218} INFO - iteration 240, current learner lrl1\n"
     ]
    },
    {
     "name": "stderr",
     "output_type": "stream",
     "text": [
      "C:\\Users\\APU\\anaconda3\\Lib\\site-packages\\sklearn\\linear_model\\_sag.py:350: ConvergenceWarning: The max_iter was reached which means the coef_ did not converge\n",
      "  warnings.warn(\n",
      "C:\\Users\\APU\\anaconda3\\Lib\\site-packages\\sklearn\\linear_model\\_sag.py:350: ConvergenceWarning: The max_iter was reached which means the coef_ did not converge\n",
      "  warnings.warn(\n",
      "C:\\Users\\APU\\anaconda3\\Lib\\site-packages\\sklearn\\linear_model\\_sag.py:350: ConvergenceWarning: The max_iter was reached which means the coef_ did not converge\n",
      "  warnings.warn(\n",
      "C:\\Users\\APU\\anaconda3\\Lib\\site-packages\\sklearn\\linear_model\\_sag.py:350: ConvergenceWarning: The max_iter was reached which means the coef_ did not converge\n",
      "  warnings.warn(\n"
     ]
    },
    {
     "name": "stdout",
     "output_type": "stream",
     "text": [
      "[flaml.automl.logger: 12-24 18:33:53] {2391} INFO -  at 400.8s,\testimator lrl1's best error=0.0282,\tbest estimator kneighbor's best error=0.0148\n",
      "[flaml.automl.logger: 12-24 18:33:53] {2218} INFO - iteration 241, current learner lrl2\n"
     ]
    },
    {
     "name": "stderr",
     "output_type": "stream",
     "text": [
      "C:\\Users\\APU\\anaconda3\\Lib\\site-packages\\sklearn\\linear_model\\_sag.py:350: ConvergenceWarning: The max_iter was reached which means the coef_ did not converge\n",
      "  warnings.warn(\n"
     ]
    },
    {
     "name": "stdout",
     "output_type": "stream",
     "text": [
      "[flaml.automl.logger: 12-24 18:33:54] {2391} INFO -  at 401.3s,\testimator lrl2's best error=0.0260,\tbest estimator kneighbor's best error=0.0148\n",
      "[flaml.automl.logger: 12-24 18:33:54] {2218} INFO - iteration 242, current learner lrl2\n",
      "[flaml.automl.logger: 12-24 18:33:54] {2391} INFO -  at 402.0s,\testimator lrl2's best error=0.0260,\tbest estimator kneighbor's best error=0.0148\n",
      "[flaml.automl.logger: 12-24 18:33:54] {2218} INFO - iteration 243, current learner lrl2\n",
      "[flaml.automl.logger: 12-24 18:33:55] {2391} INFO -  at 402.5s,\testimator lrl2's best error=0.0260,\tbest estimator kneighbor's best error=0.0148\n",
      "[flaml.automl.logger: 12-24 18:33:55] {2218} INFO - iteration 244, current learner lrl2\n",
      "[flaml.automl.logger: 12-24 18:33:55] {2391} INFO -  at 403.1s,\testimator lrl2's best error=0.0260,\tbest estimator kneighbor's best error=0.0148\n",
      "[flaml.automl.logger: 12-24 18:33:55] {2218} INFO - iteration 245, current learner lrl2\n",
      "[flaml.automl.logger: 12-24 18:33:56] {2391} INFO -  at 403.9s,\testimator lrl2's best error=0.0260,\tbest estimator kneighbor's best error=0.0148\n",
      "[flaml.automl.logger: 12-24 18:33:56] {2218} INFO - iteration 246, current learner lrl2\n",
      "[flaml.automl.logger: 12-24 18:33:57] {2391} INFO -  at 404.6s,\testimator lrl2's best error=0.0260,\tbest estimator kneighbor's best error=0.0148\n",
      "[flaml.automl.logger: 12-24 18:33:57] {2218} INFO - iteration 247, current learner lrl2\n",
      "[flaml.automl.logger: 12-24 18:33:58] {2391} INFO -  at 405.1s,\testimator lrl2's best error=0.0260,\tbest estimator kneighbor's best error=0.0148\n",
      "[flaml.automl.logger: 12-24 18:33:58] {2218} INFO - iteration 248, current learner lrl2\n",
      "[flaml.automl.logger: 12-24 18:33:58] {2391} INFO -  at 405.8s,\testimator lrl2's best error=0.0260,\tbest estimator kneighbor's best error=0.0148\n",
      "[flaml.automl.logger: 12-24 18:33:58] {2218} INFO - iteration 249, current learner lrl2\n",
      "[flaml.automl.logger: 12-24 18:33:59] {2391} INFO -  at 406.4s,\testimator lrl2's best error=0.0260,\tbest estimator kneighbor's best error=0.0148\n",
      "[flaml.automl.logger: 12-24 18:33:59] {2218} INFO - iteration 250, current learner lrl2\n",
      "[flaml.automl.logger: 12-24 18:33:59] {2391} INFO -  at 407.1s,\testimator lrl2's best error=0.0260,\tbest estimator kneighbor's best error=0.0148\n",
      "[flaml.automl.logger: 12-24 18:33:59] {2218} INFO - iteration 251, current learner lrl2\n",
      "[flaml.automl.logger: 12-24 18:34:00] {2391} INFO -  at 407.8s,\testimator lrl2's best error=0.0260,\tbest estimator kneighbor's best error=0.0148\n",
      "[flaml.automl.logger: 12-24 18:34:00] {2218} INFO - iteration 252, current learner lrl2\n",
      "[flaml.automl.logger: 12-24 18:34:01] {2391} INFO -  at 408.4s,\testimator lrl2's best error=0.0260,\tbest estimator kneighbor's best error=0.0148\n",
      "[flaml.automl.logger: 12-24 18:34:01] {2218} INFO - iteration 253, current learner lrl2\n",
      "[flaml.automl.logger: 12-24 18:34:01] {2391} INFO -  at 409.1s,\testimator lrl2's best error=0.0260,\tbest estimator kneighbor's best error=0.0148\n",
      "[flaml.automl.logger: 12-24 18:34:01] {2218} INFO - iteration 254, current learner rf\n",
      "[flaml.automl.logger: 12-24 18:34:07] {2391} INFO -  at 414.7s,\testimator rf's best error=0.0208,\tbest estimator kneighbor's best error=0.0148\n",
      "[flaml.automl.logger: 12-24 18:34:07] {2218} INFO - iteration 255, current learner lrl2\n",
      "[flaml.automl.logger: 12-24 18:34:08] {2391} INFO -  at 415.3s,\testimator lrl2's best error=0.0260,\tbest estimator kneighbor's best error=0.0148\n",
      "[flaml.automl.logger: 12-24 18:34:08] {2218} INFO - iteration 256, current learner lrl2\n",
      "[flaml.automl.logger: 12-24 18:34:08] {2391} INFO -  at 415.8s,\testimator lrl2's best error=0.0260,\tbest estimator kneighbor's best error=0.0148\n",
      "[flaml.automl.logger: 12-24 18:34:08] {2218} INFO - iteration 257, current learner lrl2\n",
      "[flaml.automl.logger: 12-24 18:34:09] {2391} INFO -  at 416.6s,\testimator lrl2's best error=0.0260,\tbest estimator kneighbor's best error=0.0148\n",
      "[flaml.automl.logger: 12-24 18:34:09] {2218} INFO - iteration 258, current learner lrl2\n",
      "[flaml.automl.logger: 12-24 18:34:10] {2391} INFO -  at 417.2s,\testimator lrl2's best error=0.0260,\tbest estimator kneighbor's best error=0.0148\n",
      "[flaml.automl.logger: 12-24 18:34:10] {2218} INFO - iteration 259, current learner lrl2\n",
      "[flaml.automl.logger: 12-24 18:34:10] {2391} INFO -  at 418.0s,\testimator lrl2's best error=0.0260,\tbest estimator kneighbor's best error=0.0148\n",
      "[flaml.automl.logger: 12-24 18:34:10] {2218} INFO - iteration 260, current learner lrl2\n",
      "[flaml.automl.logger: 12-24 18:34:11] {2391} INFO -  at 418.6s,\testimator lrl2's best error=0.0260,\tbest estimator kneighbor's best error=0.0148\n",
      "[flaml.automl.logger: 12-24 18:34:11] {2218} INFO - iteration 261, current learner lrl2\n",
      "[flaml.automl.logger: 12-24 18:34:12] {2391} INFO -  at 419.3s,\testimator lrl2's best error=0.0260,\tbest estimator kneighbor's best error=0.0148\n",
      "[flaml.automl.logger: 12-24 18:34:12] {2218} INFO - iteration 262, current learner lrl2\n",
      "[flaml.automl.logger: 12-24 18:34:12] {2391} INFO -  at 419.8s,\testimator lrl2's best error=0.0260,\tbest estimator kneighbor's best error=0.0148\n",
      "[flaml.automl.logger: 12-24 18:34:12] {2218} INFO - iteration 263, current learner lrl2\n",
      "[flaml.automl.logger: 12-24 18:34:13] {2391} INFO -  at 420.5s,\testimator lrl2's best error=0.0260,\tbest estimator kneighbor's best error=0.0148\n",
      "[flaml.automl.logger: 12-24 18:34:13] {2218} INFO - iteration 264, current learner lrl2\n",
      "[flaml.automl.logger: 12-24 18:34:14] {2391} INFO -  at 421.2s,\testimator lrl2's best error=0.0260,\tbest estimator kneighbor's best error=0.0148\n",
      "[flaml.automl.logger: 12-24 18:34:14] {2218} INFO - iteration 265, current learner lrl2\n",
      "[flaml.automl.logger: 12-24 18:34:14] {2391} INFO -  at 421.8s,\testimator lrl2's best error=0.0260,\tbest estimator kneighbor's best error=0.0148\n",
      "[flaml.automl.logger: 12-24 18:34:14] {2218} INFO - iteration 266, current learner lrl2\n",
      "[flaml.automl.logger: 12-24 18:34:15] {2391} INFO -  at 422.6s,\testimator lrl2's best error=0.0260,\tbest estimator kneighbor's best error=0.0148\n",
      "[flaml.automl.logger: 12-24 18:34:15] {2218} INFO - iteration 267, current learner lrl2\n",
      "[flaml.automl.logger: 12-24 18:34:16] {2391} INFO -  at 423.2s,\testimator lrl2's best error=0.0260,\tbest estimator kneighbor's best error=0.0148\n",
      "[flaml.automl.logger: 12-24 18:34:16] {2218} INFO - iteration 268, current learner lrl2\n",
      "[flaml.automl.logger: 12-24 18:34:16] {2391} INFO -  at 423.7s,\testimator lrl2's best error=0.0260,\tbest estimator kneighbor's best error=0.0148\n",
      "[flaml.automl.logger: 12-24 18:34:16] {2218} INFO - iteration 269, current learner lrl2\n",
      "[flaml.automl.logger: 12-24 18:34:17] {2391} INFO -  at 424.3s,\testimator lrl2's best error=0.0260,\tbest estimator kneighbor's best error=0.0148\n",
      "[flaml.automl.logger: 12-24 18:34:17] {2218} INFO - iteration 270, current learner lrl2\n",
      "[flaml.automl.logger: 12-24 18:34:17] {2391} INFO -  at 425.1s,\testimator lrl2's best error=0.0260,\tbest estimator kneighbor's best error=0.0148\n",
      "[flaml.automl.logger: 12-24 18:34:17] {2218} INFO - iteration 271, current learner lrl2\n",
      "[flaml.automl.logger: 12-24 18:34:18] {2391} INFO -  at 425.7s,\testimator lrl2's best error=0.0260,\tbest estimator kneighbor's best error=0.0148\n",
      "[flaml.automl.logger: 12-24 18:34:18] {2218} INFO - iteration 272, current learner lrl2\n",
      "[flaml.automl.logger: 12-24 18:34:19] {2391} INFO -  at 426.5s,\testimator lrl2's best error=0.0260,\tbest estimator kneighbor's best error=0.0148\n",
      "[flaml.automl.logger: 12-24 18:34:19] {2218} INFO - iteration 273, current learner lrl2\n",
      "[flaml.automl.logger: 12-24 18:34:19] {2391} INFO -  at 427.0s,\testimator lrl2's best error=0.0260,\tbest estimator kneighbor's best error=0.0148\n",
      "[flaml.automl.logger: 12-24 18:34:19] {2218} INFO - iteration 274, current learner lrl2\n",
      "[flaml.automl.logger: 12-24 18:34:20] {2391} INFO -  at 427.6s,\testimator lrl2's best error=0.0260,\tbest estimator kneighbor's best error=0.0148\n",
      "[flaml.automl.logger: 12-24 18:34:20] {2218} INFO - iteration 275, current learner lrl2\n",
      "[flaml.automl.logger: 12-24 18:34:20] {2391} INFO -  at 428.1s,\testimator lrl2's best error=0.0260,\tbest estimator kneighbor's best error=0.0148\n",
      "[flaml.automl.logger: 12-24 18:34:20] {2218} INFO - iteration 276, current learner lrl2\n",
      "[flaml.automl.logger: 12-24 18:34:21] {2391} INFO -  at 428.7s,\testimator lrl2's best error=0.0260,\tbest estimator kneighbor's best error=0.0148\n"
     ]
    },
    {
     "name": "stdout",
     "output_type": "stream",
     "text": [
      "[flaml.automl.logger: 12-24 18:34:21] {2218} INFO - iteration 277, current learner lrl2\n",
      "[flaml.automl.logger: 12-24 18:34:22] {2391} INFO -  at 429.2s,\testimator lrl2's best error=0.0260,\tbest estimator kneighbor's best error=0.0148\n",
      "[flaml.automl.logger: 12-24 18:34:22] {2218} INFO - iteration 278, current learner lrl2\n",
      "[flaml.automl.logger: 12-24 18:34:22] {2391} INFO -  at 429.7s,\testimator lrl2's best error=0.0260,\tbest estimator kneighbor's best error=0.0148\n",
      "[flaml.automl.logger: 12-24 18:34:22] {2218} INFO - iteration 279, current learner lrl2\n",
      "[flaml.automl.logger: 12-24 18:34:23] {2391} INFO -  at 430.2s,\testimator lrl2's best error=0.0260,\tbest estimator kneighbor's best error=0.0148\n",
      "[flaml.automl.logger: 12-24 18:34:23] {2218} INFO - iteration 280, current learner lrl2\n",
      "[flaml.automl.logger: 12-24 18:34:23] {2391} INFO -  at 430.7s,\testimator lrl2's best error=0.0260,\tbest estimator kneighbor's best error=0.0148\n",
      "[flaml.automl.logger: 12-24 18:34:23] {2218} INFO - iteration 281, current learner lrl2\n",
      "[flaml.automl.logger: 12-24 18:34:24] {2391} INFO -  at 431.3s,\testimator lrl2's best error=0.0260,\tbest estimator kneighbor's best error=0.0148\n",
      "[flaml.automl.logger: 12-24 18:34:24] {2218} INFO - iteration 282, current learner lrl2\n",
      "[flaml.automl.logger: 12-24 18:34:24] {2391} INFO -  at 432.0s,\testimator lrl2's best error=0.0260,\tbest estimator kneighbor's best error=0.0148\n",
      "[flaml.automl.logger: 12-24 18:34:24] {2218} INFO - iteration 283, current learner lrl2\n",
      "[flaml.automl.logger: 12-24 18:34:25] {2391} INFO -  at 432.7s,\testimator lrl2's best error=0.0260,\tbest estimator kneighbor's best error=0.0148\n",
      "[flaml.automl.logger: 12-24 18:34:25] {2218} INFO - iteration 284, current learner lrl2\n",
      "[flaml.automl.logger: 12-24 18:34:26] {2391} INFO -  at 433.3s,\testimator lrl2's best error=0.0260,\tbest estimator kneighbor's best error=0.0148\n",
      "[flaml.automl.logger: 12-24 18:34:26] {2218} INFO - iteration 285, current learner lrl2\n",
      "[flaml.automl.logger: 12-24 18:34:26] {2391} INFO -  at 433.8s,\testimator lrl2's best error=0.0260,\tbest estimator kneighbor's best error=0.0148\n",
      "[flaml.automl.logger: 12-24 18:34:26] {2218} INFO - iteration 286, current learner lrl2\n",
      "[flaml.automl.logger: 12-24 18:34:27] {2391} INFO -  at 434.3s,\testimator lrl2's best error=0.0260,\tbest estimator kneighbor's best error=0.0148\n",
      "[flaml.automl.logger: 12-24 18:34:27] {2218} INFO - iteration 287, current learner lrl2\n",
      "[flaml.automl.logger: 12-24 18:34:27] {2391} INFO -  at 434.8s,\testimator lrl2's best error=0.0260,\tbest estimator kneighbor's best error=0.0148\n",
      "[flaml.automl.logger: 12-24 18:34:27] {2218} INFO - iteration 288, current learner lrl2\n",
      "[flaml.automl.logger: 12-24 18:34:28] {2391} INFO -  at 435.4s,\testimator lrl2's best error=0.0260,\tbest estimator kneighbor's best error=0.0148\n",
      "[flaml.automl.logger: 12-24 18:34:28] {2218} INFO - iteration 289, current learner lrl2\n",
      "[flaml.automl.logger: 12-24 18:34:28] {2391} INFO -  at 436.0s,\testimator lrl2's best error=0.0260,\tbest estimator kneighbor's best error=0.0148\n",
      "[flaml.automl.logger: 12-24 18:34:28] {2218} INFO - iteration 290, current learner lrl2\n",
      "[flaml.automl.logger: 12-24 18:34:29] {2391} INFO -  at 436.5s,\testimator lrl2's best error=0.0260,\tbest estimator kneighbor's best error=0.0148\n",
      "[flaml.automl.logger: 12-24 18:34:29] {2218} INFO - iteration 291, current learner lrl2\n",
      "[flaml.automl.logger: 12-24 18:34:29] {2391} INFO -  at 437.1s,\testimator lrl2's best error=0.0260,\tbest estimator kneighbor's best error=0.0148\n",
      "[flaml.automl.logger: 12-24 18:34:29] {2218} INFO - iteration 292, current learner lrl2\n",
      "[flaml.automl.logger: 12-24 18:34:30] {2391} INFO -  at 437.6s,\testimator lrl2's best error=0.0260,\tbest estimator kneighbor's best error=0.0148\n",
      "[flaml.automl.logger: 12-24 18:34:30] {2218} INFO - iteration 293, current learner lrl2\n",
      "[flaml.automl.logger: 12-24 18:34:30] {2391} INFO -  at 438.1s,\testimator lrl2's best error=0.0260,\tbest estimator kneighbor's best error=0.0148\n",
      "[flaml.automl.logger: 12-24 18:34:30] {2218} INFO - iteration 294, current learner lrl2\n",
      "[flaml.automl.logger: 12-24 18:34:31] {2391} INFO -  at 438.8s,\testimator lrl2's best error=0.0260,\tbest estimator kneighbor's best error=0.0148\n",
      "[flaml.automl.logger: 12-24 18:34:31] {2218} INFO - iteration 295, current learner lrl2\n",
      "[flaml.automl.logger: 12-24 18:34:32] {2391} INFO -  at 439.5s,\testimator lrl2's best error=0.0260,\tbest estimator kneighbor's best error=0.0148\n",
      "[flaml.automl.logger: 12-24 18:34:32] {2218} INFO - iteration 296, current learner lrl2\n",
      "[flaml.automl.logger: 12-24 18:34:32] {2391} INFO -  at 440.1s,\testimator lrl2's best error=0.0260,\tbest estimator kneighbor's best error=0.0148\n",
      "[flaml.automl.logger: 12-24 18:34:32] {2218} INFO - iteration 297, current learner lrl2\n",
      "[flaml.automl.logger: 12-24 18:34:33] {2391} INFO -  at 440.8s,\testimator lrl2's best error=0.0260,\tbest estimator kneighbor's best error=0.0148\n",
      "[flaml.automl.logger: 12-24 18:34:33] {2218} INFO - iteration 298, current learner lrl2\n",
      "[flaml.automl.logger: 12-24 18:34:34] {2391} INFO -  at 441.3s,\testimator lrl2's best error=0.0260,\tbest estimator kneighbor's best error=0.0148\n",
      "[flaml.automl.logger: 12-24 18:34:34] {2218} INFO - iteration 299, current learner lrl2\n",
      "[flaml.automl.logger: 12-24 18:34:34] {2391} INFO -  at 442.1s,\testimator lrl2's best error=0.0260,\tbest estimator kneighbor's best error=0.0148\n",
      "[flaml.automl.logger: 12-24 18:34:34] {2218} INFO - iteration 300, current learner lrl2\n",
      "[flaml.automl.logger: 12-24 18:34:35] {2391} INFO -  at 442.7s,\testimator lrl2's best error=0.0260,\tbest estimator kneighbor's best error=0.0148\n",
      "[flaml.automl.logger: 12-24 18:34:35] {2218} INFO - iteration 301, current learner lrl2\n",
      "[flaml.automl.logger: 12-24 18:34:36] {2391} INFO -  at 443.3s,\testimator lrl2's best error=0.0260,\tbest estimator kneighbor's best error=0.0148\n",
      "[flaml.automl.logger: 12-24 18:34:36] {2218} INFO - iteration 302, current learner lrl2\n",
      "[flaml.automl.logger: 12-24 18:34:36] {2391} INFO -  at 444.1s,\testimator lrl2's best error=0.0260,\tbest estimator kneighbor's best error=0.0148\n",
      "[flaml.automl.logger: 12-24 18:34:36] {2218} INFO - iteration 303, current learner lrl2\n",
      "[flaml.automl.logger: 12-24 18:34:37] {2391} INFO -  at 444.7s,\testimator lrl2's best error=0.0260,\tbest estimator kneighbor's best error=0.0148\n",
      "[flaml.automl.logger: 12-24 18:34:37] {2218} INFO - iteration 304, current learner lrl2\n",
      "[flaml.automl.logger: 12-24 18:34:38] {2391} INFO -  at 445.3s,\testimator lrl2's best error=0.0260,\tbest estimator kneighbor's best error=0.0148\n",
      "[flaml.automl.logger: 12-24 18:34:38] {2218} INFO - iteration 305, current learner lrl2\n",
      "[flaml.automl.logger: 12-24 18:34:38] {2391} INFO -  at 446.0s,\testimator lrl2's best error=0.0260,\tbest estimator kneighbor's best error=0.0148\n",
      "[flaml.automl.logger: 12-24 18:34:38] {2218} INFO - iteration 306, current learner lrl2\n",
      "[flaml.automl.logger: 12-24 18:34:39] {2391} INFO -  at 446.6s,\testimator lrl2's best error=0.0260,\tbest estimator kneighbor's best error=0.0148\n",
      "[flaml.automl.logger: 12-24 18:34:39] {2218} INFO - iteration 307, current learner lrl2\n",
      "[flaml.automl.logger: 12-24 18:34:39] {2391} INFO -  at 447.1s,\testimator lrl2's best error=0.0260,\tbest estimator kneighbor's best error=0.0148\n",
      "[flaml.automl.logger: 12-24 18:34:39] {2218} INFO - iteration 308, current learner lrl2\n",
      "[flaml.automl.logger: 12-24 18:34:40] {2391} INFO -  at 447.7s,\testimator lrl2's best error=0.0260,\tbest estimator kneighbor's best error=0.0148\n",
      "[flaml.automl.logger: 12-24 18:34:40] {2218} INFO - iteration 309, current learner lrl2\n",
      "[flaml.automl.logger: 12-24 18:34:41] {2391} INFO -  at 448.3s,\testimator lrl2's best error=0.0260,\tbest estimator kneighbor's best error=0.0148\n",
      "[flaml.automl.logger: 12-24 18:34:41] {2218} INFO - iteration 310, current learner lrl2\n",
      "[flaml.automl.logger: 12-24 18:34:41] {2391} INFO -  at 448.8s,\testimator lrl2's best error=0.0260,\tbest estimator kneighbor's best error=0.0148\n",
      "[flaml.automl.logger: 12-24 18:34:41] {2218} INFO - iteration 311, current learner lrl2\n",
      "[flaml.automl.logger: 12-24 18:34:42] {2391} INFO -  at 449.5s,\testimator lrl2's best error=0.0260,\tbest estimator kneighbor's best error=0.0148\n",
      "[flaml.automl.logger: 12-24 18:34:42] {2218} INFO - iteration 312, current learner lrl2\n"
     ]
    },
    {
     "name": "stdout",
     "output_type": "stream",
     "text": [
      "[flaml.automl.logger: 12-24 18:34:42] {2391} INFO -  at 450.0s,\testimator lrl2's best error=0.0260,\tbest estimator kneighbor's best error=0.0148\n",
      "[flaml.automl.logger: 12-24 18:34:42] {2218} INFO - iteration 313, current learner lrl2\n",
      "[flaml.automl.logger: 12-24 18:34:43] {2391} INFO -  at 450.7s,\testimator lrl2's best error=0.0260,\tbest estimator kneighbor's best error=0.0148\n",
      "[flaml.automl.logger: 12-24 18:34:43] {2218} INFO - iteration 314, current learner lrl2\n",
      "[flaml.automl.logger: 12-24 18:34:44] {2391} INFO -  at 451.3s,\testimator lrl2's best error=0.0260,\tbest estimator kneighbor's best error=0.0148\n",
      "[flaml.automl.logger: 12-24 18:34:44] {2218} INFO - iteration 315, current learner lrl2\n",
      "[flaml.automl.logger: 12-24 18:34:44] {2391} INFO -  at 452.0s,\testimator lrl2's best error=0.0260,\tbest estimator kneighbor's best error=0.0148\n",
      "[flaml.automl.logger: 12-24 18:34:44] {2218} INFO - iteration 316, current learner lrl2\n",
      "[flaml.automl.logger: 12-24 18:34:45] {2391} INFO -  at 452.6s,\testimator lrl2's best error=0.0260,\tbest estimator kneighbor's best error=0.0148\n",
      "[flaml.automl.logger: 12-24 18:34:45] {2218} INFO - iteration 317, current learner lrl2\n",
      "[flaml.automl.logger: 12-24 18:34:46] {2391} INFO -  at 453.3s,\testimator lrl2's best error=0.0260,\tbest estimator kneighbor's best error=0.0148\n",
      "[flaml.automl.logger: 12-24 18:34:46] {2218} INFO - iteration 318, current learner lrl2\n",
      "[flaml.automl.logger: 12-24 18:34:46] {2391} INFO -  at 453.9s,\testimator lrl2's best error=0.0260,\tbest estimator kneighbor's best error=0.0148\n",
      "[flaml.automl.logger: 12-24 18:34:46] {2218} INFO - iteration 319, current learner lrl2\n",
      "[flaml.automl.logger: 12-24 18:34:47] {2391} INFO -  at 454.4s,\testimator lrl2's best error=0.0260,\tbest estimator kneighbor's best error=0.0148\n",
      "[flaml.automl.logger: 12-24 18:34:47] {2218} INFO - iteration 320, current learner lrl2\n",
      "[flaml.automl.logger: 12-24 18:34:47] {2391} INFO -  at 455.0s,\testimator lrl2's best error=0.0260,\tbest estimator kneighbor's best error=0.0148\n",
      "[flaml.automl.logger: 12-24 18:34:47] {2218} INFO - iteration 321, current learner lrl2\n",
      "[flaml.automl.logger: 12-24 18:34:48] {2391} INFO -  at 455.5s,\testimator lrl2's best error=0.0260,\tbest estimator kneighbor's best error=0.0148\n",
      "[flaml.automl.logger: 12-24 18:34:48] {2218} INFO - iteration 322, current learner lrl2\n",
      "[flaml.automl.logger: 12-24 18:34:48] {2391} INFO -  at 456.0s,\testimator lrl2's best error=0.0260,\tbest estimator kneighbor's best error=0.0148\n",
      "[flaml.automl.logger: 12-24 18:34:48] {2218} INFO - iteration 323, current learner lrl2\n",
      "[flaml.automl.logger: 12-24 18:34:49] {2391} INFO -  at 456.7s,\testimator lrl2's best error=0.0260,\tbest estimator kneighbor's best error=0.0148\n",
      "[flaml.automl.logger: 12-24 18:34:49] {2218} INFO - iteration 324, current learner lrl2\n",
      "[flaml.automl.logger: 12-24 18:34:50] {2391} INFO -  at 457.4s,\testimator lrl2's best error=0.0260,\tbest estimator kneighbor's best error=0.0148\n",
      "[flaml.automl.logger: 12-24 18:34:50] {2218} INFO - iteration 325, current learner lrl2\n",
      "[flaml.automl.logger: 12-24 18:34:51] {2391} INFO -  at 458.1s,\testimator lrl2's best error=0.0260,\tbest estimator kneighbor's best error=0.0148\n",
      "[flaml.automl.logger: 12-24 18:34:51] {2218} INFO - iteration 326, current learner lrl2\n",
      "[flaml.automl.logger: 12-24 18:34:51] {2391} INFO -  at 458.7s,\testimator lrl2's best error=0.0260,\tbest estimator kneighbor's best error=0.0148\n",
      "[flaml.automl.logger: 12-24 18:34:51] {2218} INFO - iteration 327, current learner lrl2\n",
      "[flaml.automl.logger: 12-24 18:34:52] {2391} INFO -  at 459.3s,\testimator lrl2's best error=0.0260,\tbest estimator kneighbor's best error=0.0148\n",
      "[flaml.automl.logger: 12-24 18:34:52] {2218} INFO - iteration 328, current learner lrl2\n",
      "[flaml.automl.logger: 12-24 18:34:52] {2391} INFO -  at 459.8s,\testimator lrl2's best error=0.0260,\tbest estimator kneighbor's best error=0.0148\n",
      "[flaml.automl.logger: 12-24 18:34:52] {2218} INFO - iteration 329, current learner lrl2\n",
      "[flaml.automl.logger: 12-24 18:34:53] {2391} INFO -  at 460.5s,\testimator lrl2's best error=0.0260,\tbest estimator kneighbor's best error=0.0148\n",
      "[flaml.automl.logger: 12-24 18:34:53] {2218} INFO - iteration 330, current learner lrl2\n",
      "[flaml.automl.logger: 12-24 18:34:53] {2391} INFO -  at 461.1s,\testimator lrl2's best error=0.0260,\tbest estimator kneighbor's best error=0.0148\n",
      "[flaml.automl.logger: 12-24 18:34:53] {2218} INFO - iteration 331, current learner lrl2\n",
      "[flaml.automl.logger: 12-24 18:34:54] {2391} INFO -  at 461.6s,\testimator lrl2's best error=0.0260,\tbest estimator kneighbor's best error=0.0148\n",
      "[flaml.automl.logger: 12-24 18:34:54] {2218} INFO - iteration 332, current learner lrl2\n",
      "[flaml.automl.logger: 12-24 18:34:55] {2391} INFO -  at 462.2s,\testimator lrl2's best error=0.0260,\tbest estimator kneighbor's best error=0.0148\n",
      "[flaml.automl.logger: 12-24 18:34:55] {2218} INFO - iteration 333, current learner lrl2\n",
      "[flaml.automl.logger: 12-24 18:34:55] {2391} INFO -  at 462.8s,\testimator lrl2's best error=0.0260,\tbest estimator kneighbor's best error=0.0148\n",
      "[flaml.automl.logger: 12-24 18:34:55] {2218} INFO - iteration 334, current learner lrl2\n",
      "[flaml.automl.logger: 12-24 18:34:56] {2391} INFO -  at 463.3s,\testimator lrl2's best error=0.0260,\tbest estimator kneighbor's best error=0.0148\n",
      "[flaml.automl.logger: 12-24 18:34:56] {2218} INFO - iteration 335, current learner lrl2\n",
      "[flaml.automl.logger: 12-24 18:34:56] {2391} INFO -  at 463.9s,\testimator lrl2's best error=0.0260,\tbest estimator kneighbor's best error=0.0148\n",
      "[flaml.automl.logger: 12-24 18:34:56] {2218} INFO - iteration 336, current learner lrl2\n",
      "[flaml.automl.logger: 12-24 18:34:57] {2391} INFO -  at 464.4s,\testimator lrl2's best error=0.0260,\tbest estimator kneighbor's best error=0.0148\n",
      "[flaml.automl.logger: 12-24 18:34:57] {2218} INFO - iteration 337, current learner lrl2\n",
      "[flaml.automl.logger: 12-24 18:34:57] {2391} INFO -  at 464.9s,\testimator lrl2's best error=0.0260,\tbest estimator kneighbor's best error=0.0148\n",
      "[flaml.automl.logger: 12-24 18:34:57] {2218} INFO - iteration 338, current learner lrl2\n",
      "[flaml.automl.logger: 12-24 18:34:58] {2391} INFO -  at 465.5s,\testimator lrl2's best error=0.0260,\tbest estimator kneighbor's best error=0.0148\n",
      "[flaml.automl.logger: 12-24 18:34:58] {2218} INFO - iteration 339, current learner lrl1\n"
     ]
    },
    {
     "name": "stderr",
     "output_type": "stream",
     "text": [
      "C:\\Users\\APU\\anaconda3\\Lib\\site-packages\\sklearn\\linear_model\\_sag.py:350: ConvergenceWarning: The max_iter was reached which means the coef_ did not converge\n",
      "  warnings.warn(\n",
      "C:\\Users\\APU\\anaconda3\\Lib\\site-packages\\sklearn\\linear_model\\_sag.py:350: ConvergenceWarning: The max_iter was reached which means the coef_ did not converge\n",
      "  warnings.warn(\n",
      "C:\\Users\\APU\\anaconda3\\Lib\\site-packages\\sklearn\\linear_model\\_sag.py:350: ConvergenceWarning: The max_iter was reached which means the coef_ did not converge\n",
      "  warnings.warn(\n",
      "C:\\Users\\APU\\anaconda3\\Lib\\site-packages\\sklearn\\linear_model\\_sag.py:350: ConvergenceWarning: The max_iter was reached which means the coef_ did not converge\n",
      "  warnings.warn(\n"
     ]
    },
    {
     "name": "stdout",
     "output_type": "stream",
     "text": [
      "[flaml.automl.logger: 12-24 18:35:03] {2391} INFO -  at 470.7s,\testimator lrl1's best error=0.0282,\tbest estimator kneighbor's best error=0.0148\n",
      "[flaml.automl.logger: 12-24 18:35:03] {2218} INFO - iteration 340, current learner lrl2\n"
     ]
    },
    {
     "name": "stderr",
     "output_type": "stream",
     "text": [
      "C:\\Users\\APU\\anaconda3\\Lib\\site-packages\\sklearn\\linear_model\\_sag.py:350: ConvergenceWarning: The max_iter was reached which means the coef_ did not converge\n",
      "  warnings.warn(\n"
     ]
    },
    {
     "name": "stdout",
     "output_type": "stream",
     "text": [
      "[flaml.automl.logger: 12-24 18:35:04] {2391} INFO -  at 471.3s,\testimator lrl2's best error=0.0260,\tbest estimator kneighbor's best error=0.0148\n",
      "[flaml.automl.logger: 12-24 18:35:04] {2218} INFO - iteration 341, current learner lrl2\n",
      "[flaml.automl.logger: 12-24 18:35:04] {2391} INFO -  at 471.9s,\testimator lrl2's best error=0.0260,\tbest estimator kneighbor's best error=0.0148\n",
      "[flaml.automl.logger: 12-24 18:35:04] {2218} INFO - iteration 342, current learner lrl2\n",
      "[flaml.automl.logger: 12-24 18:35:05] {2391} INFO -  at 472.7s,\testimator lrl2's best error=0.0260,\tbest estimator kneighbor's best error=0.0148\n",
      "[flaml.automl.logger: 12-24 18:35:05] {2218} INFO - iteration 343, current learner lrl2\n",
      "[flaml.automl.logger: 12-24 18:35:06] {2391} INFO -  at 473.2s,\testimator lrl2's best error=0.0260,\tbest estimator kneighbor's best error=0.0148\n",
      "[flaml.automl.logger: 12-24 18:35:06] {2218} INFO - iteration 344, current learner lrl2\n",
      "[flaml.automl.logger: 12-24 18:35:06] {2391} INFO -  at 474.0s,\testimator lrl2's best error=0.0260,\tbest estimator kneighbor's best error=0.0148\n",
      "[flaml.automl.logger: 12-24 18:35:06] {2218} INFO - iteration 345, current learner lrl2\n",
      "[flaml.automl.logger: 12-24 18:35:07] {2391} INFO -  at 474.6s,\testimator lrl2's best error=0.0260,\tbest estimator kneighbor's best error=0.0148\n",
      "[flaml.automl.logger: 12-24 18:35:07] {2218} INFO - iteration 346, current learner lrl2\n",
      "[flaml.automl.logger: 12-24 18:35:08] {2391} INFO -  at 475.3s,\testimator lrl2's best error=0.0260,\tbest estimator kneighbor's best error=0.0148\n",
      "[flaml.automl.logger: 12-24 18:35:08] {2218} INFO - iteration 347, current learner lrl2\n",
      "[flaml.automl.logger: 12-24 18:35:08] {2391} INFO -  at 475.8s,\testimator lrl2's best error=0.0260,\tbest estimator kneighbor's best error=0.0148\n",
      "[flaml.automl.logger: 12-24 18:35:08] {2218} INFO - iteration 348, current learner lrl2\n",
      "[flaml.automl.logger: 12-24 18:35:09] {2391} INFO -  at 476.3s,\testimator lrl2's best error=0.0260,\tbest estimator kneighbor's best error=0.0148\n",
      "[flaml.automl.logger: 12-24 18:35:09] {2218} INFO - iteration 349, current learner lrl2\n",
      "[flaml.automl.logger: 12-24 18:35:09] {2391} INFO -  at 476.8s,\testimator lrl2's best error=0.0260,\tbest estimator kneighbor's best error=0.0148\n",
      "[flaml.automl.logger: 12-24 18:35:09] {2218} INFO - iteration 350, current learner lrl2\n",
      "[flaml.automl.logger: 12-24 18:35:10] {2391} INFO -  at 477.3s,\testimator lrl2's best error=0.0260,\tbest estimator kneighbor's best error=0.0148\n",
      "[flaml.automl.logger: 12-24 18:35:10] {2218} INFO - iteration 351, current learner lrl2\n",
      "[flaml.automl.logger: 12-24 18:35:10] {2391} INFO -  at 478.1s,\testimator lrl2's best error=0.0260,\tbest estimator kneighbor's best error=0.0148\n",
      "[flaml.automl.logger: 12-24 18:35:10] {2218} INFO - iteration 352, current learner lrl2\n",
      "[flaml.automl.logger: 12-24 18:35:11] {2391} INFO -  at 478.7s,\testimator lrl2's best error=0.0260,\tbest estimator kneighbor's best error=0.0148\n",
      "[flaml.automl.logger: 12-24 18:35:11] {2218} INFO - iteration 353, current learner lrl2\n",
      "[flaml.automl.logger: 12-24 18:35:12] {2391} INFO -  at 479.3s,\testimator lrl2's best error=0.0260,\tbest estimator kneighbor's best error=0.0148\n",
      "[flaml.automl.logger: 12-24 18:35:12] {2218} INFO - iteration 354, current learner lrl2\n",
      "[flaml.automl.logger: 12-24 18:35:12] {2391} INFO -  at 480.0s,\testimator lrl2's best error=0.0260,\tbest estimator kneighbor's best error=0.0148\n",
      "[flaml.automl.logger: 12-24 18:35:12] {2218} INFO - iteration 355, current learner lrl2\n",
      "[flaml.automl.logger: 12-24 18:35:13] {2391} INFO -  at 480.6s,\testimator lrl2's best error=0.0260,\tbest estimator kneighbor's best error=0.0148\n",
      "[flaml.automl.logger: 12-24 18:35:13] {2218} INFO - iteration 356, current learner lrl2\n",
      "[flaml.automl.logger: 12-24 18:35:14] {2391} INFO -  at 481.3s,\testimator lrl2's best error=0.0260,\tbest estimator kneighbor's best error=0.0148\n",
      "[flaml.automl.logger: 12-24 18:35:14] {2218} INFO - iteration 357, current learner lrl2\n",
      "[flaml.automl.logger: 12-24 18:35:14] {2391} INFO -  at 481.8s,\testimator lrl2's best error=0.0260,\tbest estimator kneighbor's best error=0.0148\n",
      "[flaml.automl.logger: 12-24 18:35:14] {2218} INFO - iteration 358, current learner lrl2\n",
      "[flaml.automl.logger: 12-24 18:35:15] {2391} INFO -  at 482.3s,\testimator lrl2's best error=0.0260,\tbest estimator kneighbor's best error=0.0148\n",
      "[flaml.automl.logger: 12-24 18:35:15] {2218} INFO - iteration 359, current learner lrl2\n",
      "[flaml.automl.logger: 12-24 18:35:15] {2391} INFO -  at 482.8s,\testimator lrl2's best error=0.0260,\tbest estimator kneighbor's best error=0.0148\n",
      "[flaml.automl.logger: 12-24 18:35:15] {2218} INFO - iteration 360, current learner lrl2\n",
      "[flaml.automl.logger: 12-24 18:35:16] {2391} INFO -  at 483.4s,\testimator lrl2's best error=0.0260,\tbest estimator kneighbor's best error=0.0148\n",
      "[flaml.automl.logger: 12-24 18:35:16] {2218} INFO - iteration 361, current learner lrl2\n",
      "[flaml.automl.logger: 12-24 18:35:16] {2391} INFO -  at 483.9s,\testimator lrl2's best error=0.0260,\tbest estimator kneighbor's best error=0.0148\n",
      "[flaml.automl.logger: 12-24 18:35:16] {2218} INFO - iteration 362, current learner lrl2\n",
      "[flaml.automl.logger: 12-24 18:35:17] {2391} INFO -  at 484.8s,\testimator lrl2's best error=0.0260,\tbest estimator kneighbor's best error=0.0148\n",
      "[flaml.automl.logger: 12-24 18:35:17] {2218} INFO - iteration 363, current learner lrl2\n",
      "[flaml.automl.logger: 12-24 18:35:18] {2391} INFO -  at 485.4s,\testimator lrl2's best error=0.0260,\tbest estimator kneighbor's best error=0.0148\n",
      "[flaml.automl.logger: 12-24 18:35:18] {2218} INFO - iteration 364, current learner lrl2\n",
      "[flaml.automl.logger: 12-24 18:35:18] {2391} INFO -  at 486.1s,\testimator lrl2's best error=0.0260,\tbest estimator kneighbor's best error=0.0148\n",
      "[flaml.automl.logger: 12-24 18:35:18] {2218} INFO - iteration 365, current learner lrl2\n",
      "[flaml.automl.logger: 12-24 18:35:19] {2391} INFO -  at 486.8s,\testimator lrl2's best error=0.0260,\tbest estimator kneighbor's best error=0.0148\n",
      "[flaml.automl.logger: 12-24 18:35:19] {2218} INFO - iteration 366, current learner lrl2\n",
      "[flaml.automl.logger: 12-24 18:35:20] {2391} INFO -  at 487.3s,\testimator lrl2's best error=0.0260,\tbest estimator kneighbor's best error=0.0148\n",
      "[flaml.automl.logger: 12-24 18:35:20] {2218} INFO - iteration 367, current learner lrl2\n",
      "[flaml.automl.logger: 12-24 18:35:20] {2391} INFO -  at 487.8s,\testimator lrl2's best error=0.0260,\tbest estimator kneighbor's best error=0.0148\n",
      "[flaml.automl.logger: 12-24 18:35:20] {2218} INFO - iteration 368, current learner lrl2\n",
      "[flaml.automl.logger: 12-24 18:35:21] {2391} INFO -  at 488.4s,\testimator lrl2's best error=0.0260,\tbest estimator kneighbor's best error=0.0148\n",
      "[flaml.automl.logger: 12-24 18:35:21] {2218} INFO - iteration 369, current learner lrl2\n",
      "[flaml.automl.logger: 12-24 18:35:21] {2391} INFO -  at 488.9s,\testimator lrl2's best error=0.0260,\tbest estimator kneighbor's best error=0.0148\n",
      "[flaml.automl.logger: 12-24 18:35:21] {2218} INFO - iteration 370, current learner lrl2\n",
      "[flaml.automl.logger: 12-24 18:35:22] {2391} INFO -  at 489.5s,\testimator lrl2's best error=0.0260,\tbest estimator kneighbor's best error=0.0148\n",
      "[flaml.automl.logger: 12-24 18:35:22] {2218} INFO - iteration 371, current learner lrl2\n",
      "[flaml.automl.logger: 12-24 18:35:22] {2391} INFO -  at 490.1s,\testimator lrl2's best error=0.0260,\tbest estimator kneighbor's best error=0.0148\n",
      "[flaml.automl.logger: 12-24 18:35:22] {2218} INFO - iteration 372, current learner lrl2\n",
      "[flaml.automl.logger: 12-24 18:35:23] {2391} INFO -  at 490.8s,\testimator lrl2's best error=0.0260,\tbest estimator kneighbor's best error=0.0148\n",
      "[flaml.automl.logger: 12-24 18:35:23] {2218} INFO - iteration 373, current learner lrl2\n",
      "[flaml.automl.logger: 12-24 18:35:24] {2391} INFO -  at 491.5s,\testimator lrl2's best error=0.0260,\tbest estimator kneighbor's best error=0.0148\n",
      "[flaml.automl.logger: 12-24 18:35:24] {2218} INFO - iteration 374, current learner lrl2\n",
      "[flaml.automl.logger: 12-24 18:35:24] {2391} INFO -  at 492.1s,\testimator lrl2's best error=0.0260,\tbest estimator kneighbor's best error=0.0148\n",
      "[flaml.automl.logger: 12-24 18:35:24] {2218} INFO - iteration 375, current learner lrl1\n"
     ]
    },
    {
     "name": "stderr",
     "output_type": "stream",
     "text": [
      "C:\\Users\\APU\\anaconda3\\Lib\\site-packages\\sklearn\\linear_model\\_sag.py:350: ConvergenceWarning: The max_iter was reached which means the coef_ did not converge\n",
      "  warnings.warn(\n",
      "C:\\Users\\APU\\anaconda3\\Lib\\site-packages\\sklearn\\linear_model\\_sag.py:350: ConvergenceWarning: The max_iter was reached which means the coef_ did not converge\n",
      "  warnings.warn(\n",
      "C:\\Users\\APU\\anaconda3\\Lib\\site-packages\\sklearn\\linear_model\\_sag.py:350: ConvergenceWarning: The max_iter was reached which means the coef_ did not converge\n",
      "  warnings.warn(\n",
      "C:\\Users\\APU\\anaconda3\\Lib\\site-packages\\sklearn\\linear_model\\_sag.py:350: ConvergenceWarning: The max_iter was reached which means the coef_ did not converge\n",
      "  warnings.warn(\n"
     ]
    },
    {
     "name": "stdout",
     "output_type": "stream",
     "text": [
      "[flaml.automl.logger: 12-24 18:35:30] {2391} INFO -  at 497.3s,\testimator lrl1's best error=0.0282,\tbest estimator kneighbor's best error=0.0148\n",
      "[flaml.automl.logger: 12-24 18:35:30] {2218} INFO - iteration 376, current learner lrl2\n"
     ]
    },
    {
     "name": "stderr",
     "output_type": "stream",
     "text": [
      "C:\\Users\\APU\\anaconda3\\Lib\\site-packages\\sklearn\\linear_model\\_sag.py:350: ConvergenceWarning: The max_iter was reached which means the coef_ did not converge\n",
      "  warnings.warn(\n"
     ]
    },
    {
     "name": "stdout",
     "output_type": "stream",
     "text": [
      "[flaml.automl.logger: 12-24 18:35:30] {2391} INFO -  at 497.8s,\testimator lrl2's best error=0.0260,\tbest estimator kneighbor's best error=0.0148\n",
      "[flaml.automl.logger: 12-24 18:35:30] {2218} INFO - iteration 377, current learner lrl2\n",
      "[flaml.automl.logger: 12-24 18:35:31] {2391} INFO -  at 498.5s,\testimator lrl2's best error=0.0260,\tbest estimator kneighbor's best error=0.0148\n",
      "[flaml.automl.logger: 12-24 18:35:31] {2218} INFO - iteration 378, current learner lrl2\n",
      "[flaml.automl.logger: 12-24 18:35:31] {2391} INFO -  at 499.0s,\testimator lrl2's best error=0.0260,\tbest estimator kneighbor's best error=0.0148\n",
      "[flaml.automl.logger: 12-24 18:35:31] {2218} INFO - iteration 379, current learner lrl2\n",
      "[flaml.automl.logger: 12-24 18:35:32] {2391} INFO -  at 499.6s,\testimator lrl2's best error=0.0260,\tbest estimator kneighbor's best error=0.0148\n",
      "[flaml.automl.logger: 12-24 18:35:32] {2218} INFO - iteration 380, current learner lrl2\n",
      "[flaml.automl.logger: 12-24 18:35:32] {2391} INFO -  at 500.1s,\testimator lrl2's best error=0.0260,\tbest estimator kneighbor's best error=0.0148\n",
      "[flaml.automl.logger: 12-24 18:35:32] {2218} INFO - iteration 381, current learner lrl2\n",
      "[flaml.automl.logger: 12-24 18:35:33] {2391} INFO -  at 500.6s,\testimator lrl2's best error=0.0260,\tbest estimator kneighbor's best error=0.0148\n",
      "[flaml.automl.logger: 12-24 18:35:33] {2218} INFO - iteration 382, current learner lrl2\n",
      "[flaml.automl.logger: 12-24 18:35:34] {2391} INFO -  at 501.3s,\testimator lrl2's best error=0.0260,\tbest estimator kneighbor's best error=0.0148\n",
      "[flaml.automl.logger: 12-24 18:35:34] {2218} INFO - iteration 383, current learner lrl2\n",
      "[flaml.automl.logger: 12-24 18:35:34] {2391} INFO -  at 501.9s,\testimator lrl2's best error=0.0260,\tbest estimator kneighbor's best error=0.0148\n",
      "[flaml.automl.logger: 12-24 18:35:34] {2218} INFO - iteration 384, current learner lrl2\n",
      "[flaml.automl.logger: 12-24 18:35:35] {2391} INFO -  at 502.5s,\testimator lrl2's best error=0.0260,\tbest estimator kneighbor's best error=0.0148\n",
      "[flaml.automl.logger: 12-24 18:35:35] {2218} INFO - iteration 385, current learner lrl2\n",
      "[flaml.automl.logger: 12-24 18:35:36] {2391} INFO -  at 503.2s,\testimator lrl2's best error=0.0260,\tbest estimator kneighbor's best error=0.0148\n",
      "[flaml.automl.logger: 12-24 18:35:36] {2218} INFO - iteration 386, current learner lrl2\n",
      "[flaml.automl.logger: 12-24 18:35:36] {2391} INFO -  at 503.8s,\testimator lrl2's best error=0.0260,\tbest estimator kneighbor's best error=0.0148\n",
      "[flaml.automl.logger: 12-24 18:35:36] {2218} INFO - iteration 387, current learner lrl2\n",
      "[flaml.automl.logger: 12-24 18:35:37] {2391} INFO -  at 504.5s,\testimator lrl2's best error=0.0260,\tbest estimator kneighbor's best error=0.0148\n",
      "[flaml.automl.logger: 12-24 18:35:37] {2218} INFO - iteration 388, current learner lrl2\n",
      "[flaml.automl.logger: 12-24 18:35:37] {2391} INFO -  at 505.0s,\testimator lrl2's best error=0.0260,\tbest estimator kneighbor's best error=0.0148\n",
      "[flaml.automl.logger: 12-24 18:35:37] {2218} INFO - iteration 389, current learner lrl2\n",
      "[flaml.automl.logger: 12-24 18:35:38] {2391} INFO -  at 505.8s,\testimator lrl2's best error=0.0260,\tbest estimator kneighbor's best error=0.0148\n",
      "[flaml.automl.logger: 12-24 18:35:38] {2218} INFO - iteration 390, current learner lrl2\n",
      "[flaml.automl.logger: 12-24 18:35:39] {2391} INFO -  at 506.5s,\testimator lrl2's best error=0.0260,\tbest estimator kneighbor's best error=0.0148\n",
      "[flaml.automl.logger: 12-24 18:35:39] {2218} INFO - iteration 391, current learner lrl2\n",
      "[flaml.automl.logger: 12-24 18:35:39] {2391} INFO -  at 507.0s,\testimator lrl2's best error=0.0260,\tbest estimator kneighbor's best error=0.0148\n",
      "[flaml.automl.logger: 12-24 18:35:39] {2218} INFO - iteration 392, current learner lrl2\n",
      "[flaml.automl.logger: 12-24 18:35:40] {2391} INFO -  at 507.7s,\testimator lrl2's best error=0.0260,\tbest estimator kneighbor's best error=0.0148\n",
      "[flaml.automl.logger: 12-24 18:35:40] {2218} INFO - iteration 393, current learner lrl2\n",
      "[flaml.automl.logger: 12-24 18:35:41] {2391} INFO -  at 508.4s,\testimator lrl2's best error=0.0260,\tbest estimator kneighbor's best error=0.0148\n",
      "[flaml.automl.logger: 12-24 18:35:41] {2218} INFO - iteration 394, current learner lrl2\n",
      "[flaml.automl.logger: 12-24 18:35:41] {2391} INFO -  at 509.1s,\testimator lrl2's best error=0.0260,\tbest estimator kneighbor's best error=0.0148\n",
      "[flaml.automl.logger: 12-24 18:35:41] {2218} INFO - iteration 395, current learner lrl2\n",
      "[flaml.automl.logger: 12-24 18:35:42] {2391} INFO -  at 509.6s,\testimator lrl2's best error=0.0260,\tbest estimator kneighbor's best error=0.0148\n",
      "[flaml.automl.logger: 12-24 18:35:42] {2218} INFO - iteration 396, current learner lrl2\n",
      "[flaml.automl.logger: 12-24 18:35:43] {2391} INFO -  at 510.3s,\testimator lrl2's best error=0.0260,\tbest estimator kneighbor's best error=0.0148\n",
      "[flaml.automl.logger: 12-24 18:35:43] {2218} INFO - iteration 397, current learner lrl1\n"
     ]
    },
    {
     "name": "stderr",
     "output_type": "stream",
     "text": [
      "C:\\Users\\APU\\anaconda3\\Lib\\site-packages\\sklearn\\linear_model\\_sag.py:350: ConvergenceWarning: The max_iter was reached which means the coef_ did not converge\n",
      "  warnings.warn(\n",
      "C:\\Users\\APU\\anaconda3\\Lib\\site-packages\\sklearn\\linear_model\\_sag.py:350: ConvergenceWarning: The max_iter was reached which means the coef_ did not converge\n",
      "  warnings.warn(\n",
      "C:\\Users\\APU\\anaconda3\\Lib\\site-packages\\sklearn\\linear_model\\_sag.py:350: ConvergenceWarning: The max_iter was reached which means the coef_ did not converge\n",
      "  warnings.warn(\n",
      "C:\\Users\\APU\\anaconda3\\Lib\\site-packages\\sklearn\\linear_model\\_sag.py:350: ConvergenceWarning: The max_iter was reached which means the coef_ did not converge\n",
      "  warnings.warn(\n"
     ]
    },
    {
     "name": "stdout",
     "output_type": "stream",
     "text": [
      "[flaml.automl.logger: 12-24 18:35:48] {2391} INFO -  at 515.4s,\testimator lrl1's best error=0.0282,\tbest estimator kneighbor's best error=0.0148\n",
      "[flaml.automl.logger: 12-24 18:35:48] {2218} INFO - iteration 398, current learner lrl2\n"
     ]
    },
    {
     "name": "stderr",
     "output_type": "stream",
     "text": [
      "C:\\Users\\APU\\anaconda3\\Lib\\site-packages\\sklearn\\linear_model\\_sag.py:350: ConvergenceWarning: The max_iter was reached which means the coef_ did not converge\n",
      "  warnings.warn(\n"
     ]
    },
    {
     "name": "stdout",
     "output_type": "stream",
     "text": [
      "[flaml.automl.logger: 12-24 18:35:48] {2391} INFO -  at 516.0s,\testimator lrl2's best error=0.0260,\tbest estimator kneighbor's best error=0.0148\n",
      "[flaml.automl.logger: 12-24 18:35:48] {2218} INFO - iteration 399, current learner lrl2\n",
      "[flaml.automl.logger: 12-24 18:35:49] {2391} INFO -  at 516.8s,\testimator lrl2's best error=0.0260,\tbest estimator kneighbor's best error=0.0148\n",
      "[flaml.automl.logger: 12-24 18:35:49] {2218} INFO - iteration 400, current learner lrl2\n",
      "[flaml.automl.logger: 12-24 18:35:50] {2391} INFO -  at 517.3s,\testimator lrl2's best error=0.0260,\tbest estimator kneighbor's best error=0.0148\n",
      "[flaml.automl.logger: 12-24 18:35:50] {2218} INFO - iteration 401, current learner lrl2\n",
      "[flaml.automl.logger: 12-24 18:35:50] {2391} INFO -  at 518.0s,\testimator lrl2's best error=0.0260,\tbest estimator kneighbor's best error=0.0148\n",
      "[flaml.automl.logger: 12-24 18:35:50] {2218} INFO - iteration 402, current learner lrl2\n",
      "[flaml.automl.logger: 12-24 18:35:51] {2391} INFO -  at 518.7s,\testimator lrl2's best error=0.0260,\tbest estimator kneighbor's best error=0.0148\n",
      "[flaml.automl.logger: 12-24 18:35:51] {2218} INFO - iteration 403, current learner lrl2\n",
      "[flaml.automl.logger: 12-24 18:35:52] {2391} INFO -  at 519.2s,\testimator lrl2's best error=0.0260,\tbest estimator kneighbor's best error=0.0148\n",
      "[flaml.automl.logger: 12-24 18:35:52] {2218} INFO - iteration 404, current learner lrl2\n",
      "[flaml.automl.logger: 12-24 18:35:52] {2391} INFO -  at 520.0s,\testimator lrl2's best error=0.0260,\tbest estimator kneighbor's best error=0.0148\n",
      "[flaml.automl.logger: 12-24 18:35:52] {2218} INFO - iteration 405, current learner lrl2\n",
      "[flaml.automl.logger: 12-24 18:35:53] {2391} INFO -  at 520.5s,\testimator lrl2's best error=0.0260,\tbest estimator kneighbor's best error=0.0148\n",
      "[flaml.automl.logger: 12-24 18:35:53] {2218} INFO - iteration 406, current learner lrl2\n",
      "[flaml.automl.logger: 12-24 18:35:54] {2391} INFO -  at 521.2s,\testimator lrl2's best error=0.0260,\tbest estimator kneighbor's best error=0.0148\n",
      "[flaml.automl.logger: 12-24 18:35:54] {2218} INFO - iteration 407, current learner lrl2\n",
      "[flaml.automl.logger: 12-24 18:35:54] {2391} INFO -  at 521.9s,\testimator lrl2's best error=0.0260,\tbest estimator kneighbor's best error=0.0148\n",
      "[flaml.automl.logger: 12-24 18:35:54] {2218} INFO - iteration 408, current learner lrl2\n",
      "[flaml.automl.logger: 12-24 18:35:55] {2391} INFO -  at 522.4s,\testimator lrl2's best error=0.0260,\tbest estimator kneighbor's best error=0.0148\n",
      "[flaml.automl.logger: 12-24 18:35:55] {2218} INFO - iteration 409, current learner lrl2\n",
      "[flaml.automl.logger: 12-24 18:35:56] {2391} INFO -  at 523.2s,\testimator lrl2's best error=0.0260,\tbest estimator kneighbor's best error=0.0148\n",
      "[flaml.automl.logger: 12-24 18:35:56] {2218} INFO - iteration 410, current learner lrl2\n",
      "[flaml.automl.logger: 12-24 18:35:56] {2391} INFO -  at 523.9s,\testimator lrl2's best error=0.0260,\tbest estimator kneighbor's best error=0.0148\n",
      "[flaml.automl.logger: 12-24 18:35:56] {2218} INFO - iteration 411, current learner lrl2\n",
      "[flaml.automl.logger: 12-24 18:35:57] {2391} INFO -  at 524.5s,\testimator lrl2's best error=0.0260,\tbest estimator kneighbor's best error=0.0148\n",
      "[flaml.automl.logger: 12-24 18:35:57] {2218} INFO - iteration 412, current learner lrl2\n",
      "[flaml.automl.logger: 12-24 18:35:58] {2391} INFO -  at 525.1s,\testimator lrl2's best error=0.0260,\tbest estimator kneighbor's best error=0.0148\n",
      "[flaml.automl.logger: 12-24 18:35:58] {2218} INFO - iteration 413, current learner lrl2\n",
      "[flaml.automl.logger: 12-24 18:35:58] {2391} INFO -  at 525.7s,\testimator lrl2's best error=0.0260,\tbest estimator kneighbor's best error=0.0148\n",
      "[flaml.automl.logger: 12-24 18:35:58] {2218} INFO - iteration 414, current learner lrl2\n",
      "[flaml.automl.logger: 12-24 18:35:59] {2391} INFO -  at 526.5s,\testimator lrl2's best error=0.0260,\tbest estimator kneighbor's best error=0.0148\n",
      "[flaml.automl.logger: 12-24 18:35:59] {2218} INFO - iteration 415, current learner lrl2\n",
      "[flaml.automl.logger: 12-24 18:35:59] {2391} INFO -  at 527.0s,\testimator lrl2's best error=0.0260,\tbest estimator kneighbor's best error=0.0148\n",
      "[flaml.automl.logger: 12-24 18:35:59] {2218} INFO - iteration 416, current learner lrl2\n",
      "[flaml.automl.logger: 12-24 18:36:00] {2391} INFO -  at 527.8s,\testimator lrl2's best error=0.0260,\tbest estimator kneighbor's best error=0.0148\n",
      "[flaml.automl.logger: 12-24 18:36:00] {2218} INFO - iteration 417, current learner lrl2\n",
      "[flaml.automl.logger: 12-24 18:36:01] {2391} INFO -  at 528.3s,\testimator lrl2's best error=0.0260,\tbest estimator kneighbor's best error=0.0148\n",
      "[flaml.automl.logger: 12-24 18:36:01] {2218} INFO - iteration 418, current learner lrl2\n",
      "[flaml.automl.logger: 12-24 18:36:01] {2391} INFO -  at 529.1s,\testimator lrl2's best error=0.0260,\tbest estimator kneighbor's best error=0.0148\n",
      "[flaml.automl.logger: 12-24 18:36:01] {2218} INFO - iteration 419, current learner lrl2\n",
      "[flaml.automl.logger: 12-24 18:36:02] {2391} INFO -  at 529.8s,\testimator lrl2's best error=0.0260,\tbest estimator kneighbor's best error=0.0148\n",
      "[flaml.automl.logger: 12-24 18:36:02] {2218} INFO - iteration 420, current learner lrl2\n",
      "[flaml.automl.logger: 12-24 18:36:03] {2391} INFO -  at 530.5s,\testimator lrl2's best error=0.0260,\tbest estimator kneighbor's best error=0.0148\n",
      "[flaml.automl.logger: 12-24 18:36:03] {2218} INFO - iteration 421, current learner lrl2\n",
      "[flaml.automl.logger: 12-24 18:36:03] {2391} INFO -  at 531.0s,\testimator lrl2's best error=0.0260,\tbest estimator kneighbor's best error=0.0148\n",
      "[flaml.automl.logger: 12-24 18:36:03] {2218} INFO - iteration 422, current learner lrl2\n",
      "[flaml.automl.logger: 12-24 18:36:04] {2391} INFO -  at 531.7s,\testimator lrl2's best error=0.0260,\tbest estimator kneighbor's best error=0.0148\n",
      "[flaml.automl.logger: 12-24 18:36:04] {2218} INFO - iteration 423, current learner lrl2\n",
      "[flaml.automl.logger: 12-24 18:36:05] {2391} INFO -  at 532.4s,\testimator lrl2's best error=0.0260,\tbest estimator kneighbor's best error=0.0148\n",
      "[flaml.automl.logger: 12-24 18:36:05] {2218} INFO - iteration 424, current learner lrl2\n",
      "[flaml.automl.logger: 12-24 18:36:05] {2391} INFO -  at 533.0s,\testimator lrl2's best error=0.0260,\tbest estimator kneighbor's best error=0.0148\n",
      "[flaml.automl.logger: 12-24 18:36:05] {2218} INFO - iteration 425, current learner lrl2\n",
      "[flaml.automl.logger: 12-24 18:36:06] {2391} INFO -  at 533.7s,\testimator lrl2's best error=0.0260,\tbest estimator kneighbor's best error=0.0148\n",
      "[flaml.automl.logger: 12-24 18:36:06] {2218} INFO - iteration 426, current learner rf\n",
      "[flaml.automl.logger: 12-24 18:36:11] {2391} INFO -  at 539.1s,\testimator rf's best error=0.0208,\tbest estimator kneighbor's best error=0.0148\n",
      "[flaml.automl.logger: 12-24 18:36:11] {2218} INFO - iteration 427, current learner lrl2\n",
      "[flaml.automl.logger: 12-24 18:36:12] {2391} INFO -  at 539.7s,\testimator lrl2's best error=0.0260,\tbest estimator kneighbor's best error=0.0148\n",
      "[flaml.automl.logger: 12-24 18:36:12] {2218} INFO - iteration 428, current learner lrl2\n",
      "[flaml.automl.logger: 12-24 18:36:13] {2391} INFO -  at 540.4s,\testimator lrl2's best error=0.0260,\tbest estimator kneighbor's best error=0.0148\n",
      "[flaml.automl.logger: 12-24 18:36:13] {2218} INFO - iteration 429, current learner lrl2\n",
      "[flaml.automl.logger: 12-24 18:36:13] {2391} INFO -  at 541.0s,\testimator lrl2's best error=0.0260,\tbest estimator kneighbor's best error=0.0148\n",
      "[flaml.automl.logger: 12-24 18:36:13] {2218} INFO - iteration 430, current learner lrl1\n"
     ]
    },
    {
     "name": "stderr",
     "output_type": "stream",
     "text": [
      "C:\\Users\\APU\\anaconda3\\Lib\\site-packages\\sklearn\\linear_model\\_sag.py:350: ConvergenceWarning: The max_iter was reached which means the coef_ did not converge\n",
      "  warnings.warn(\n",
      "C:\\Users\\APU\\anaconda3\\Lib\\site-packages\\sklearn\\linear_model\\_sag.py:350: ConvergenceWarning: The max_iter was reached which means the coef_ did not converge\n",
      "  warnings.warn(\n",
      "C:\\Users\\APU\\anaconda3\\Lib\\site-packages\\sklearn\\linear_model\\_sag.py:350: ConvergenceWarning: The max_iter was reached which means the coef_ did not converge\n",
      "  warnings.warn(\n",
      "C:\\Users\\APU\\anaconda3\\Lib\\site-packages\\sklearn\\linear_model\\_sag.py:350: ConvergenceWarning: The max_iter was reached which means the coef_ did not converge\n",
      "  warnings.warn(\n"
     ]
    },
    {
     "name": "stdout",
     "output_type": "stream",
     "text": [
      "[flaml.automl.logger: 12-24 18:36:19] {2391} INFO -  at 546.2s,\testimator lrl1's best error=0.0282,\tbest estimator kneighbor's best error=0.0148\n",
      "[flaml.automl.logger: 12-24 18:36:19] {2218} INFO - iteration 431, current learner lrl2\n"
     ]
    },
    {
     "name": "stderr",
     "output_type": "stream",
     "text": [
      "C:\\Users\\APU\\anaconda3\\Lib\\site-packages\\sklearn\\linear_model\\_sag.py:350: ConvergenceWarning: The max_iter was reached which means the coef_ did not converge\n",
      "  warnings.warn(\n"
     ]
    },
    {
     "name": "stdout",
     "output_type": "stream",
     "text": [
      "[flaml.automl.logger: 12-24 18:36:19] {2391} INFO -  at 546.8s,\testimator lrl2's best error=0.0260,\tbest estimator kneighbor's best error=0.0148\n",
      "[flaml.automl.logger: 12-24 18:36:19] {2218} INFO - iteration 432, current learner lrl2\n",
      "[flaml.automl.logger: 12-24 18:36:20] {2391} INFO -  at 547.4s,\testimator lrl2's best error=0.0260,\tbest estimator kneighbor's best error=0.0148\n",
      "[flaml.automl.logger: 12-24 18:36:20] {2218} INFO - iteration 433, current learner lrl2\n",
      "[flaml.automl.logger: 12-24 18:36:20] {2391} INFO -  at 548.0s,\testimator lrl2's best error=0.0260,\tbest estimator kneighbor's best error=0.0148\n",
      "[flaml.automl.logger: 12-24 18:36:20] {2218} INFO - iteration 434, current learner lrl2\n",
      "[flaml.automl.logger: 12-24 18:36:21] {2391} INFO -  at 548.7s,\testimator lrl2's best error=0.0260,\tbest estimator kneighbor's best error=0.0148\n",
      "[flaml.automl.logger: 12-24 18:36:21] {2218} INFO - iteration 435, current learner lrl2\n",
      "[flaml.automl.logger: 12-24 18:36:22] {2391} INFO -  at 549.2s,\testimator lrl2's best error=0.0260,\tbest estimator kneighbor's best error=0.0148\n",
      "[flaml.automl.logger: 12-24 18:36:22] {2218} INFO - iteration 436, current learner lrl2\n",
      "[flaml.automl.logger: 12-24 18:36:22] {2391} INFO -  at 549.9s,\testimator lrl2's best error=0.0260,\tbest estimator kneighbor's best error=0.0148\n",
      "[flaml.automl.logger: 12-24 18:36:22] {2218} INFO - iteration 437, current learner lrl2\n",
      "[flaml.automl.logger: 12-24 18:36:23] {2391} INFO -  at 550.6s,\testimator lrl2's best error=0.0260,\tbest estimator kneighbor's best error=0.0148\n",
      "[flaml.automl.logger: 12-24 18:36:23] {2218} INFO - iteration 438, current learner lrl2\n",
      "[flaml.automl.logger: 12-24 18:36:24] {2391} INFO -  at 551.2s,\testimator lrl2's best error=0.0260,\tbest estimator kneighbor's best error=0.0148\n",
      "[flaml.automl.logger: 12-24 18:36:24] {2218} INFO - iteration 439, current learner lrl2\n",
      "[flaml.automl.logger: 12-24 18:36:24] {2391} INFO -  at 551.9s,\testimator lrl2's best error=0.0260,\tbest estimator kneighbor's best error=0.0148\n",
      "[flaml.automl.logger: 12-24 18:36:24] {2218} INFO - iteration 440, current learner lrl2\n",
      "[flaml.automl.logger: 12-24 18:36:25] {2391} INFO -  at 552.6s,\testimator lrl2's best error=0.0260,\tbest estimator kneighbor's best error=0.0148\n",
      "[flaml.automl.logger: 12-24 18:36:25] {2218} INFO - iteration 441, current learner lrl2\n",
      "[flaml.automl.logger: 12-24 18:36:26] {2391} INFO -  at 553.2s,\testimator lrl2's best error=0.0260,\tbest estimator kneighbor's best error=0.0148\n",
      "[flaml.automl.logger: 12-24 18:36:26] {2218} INFO - iteration 442, current learner lrl2\n",
      "[flaml.automl.logger: 12-24 18:36:26] {2391} INFO -  at 553.9s,\testimator lrl2's best error=0.0260,\tbest estimator kneighbor's best error=0.0148\n",
      "[flaml.automl.logger: 12-24 18:36:26] {2218} INFO - iteration 443, current learner lrl2\n",
      "[flaml.automl.logger: 12-24 18:36:27] {2391} INFO -  at 554.4s,\testimator lrl2's best error=0.0260,\tbest estimator kneighbor's best error=0.0148\n",
      "[flaml.automl.logger: 12-24 18:36:27] {2218} INFO - iteration 444, current learner lrl2\n",
      "[flaml.automl.logger: 12-24 18:36:28] {2391} INFO -  at 555.2s,\testimator lrl2's best error=0.0260,\tbest estimator kneighbor's best error=0.0148\n",
      "[flaml.automl.logger: 12-24 18:36:28] {2218} INFO - iteration 445, current learner rf\n",
      "[flaml.automl.logger: 12-24 18:36:33] {2391} INFO -  at 560.3s,\testimator rf's best error=0.0208,\tbest estimator kneighbor's best error=0.0148\n",
      "[flaml.automl.logger: 12-24 18:36:33] {2218} INFO - iteration 446, current learner lrl2\n",
      "[flaml.automl.logger: 12-24 18:36:33] {2391} INFO -  at 560.8s,\testimator lrl2's best error=0.0260,\tbest estimator kneighbor's best error=0.0148\n",
      "[flaml.automl.logger: 12-24 18:36:33] {2218} INFO - iteration 447, current learner rf\n",
      "[flaml.automl.logger: 12-24 18:36:39] {2391} INFO -  at 566.6s,\testimator rf's best error=0.0208,\tbest estimator kneighbor's best error=0.0148\n",
      "[flaml.automl.logger: 12-24 18:36:39] {2218} INFO - iteration 448, current learner lrl2\n",
      "[flaml.automl.logger: 12-24 18:36:40] {2391} INFO -  at 567.1s,\testimator lrl2's best error=0.0260,\tbest estimator kneighbor's best error=0.0148\n",
      "[flaml.automl.logger: 12-24 18:36:40] {2218} INFO - iteration 449, current learner lrl2\n",
      "[flaml.automl.logger: 12-24 18:36:40] {2391} INFO -  at 567.6s,\testimator lrl2's best error=0.0260,\tbest estimator kneighbor's best error=0.0148\n",
      "[flaml.automl.logger: 12-24 18:36:40] {2218} INFO - iteration 450, current learner lrl2\n",
      "[flaml.automl.logger: 12-24 18:36:41] {2391} INFO -  at 568.2s,\testimator lrl2's best error=0.0260,\tbest estimator kneighbor's best error=0.0148\n",
      "[flaml.automl.logger: 12-24 18:36:41] {2218} INFO - iteration 451, current learner lrl2\n",
      "[flaml.automl.logger: 12-24 18:36:41] {2391} INFO -  at 568.9s,\testimator lrl2's best error=0.0260,\tbest estimator kneighbor's best error=0.0148\n",
      "[flaml.automl.logger: 12-24 18:36:41] {2218} INFO - iteration 452, current learner lrl2\n",
      "[flaml.automl.logger: 12-24 18:36:42] {2391} INFO -  at 569.4s,\testimator lrl2's best error=0.0260,\tbest estimator kneighbor's best error=0.0148\n",
      "[flaml.automl.logger: 12-24 18:36:42] {2218} INFO - iteration 453, current learner lrl2\n",
      "[flaml.automl.logger: 12-24 18:36:42] {2391} INFO -  at 570.0s,\testimator lrl2's best error=0.0260,\tbest estimator kneighbor's best error=0.0148\n",
      "[flaml.automl.logger: 12-24 18:36:42] {2218} INFO - iteration 454, current learner lrl2\n",
      "[flaml.automl.logger: 12-24 18:36:43] {2391} INFO -  at 570.9s,\testimator lrl2's best error=0.0260,\tbest estimator kneighbor's best error=0.0148\n",
      "[flaml.automl.logger: 12-24 18:36:43] {2218} INFO - iteration 455, current learner lrl2\n",
      "[flaml.automl.logger: 12-24 18:36:44] {2391} INFO -  at 571.5s,\testimator lrl2's best error=0.0260,\tbest estimator kneighbor's best error=0.0148\n",
      "[flaml.automl.logger: 12-24 18:36:44] {2218} INFO - iteration 456, current learner lrl2\n",
      "[flaml.automl.logger: 12-24 18:36:45] {2391} INFO -  at 572.2s,\testimator lrl2's best error=0.0260,\tbest estimator kneighbor's best error=0.0148\n",
      "[flaml.automl.logger: 12-24 18:36:45] {2218} INFO - iteration 457, current learner lrl2\n",
      "[flaml.automl.logger: 12-24 18:36:45] {2391} INFO -  at 572.7s,\testimator lrl2's best error=0.0260,\tbest estimator kneighbor's best error=0.0148\n",
      "[flaml.automl.logger: 12-24 18:36:45] {2218} INFO - iteration 458, current learner lrl2\n",
      "[flaml.automl.logger: 12-24 18:36:46] {2391} INFO -  at 573.4s,\testimator lrl2's best error=0.0260,\tbest estimator kneighbor's best error=0.0148\n",
      "[flaml.automl.logger: 12-24 18:36:46] {2218} INFO - iteration 459, current learner lrl2\n",
      "[flaml.automl.logger: 12-24 18:36:47] {2391} INFO -  at 574.2s,\testimator lrl2's best error=0.0260,\tbest estimator kneighbor's best error=0.0148\n",
      "[flaml.automl.logger: 12-24 18:36:47] {2218} INFO - iteration 460, current learner lrl2\n",
      "[flaml.automl.logger: 12-24 18:36:47] {2391} INFO -  at 574.7s,\testimator lrl2's best error=0.0260,\tbest estimator kneighbor's best error=0.0148\n",
      "[flaml.automl.logger: 12-24 18:36:47] {2218} INFO - iteration 461, current learner lrl2\n",
      "[flaml.automl.logger: 12-24 18:36:48] {2391} INFO -  at 575.4s,\testimator lrl2's best error=0.0260,\tbest estimator kneighbor's best error=0.0148\n",
      "[flaml.automl.logger: 12-24 18:36:48] {2218} INFO - iteration 462, current learner lrl2\n",
      "[flaml.automl.logger: 12-24 18:36:49] {2391} INFO -  at 576.1s,\testimator lrl2's best error=0.0260,\tbest estimator kneighbor's best error=0.0148\n",
      "[flaml.automl.logger: 12-24 18:36:49] {2218} INFO - iteration 463, current learner lrl2\n",
      "[flaml.automl.logger: 12-24 18:36:49] {2391} INFO -  at 576.7s,\testimator lrl2's best error=0.0260,\tbest estimator kneighbor's best error=0.0148\n",
      "[flaml.automl.logger: 12-24 18:36:49] {2218} INFO - iteration 464, current learner lrl2\n",
      "[flaml.automl.logger: 12-24 18:36:50] {2391} INFO -  at 577.4s,\testimator lrl2's best error=0.0260,\tbest estimator kneighbor's best error=0.0148\n",
      "[flaml.automl.logger: 12-24 18:36:50] {2218} INFO - iteration 465, current learner lrl2\n",
      "[flaml.automl.logger: 12-24 18:36:50] {2391} INFO -  at 578.0s,\testimator lrl2's best error=0.0260,\tbest estimator kneighbor's best error=0.0148\n",
      "[flaml.automl.logger: 12-24 18:36:50] {2218} INFO - iteration 466, current learner lrl2\n",
      "[flaml.automl.logger: 12-24 18:36:51] {2391} INFO -  at 578.6s,\testimator lrl2's best error=0.0260,\tbest estimator kneighbor's best error=0.0148\n"
     ]
    },
    {
     "name": "stdout",
     "output_type": "stream",
     "text": [
      "[flaml.automl.logger: 12-24 18:36:51] {2218} INFO - iteration 467, current learner lrl2\n",
      "[flaml.automl.logger: 12-24 18:36:52] {2391} INFO -  at 579.2s,\testimator lrl2's best error=0.0260,\tbest estimator kneighbor's best error=0.0148\n",
      "[flaml.automl.logger: 12-24 18:36:52] {2218} INFO - iteration 468, current learner lrl2\n",
      "[flaml.automl.logger: 12-24 18:36:52] {2391} INFO -  at 580.0s,\testimator lrl2's best error=0.0260,\tbest estimator kneighbor's best error=0.0148\n",
      "[flaml.automl.logger: 12-24 18:36:52] {2218} INFO - iteration 469, current learner lrl2\n",
      "[flaml.automl.logger: 12-24 18:36:53] {2391} INFO -  at 580.5s,\testimator lrl2's best error=0.0260,\tbest estimator kneighbor's best error=0.0148\n",
      "[flaml.automl.logger: 12-24 18:36:53] {2218} INFO - iteration 470, current learner lrl2\n",
      "[flaml.automl.logger: 12-24 18:36:54] {2391} INFO -  at 581.4s,\testimator lrl2's best error=0.0260,\tbest estimator kneighbor's best error=0.0148\n",
      "[flaml.automl.logger: 12-24 18:36:54] {2218} INFO - iteration 471, current learner lrl2\n",
      "[flaml.automl.logger: 12-24 18:36:54] {2391} INFO -  at 581.9s,\testimator lrl2's best error=0.0260,\tbest estimator kneighbor's best error=0.0148\n",
      "[flaml.automl.logger: 12-24 18:36:54] {2218} INFO - iteration 472, current learner lrl2\n",
      "[flaml.automl.logger: 12-24 18:36:55] {2391} INFO -  at 582.7s,\testimator lrl2's best error=0.0260,\tbest estimator kneighbor's best error=0.0148\n",
      "[flaml.automl.logger: 12-24 18:36:55] {2218} INFO - iteration 473, current learner lrl2\n",
      "[flaml.automl.logger: 12-24 18:36:56] {2391} INFO -  at 583.3s,\testimator lrl2's best error=0.0260,\tbest estimator kneighbor's best error=0.0148\n",
      "[flaml.automl.logger: 12-24 18:36:56] {2218} INFO - iteration 474, current learner lrl2\n",
      "[flaml.automl.logger: 12-24 18:36:56] {2391} INFO -  at 584.0s,\testimator lrl2's best error=0.0260,\tbest estimator kneighbor's best error=0.0148\n",
      "[flaml.automl.logger: 12-24 18:36:56] {2218} INFO - iteration 475, current learner lrl2\n",
      "[flaml.automl.logger: 12-24 18:36:57] {2391} INFO -  at 584.5s,\testimator lrl2's best error=0.0260,\tbest estimator kneighbor's best error=0.0148\n",
      "[flaml.automl.logger: 12-24 18:36:57] {2218} INFO - iteration 476, current learner lrl2\n",
      "[flaml.automl.logger: 12-24 18:36:58] {2391} INFO -  at 585.3s,\testimator lrl2's best error=0.0260,\tbest estimator kneighbor's best error=0.0148\n",
      "[flaml.automl.logger: 12-24 18:36:58] {2218} INFO - iteration 477, current learner lrl2\n",
      "[flaml.automl.logger: 12-24 18:36:58] {2391} INFO -  at 585.8s,\testimator lrl2's best error=0.0260,\tbest estimator kneighbor's best error=0.0148\n",
      "[flaml.automl.logger: 12-24 18:36:58] {2218} INFO - iteration 478, current learner lrl2\n",
      "[flaml.automl.logger: 12-24 18:36:59] {2391} INFO -  at 586.5s,\testimator lrl2's best error=0.0260,\tbest estimator kneighbor's best error=0.0148\n",
      "[flaml.automl.logger: 12-24 18:36:59] {2218} INFO - iteration 479, current learner lrl1\n"
     ]
    },
    {
     "name": "stderr",
     "output_type": "stream",
     "text": [
      "C:\\Users\\APU\\anaconda3\\Lib\\site-packages\\sklearn\\linear_model\\_sag.py:350: ConvergenceWarning: The max_iter was reached which means the coef_ did not converge\n",
      "  warnings.warn(\n",
      "C:\\Users\\APU\\anaconda3\\Lib\\site-packages\\sklearn\\linear_model\\_sag.py:350: ConvergenceWarning: The max_iter was reached which means the coef_ did not converge\n",
      "  warnings.warn(\n",
      "C:\\Users\\APU\\anaconda3\\Lib\\site-packages\\sklearn\\linear_model\\_sag.py:350: ConvergenceWarning: The max_iter was reached which means the coef_ did not converge\n",
      "  warnings.warn(\n",
      "C:\\Users\\APU\\anaconda3\\Lib\\site-packages\\sklearn\\linear_model\\_sag.py:350: ConvergenceWarning: The max_iter was reached which means the coef_ did not converge\n",
      "  warnings.warn(\n"
     ]
    },
    {
     "name": "stdout",
     "output_type": "stream",
     "text": [
      "[flaml.automl.logger: 12-24 18:37:04] {2391} INFO -  at 591.6s,\testimator lrl1's best error=0.0282,\tbest estimator kneighbor's best error=0.0148\n",
      "[flaml.automl.logger: 12-24 18:37:04] {2218} INFO - iteration 480, current learner lrl2\n"
     ]
    },
    {
     "name": "stderr",
     "output_type": "stream",
     "text": [
      "C:\\Users\\APU\\anaconda3\\Lib\\site-packages\\sklearn\\linear_model\\_sag.py:350: ConvergenceWarning: The max_iter was reached which means the coef_ did not converge\n",
      "  warnings.warn(\n"
     ]
    },
    {
     "name": "stdout",
     "output_type": "stream",
     "text": [
      "[flaml.automl.logger: 12-24 18:37:05] {2391} INFO -  at 592.2s,\testimator lrl2's best error=0.0260,\tbest estimator kneighbor's best error=0.0148\n",
      "[flaml.automl.logger: 12-24 18:37:05] {2218} INFO - iteration 481, current learner lrl2\n",
      "[flaml.automl.logger: 12-24 18:37:05] {2391} INFO -  at 592.7s,\testimator lrl2's best error=0.0260,\tbest estimator kneighbor's best error=0.0148\n",
      "[flaml.automl.logger: 12-24 18:37:05] {2218} INFO - iteration 482, current learner lrl1\n"
     ]
    },
    {
     "name": "stderr",
     "output_type": "stream",
     "text": [
      "C:\\Users\\APU\\anaconda3\\Lib\\site-packages\\sklearn\\linear_model\\_sag.py:350: ConvergenceWarning: The max_iter was reached which means the coef_ did not converge\n",
      "  warnings.warn(\n",
      "C:\\Users\\APU\\anaconda3\\Lib\\site-packages\\sklearn\\linear_model\\_sag.py:350: ConvergenceWarning: The max_iter was reached which means the coef_ did not converge\n",
      "  warnings.warn(\n",
      "C:\\Users\\APU\\anaconda3\\Lib\\site-packages\\sklearn\\linear_model\\_sag.py:350: ConvergenceWarning: The max_iter was reached which means the coef_ did not converge\n",
      "  warnings.warn(\n",
      "C:\\Users\\APU\\anaconda3\\Lib\\site-packages\\sklearn\\linear_model\\_sag.py:350: ConvergenceWarning: The max_iter was reached which means the coef_ did not converge\n",
      "  warnings.warn(\n"
     ]
    },
    {
     "name": "stdout",
     "output_type": "stream",
     "text": [
      "[flaml.automl.logger: 12-24 18:37:12] {2391} INFO -  at 599.4s,\testimator lrl1's best error=0.0282,\tbest estimator kneighbor's best error=0.0148\n",
      "[flaml.automl.logger: 12-24 18:37:12] {2627} INFO - retrain kneighbor for 0.0s\n",
      "[flaml.automl.logger: 12-24 18:37:12] {2630} INFO - retrained model: KNeighborsClassifier(n_jobs=-1, n_neighbors=4, weights='distance')\n",
      "[flaml.automl.logger: 12-24 18:37:12] {1930} INFO - fit succeeded\n",
      "[flaml.automl.logger: 12-24 18:37:12] {1931} INFO - Time taken to find the best model: 39.79889917373657\n"
     ]
    },
    {
     "name": "stderr",
     "output_type": "stream",
     "text": [
      "C:\\Users\\APU\\anaconda3\\Lib\\site-packages\\sklearn\\linear_model\\_sag.py:350: ConvergenceWarning: The max_iter was reached which means the coef_ did not converge\n",
      "  warnings.warn(\n"
     ]
    }
   ],
   "source": [
    "#We can set values here in fit, or we can write in settings\n",
    "# we can set max_iter also\n",
    "automl.fit(X_train=X_train, y_train=y_train, **settings)"
   ]
  },
  {
   "cell_type": "code",
   "execution_count": 8,
   "id": "4428de44",
   "metadata": {},
   "outputs": [
    {
     "data": {
      "text/plain": [
       "'kneighbor'"
      ]
     },
     "execution_count": 8,
     "metadata": {},
     "output_type": "execute_result"
    }
   ],
   "source": [
    "automl.best_estimator"
   ]
  },
  {
   "cell_type": "code",
   "execution_count": 9,
   "id": "4eea205f",
   "metadata": {},
   "outputs": [
    {
     "data": {
      "text/plain": [
       "{'n_neighbors': 4}"
      ]
     },
     "execution_count": 9,
     "metadata": {},
     "output_type": "execute_result"
    }
   ],
   "source": [
    "automl.best_config"
   ]
  },
  {
   "cell_type": "code",
   "execution_count": 10,
   "id": "44753b45",
   "metadata": {},
   "outputs": [
    {
     "data": {
      "text/html": [
       "<style>#sk-container-id-1 {color: black;}#sk-container-id-1 pre{padding: 0;}#sk-container-id-1 div.sk-toggleable {background-color: white;}#sk-container-id-1 label.sk-toggleable__label {cursor: pointer;display: block;width: 100%;margin-bottom: 0;padding: 0.3em;box-sizing: border-box;text-align: center;}#sk-container-id-1 label.sk-toggleable__label-arrow:before {content: \"▸\";float: left;margin-right: 0.25em;color: #696969;}#sk-container-id-1 label.sk-toggleable__label-arrow:hover:before {color: black;}#sk-container-id-1 div.sk-estimator:hover label.sk-toggleable__label-arrow:before {color: black;}#sk-container-id-1 div.sk-toggleable__content {max-height: 0;max-width: 0;overflow: hidden;text-align: left;background-color: #f0f8ff;}#sk-container-id-1 div.sk-toggleable__content pre {margin: 0.2em;color: black;border-radius: 0.25em;background-color: #f0f8ff;}#sk-container-id-1 input.sk-toggleable__control:checked~div.sk-toggleable__content {max-height: 200px;max-width: 100%;overflow: auto;}#sk-container-id-1 input.sk-toggleable__control:checked~label.sk-toggleable__label-arrow:before {content: \"▾\";}#sk-container-id-1 div.sk-estimator input.sk-toggleable__control:checked~label.sk-toggleable__label {background-color: #d4ebff;}#sk-container-id-1 div.sk-label input.sk-toggleable__control:checked~label.sk-toggleable__label {background-color: #d4ebff;}#sk-container-id-1 input.sk-hidden--visually {border: 0;clip: rect(1px 1px 1px 1px);clip: rect(1px, 1px, 1px, 1px);height: 1px;margin: -1px;overflow: hidden;padding: 0;position: absolute;width: 1px;}#sk-container-id-1 div.sk-estimator {font-family: monospace;background-color: #f0f8ff;border: 1px dotted black;border-radius: 0.25em;box-sizing: border-box;margin-bottom: 0.5em;}#sk-container-id-1 div.sk-estimator:hover {background-color: #d4ebff;}#sk-container-id-1 div.sk-parallel-item::after {content: \"\";width: 100%;border-bottom: 1px solid gray;flex-grow: 1;}#sk-container-id-1 div.sk-label:hover label.sk-toggleable__label {background-color: #d4ebff;}#sk-container-id-1 div.sk-serial::before {content: \"\";position: absolute;border-left: 1px solid gray;box-sizing: border-box;top: 0;bottom: 0;left: 50%;z-index: 0;}#sk-container-id-1 div.sk-serial {display: flex;flex-direction: column;align-items: center;background-color: white;padding-right: 0.2em;padding-left: 0.2em;position: relative;}#sk-container-id-1 div.sk-item {position: relative;z-index: 1;}#sk-container-id-1 div.sk-parallel {display: flex;align-items: stretch;justify-content: center;background-color: white;position: relative;}#sk-container-id-1 div.sk-item::before, #sk-container-id-1 div.sk-parallel-item::before {content: \"\";position: absolute;border-left: 1px solid gray;box-sizing: border-box;top: 0;bottom: 0;left: 50%;z-index: -1;}#sk-container-id-1 div.sk-parallel-item {display: flex;flex-direction: column;z-index: 1;position: relative;background-color: white;}#sk-container-id-1 div.sk-parallel-item:first-child::after {align-self: flex-end;width: 50%;}#sk-container-id-1 div.sk-parallel-item:last-child::after {align-self: flex-start;width: 50%;}#sk-container-id-1 div.sk-parallel-item:only-child::after {width: 0;}#sk-container-id-1 div.sk-dashed-wrapped {border: 1px dashed gray;margin: 0 0.4em 0.5em 0.4em;box-sizing: border-box;padding-bottom: 0.4em;background-color: white;}#sk-container-id-1 div.sk-label label {font-family: monospace;font-weight: bold;display: inline-block;line-height: 1.2em;}#sk-container-id-1 div.sk-label-container {text-align: center;}#sk-container-id-1 div.sk-container {/* jupyter's `normalize.less` sets `[hidden] { display: none; }` but bootstrap.min.css set `[hidden] { display: none !important; }` so we also need the `!important` here to be able to override the default hidden behavior on the sphinx rendered scikit-learn.org. See: https://github.com/scikit-learn/scikit-learn/issues/21755 */display: inline-block !important;position: relative;}#sk-container-id-1 div.sk-text-repr-fallback {display: none;}</style><div id=\"sk-container-id-1\" class=\"sk-top-container\"><div class=\"sk-text-repr-fallback\"><pre>KNeighborsClassifier(n_jobs=-1, n_neighbors=4, weights=&#x27;distance&#x27;)</pre><b>In a Jupyter environment, please rerun this cell to show the HTML representation or trust the notebook. <br />On GitHub, the HTML representation is unable to render, please try loading this page with nbviewer.org.</b></div><div class=\"sk-container\" hidden><div class=\"sk-item\"><div class=\"sk-estimator sk-toggleable\"><input class=\"sk-toggleable__control sk-hidden--visually\" id=\"sk-estimator-id-1\" type=\"checkbox\" checked><label for=\"sk-estimator-id-1\" class=\"sk-toggleable__label sk-toggleable__label-arrow\">KNeighborsClassifier</label><div class=\"sk-toggleable__content\"><pre>KNeighborsClassifier(n_jobs=-1, n_neighbors=4, weights=&#x27;distance&#x27;)</pre></div></div></div></div></div>"
      ],
      "text/plain": [
       "KNeighborsClassifier(n_jobs=-1, n_neighbors=4, weights='distance')"
      ]
     },
     "execution_count": 10,
     "metadata": {},
     "output_type": "execute_result"
    }
   ],
   "source": [
    "automl.model.estimator"
   ]
  },
  {
   "cell_type": "code",
   "execution_count": 11,
   "id": "a9681f57",
   "metadata": {},
   "outputs": [
    {
     "data": {
      "text/plain": [
       "0.9866666666666667"
      ]
     },
     "execution_count": 11,
     "metadata": {},
     "output_type": "execute_result"
    }
   ],
   "source": [
    "automl.model.score(X_test,y_test)"
   ]
  }
 ],
 "metadata": {
  "kernelspec": {
   "display_name": "Python 3 (ipykernel)",
   "language": "python",
   "name": "python3"
  },
  "language_info": {
   "codemirror_mode": {
    "name": "ipython",
    "version": 3
   },
   "file_extension": ".py",
   "mimetype": "text/x-python",
   "name": "python",
   "nbconvert_exporter": "python",
   "pygments_lexer": "ipython3",
   "version": "3.11.5"
  }
 },
 "nbformat": 4,
 "nbformat_minor": 5
}
