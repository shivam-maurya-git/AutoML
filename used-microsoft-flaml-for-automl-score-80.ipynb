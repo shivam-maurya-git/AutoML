{
 "cells": [
  {
   "cell_type": "code",
   "execution_count": 1,
   "id": "d158c687",
   "metadata": {
    "_cell_guid": "b1076dfc-b9ad-4769-8c92-a6c4dae69d19",
    "_uuid": "8f2839f25d086af736a60e9eeb907d3b93b6e0e5",
    "execution": {
     "iopub.execute_input": "2023-12-24T14:15:09.297510Z",
     "iopub.status.busy": "2023-12-24T14:15:09.297060Z",
     "iopub.status.idle": "2023-12-24T14:15:09.741424Z",
     "shell.execute_reply": "2023-12-24T14:15:09.740251Z"
    },
    "papermill": {
     "duration": 0.45844,
     "end_time": "2023-12-24T14:15:09.743879",
     "exception": false,
     "start_time": "2023-12-24T14:15:09.285439",
     "status": "completed"
    },
    "tags": []
   },
   "outputs": [
    {
     "name": "stdout",
     "output_type": "stream",
     "text": [
      "/kaggle/input/heart-failure-prediction/heart_failure_clinical_records.csv\n"
     ]
    }
   ],
   "source": [
    "# This Python 3 environment comes with many helpful analytics libraries installed\n",
    "# It is defined by the kaggle/python Docker image: https://github.com/kaggle/docker-python\n",
    "# For example, here's several helpful packages to load\n",
    "\n",
    "import numpy as np # linear algebra\n",
    "import pandas as pd # data processing, CSV file I/O (e.g. pd.read_csv)\n",
    "\n",
    "# Input data files are available in the read-only \"../input/\" directory\n",
    "# For example, running this (by clicking run or pressing Shift+Enter) will list all files under the input directory\n",
    "\n",
    "import os\n",
    "for dirname, _, filenames in os.walk('/kaggle/input'):\n",
    "    for filename in filenames:\n",
    "        print(os.path.join(dirname, filename))\n",
    "\n",
    "# You can write up to 20GB to the current directory (/kaggle/working/) that gets preserved as output when you create a version using \"Save & Run All\" \n",
    "# You can also write temporary files to /kaggle/temp/, but they won't be saved outside of the current session"
   ]
  },
  {
   "cell_type": "markdown",
   "id": "fc5cfc09",
   "metadata": {
    "papermill": {
     "duration": 0.008874,
     "end_time": "2023-12-24T14:15:09.762013",
     "exception": false,
     "start_time": "2023-12-24T14:15:09.753139",
     "status": "completed"
    },
    "tags": []
   },
   "source": [
    "## Installing and Importing FLAML, AutoML and Viz Libraries"
   ]
  },
  {
   "cell_type": "code",
   "execution_count": 2,
   "id": "add5cda6",
   "metadata": {
    "execution": {
     "iopub.execute_input": "2023-12-24T14:15:09.782121Z",
     "iopub.status.busy": "2023-12-24T14:15:09.781365Z",
     "iopub.status.idle": "2023-12-24T14:15:11.330916Z",
     "shell.execute_reply": "2023-12-24T14:15:11.329625Z"
    },
    "papermill": {
     "duration": 1.562852,
     "end_time": "2023-12-24T14:15:11.333789",
     "exception": false,
     "start_time": "2023-12-24T14:15:09.770937",
     "status": "completed"
    },
    "tags": []
   },
   "outputs": [],
   "source": [
    "import pandas as pd\n",
    "import seaborn as sns\n",
    "import matplotlib.pyplot as plt"
   ]
  },
  {
   "cell_type": "code",
   "execution_count": 3,
   "id": "80f982d7",
   "metadata": {
    "execution": {
     "iopub.execute_input": "2023-12-24T14:15:11.353735Z",
     "iopub.status.busy": "2023-12-24T14:15:11.353287Z",
     "iopub.status.idle": "2023-12-24T14:15:28.049695Z",
     "shell.execute_reply": "2023-12-24T14:15:28.048238Z"
    },
    "papermill": {
     "duration": 16.709593,
     "end_time": "2023-12-24T14:15:28.052552",
     "exception": false,
     "start_time": "2023-12-24T14:15:11.342959",
     "status": "completed"
    },
    "tags": []
   },
   "outputs": [
    {
     "name": "stdout",
     "output_type": "stream",
     "text": [
      "Collecting flaml[automl]\r\n",
      "  Obtaining dependency information for flaml[automl] from https://files.pythonhosted.org/packages/e6/5e/f26990e3007c891132c7daec69059c916cc521749451cada3aae27e2f611/FLAML-2.1.1-py3-none-any.whl.metadata\r\n",
      "  Downloading FLAML-2.1.1-py3-none-any.whl.metadata (15 kB)\r\n",
      "Requirement already satisfied: NumPy>=1.17.0rc1 in /opt/conda/lib/python3.10/site-packages (from flaml[automl]) (1.24.3)\r\n",
      "Requirement already satisfied: lightgbm>=2.3.1 in /opt/conda/lib/python3.10/site-packages (from flaml[automl]) (3.3.2)\r\n",
      "Requirement already satisfied: xgboost>=0.90 in /opt/conda/lib/python3.10/site-packages (from flaml[automl]) (2.0.2)\r\n",
      "Requirement already satisfied: scipy>=1.4.1 in /opt/conda/lib/python3.10/site-packages (from flaml[automl]) (1.11.4)\r\n",
      "Requirement already satisfied: pandas>=1.1.4 in /opt/conda/lib/python3.10/site-packages (from flaml[automl]) (2.0.3)\r\n",
      "Requirement already satisfied: scikit-learn>=0.24 in /opt/conda/lib/python3.10/site-packages (from flaml[automl]) (1.2.2)\r\n",
      "Requirement already satisfied: wheel in /opt/conda/lib/python3.10/site-packages (from lightgbm>=2.3.1->flaml[automl]) (0.41.2)\r\n",
      "Requirement already satisfied: python-dateutil>=2.8.2 in /opt/conda/lib/python3.10/site-packages (from pandas>=1.1.4->flaml[automl]) (2.8.2)\r\n",
      "Requirement already satisfied: pytz>=2020.1 in /opt/conda/lib/python3.10/site-packages (from pandas>=1.1.4->flaml[automl]) (2023.3)\r\n",
      "Requirement already satisfied: tzdata>=2022.1 in /opt/conda/lib/python3.10/site-packages (from pandas>=1.1.4->flaml[automl]) (2023.3)\r\n",
      "Requirement already satisfied: joblib>=1.1.1 in /opt/conda/lib/python3.10/site-packages (from scikit-learn>=0.24->flaml[automl]) (1.3.2)\r\n",
      "Requirement already satisfied: threadpoolctl>=2.0.0 in /opt/conda/lib/python3.10/site-packages (from scikit-learn>=0.24->flaml[automl]) (3.2.0)\r\n",
      "Requirement already satisfied: six>=1.5 in /opt/conda/lib/python3.10/site-packages (from python-dateutil>=2.8.2->pandas>=1.1.4->flaml[automl]) (1.16.0)\r\n",
      "Downloading FLAML-2.1.1-py3-none-any.whl (295 kB)\r\n",
      "\u001b[2K   \u001b[90m━━━━━━━━━━━━━━━━━━━━━━━━━━━━━━━━━━━━━━━━\u001b[0m \u001b[32m295.2/295.2 kB\u001b[0m \u001b[31m7.2 MB/s\u001b[0m eta \u001b[36m0:00:00\u001b[0m\r\n",
      "\u001b[?25hInstalling collected packages: flaml\r\n",
      "Successfully installed flaml-2.1.1\r\n"
     ]
    }
   ],
   "source": [
    "!pip install \"flaml[automl]\""
   ]
  },
  {
   "cell_type": "code",
   "execution_count": 4,
   "id": "955cbda7",
   "metadata": {
    "_kg_hide-output": true,
    "execution": {
     "iopub.execute_input": "2023-12-24T14:15:28.074981Z",
     "iopub.status.busy": "2023-12-24T14:15:28.074582Z",
     "iopub.status.idle": "2023-12-24T14:15:43.687066Z",
     "shell.execute_reply": "2023-12-24T14:15:43.685368Z"
    },
    "papermill": {
     "duration": 15.626985,
     "end_time": "2023-12-24T14:15:43.689727",
     "exception": false,
     "start_time": "2023-12-24T14:15:28.062742",
     "status": "completed"
    },
    "tags": []
   },
   "outputs": [
    {
     "name": "stdout",
     "output_type": "stream",
     "text": [
      "Requirement already satisfied: ipywidgets in /opt/conda/lib/python3.10/site-packages (7.7.1)\r\n",
      "Collecting ipywidgets\r\n",
      "  Obtaining dependency information for ipywidgets from https://files.pythonhosted.org/packages/4a/0e/57ed498fafbc60419a9332d872e929879ceba2d73cb11d284d7112472b3e/ipywidgets-8.1.1-py3-none-any.whl.metadata\r\n",
      "  Downloading ipywidgets-8.1.1-py3-none-any.whl.metadata (2.4 kB)\r\n",
      "Requirement already satisfied: comm>=0.1.3 in /opt/conda/lib/python3.10/site-packages (from ipywidgets) (0.1.4)\r\n",
      "Requirement already satisfied: ipython>=6.1.0 in /opt/conda/lib/python3.10/site-packages (from ipywidgets) (8.14.0)\r\n",
      "Requirement already satisfied: traitlets>=4.3.1 in /opt/conda/lib/python3.10/site-packages (from ipywidgets) (5.9.0)\r\n",
      "Collecting widgetsnbextension~=4.0.9 (from ipywidgets)\r\n",
      "  Obtaining dependency information for widgetsnbextension~=4.0.9 from https://files.pythonhosted.org/packages/29/03/107d96077c4befed191f7ad1a12c7b52a8f9d2778a5836d59f9855c105f6/widgetsnbextension-4.0.9-py3-none-any.whl.metadata\r\n",
      "  Downloading widgetsnbextension-4.0.9-py3-none-any.whl.metadata (1.6 kB)\r\n",
      "Collecting jupyterlab-widgets~=3.0.9 (from ipywidgets)\r\n",
      "  Obtaining dependency information for jupyterlab-widgets~=3.0.9 from https://files.pythonhosted.org/packages/e8/05/0ebab152288693b5ec7b339aab857362947031143b282853b4c2dd4b5b40/jupyterlab_widgets-3.0.9-py3-none-any.whl.metadata\r\n",
      "  Downloading jupyterlab_widgets-3.0.9-py3-none-any.whl.metadata (4.1 kB)\r\n",
      "Requirement already satisfied: backcall in /opt/conda/lib/python3.10/site-packages (from ipython>=6.1.0->ipywidgets) (0.2.0)\r\n",
      "Requirement already satisfied: decorator in /opt/conda/lib/python3.10/site-packages (from ipython>=6.1.0->ipywidgets) (5.1.1)\r\n",
      "Requirement already satisfied: jedi>=0.16 in /opt/conda/lib/python3.10/site-packages (from ipython>=6.1.0->ipywidgets) (0.19.0)\r\n",
      "Requirement already satisfied: matplotlib-inline in /opt/conda/lib/python3.10/site-packages (from ipython>=6.1.0->ipywidgets) (0.1.6)\r\n",
      "Requirement already satisfied: pickleshare in /opt/conda/lib/python3.10/site-packages (from ipython>=6.1.0->ipywidgets) (0.7.5)\r\n",
      "Requirement already satisfied: prompt-toolkit!=3.0.37,<3.1.0,>=3.0.30 in /opt/conda/lib/python3.10/site-packages (from ipython>=6.1.0->ipywidgets) (3.0.39)\r\n",
      "Requirement already satisfied: pygments>=2.4.0 in /opt/conda/lib/python3.10/site-packages (from ipython>=6.1.0->ipywidgets) (2.16.1)\r\n",
      "Requirement already satisfied: stack-data in /opt/conda/lib/python3.10/site-packages (from ipython>=6.1.0->ipywidgets) (0.6.2)\r\n",
      "Requirement already satisfied: pexpect>4.3 in /opt/conda/lib/python3.10/site-packages (from ipython>=6.1.0->ipywidgets) (4.8.0)\r\n",
      "Requirement already satisfied: parso<0.9.0,>=0.8.3 in /opt/conda/lib/python3.10/site-packages (from jedi>=0.16->ipython>=6.1.0->ipywidgets) (0.8.3)\r\n",
      "Requirement already satisfied: ptyprocess>=0.5 in /opt/conda/lib/python3.10/site-packages (from pexpect>4.3->ipython>=6.1.0->ipywidgets) (0.7.0)\r\n",
      "Requirement already satisfied: wcwidth in /opt/conda/lib/python3.10/site-packages (from prompt-toolkit!=3.0.37,<3.1.0,>=3.0.30->ipython>=6.1.0->ipywidgets) (0.2.6)\r\n",
      "Requirement already satisfied: executing>=1.2.0 in /opt/conda/lib/python3.10/site-packages (from stack-data->ipython>=6.1.0->ipywidgets) (1.2.0)\r\n",
      "Requirement already satisfied: asttokens>=2.1.0 in /opt/conda/lib/python3.10/site-packages (from stack-data->ipython>=6.1.0->ipywidgets) (2.2.1)\r\n",
      "Requirement already satisfied: pure-eval in /opt/conda/lib/python3.10/site-packages (from stack-data->ipython>=6.1.0->ipywidgets) (0.2.2)\r\n",
      "Requirement already satisfied: six in /opt/conda/lib/python3.10/site-packages (from asttokens>=2.1.0->stack-data->ipython>=6.1.0->ipywidgets) (1.16.0)\r\n",
      "Downloading ipywidgets-8.1.1-py3-none-any.whl (139 kB)\r\n",
      "\u001b[2K   \u001b[90m━━━━━━━━━━━━━━━━━━━━━━━━━━━━━━━━━━━━━━━━\u001b[0m \u001b[32m139.4/139.4 kB\u001b[0m \u001b[31m6.3 MB/s\u001b[0m eta \u001b[36m0:00:00\u001b[0m\r\n",
      "\u001b[?25hDownloading jupyterlab_widgets-3.0.9-py3-none-any.whl (214 kB)\r\n",
      "\u001b[2K   \u001b[90m━━━━━━━━━━━━━━━━━━━━━━━━━━━━━━━━━━━━━━━━\u001b[0m \u001b[32m214.9/214.9 kB\u001b[0m \u001b[31m13.9 MB/s\u001b[0m eta \u001b[36m0:00:00\u001b[0m\r\n",
      "\u001b[?25hDownloading widgetsnbextension-4.0.9-py3-none-any.whl (2.3 MB)\r\n",
      "\u001b[2K   \u001b[90m━━━━━━━━━━━━━━━━━━━━━━━━━━━━━━━━━━━━━━━━\u001b[0m \u001b[32m2.3/2.3 MB\u001b[0m \u001b[31m60.6 MB/s\u001b[0m eta \u001b[36m0:00:00\u001b[0m\r\n",
      "\u001b[?25hInstalling collected packages: widgetsnbextension, jupyterlab-widgets, ipywidgets\r\n",
      "  Attempting uninstall: widgetsnbextension\r\n",
      "    Found existing installation: widgetsnbextension 3.6.6\r\n",
      "    Uninstalling widgetsnbextension-3.6.6:\r\n",
      "      Successfully uninstalled widgetsnbextension-3.6.6\r\n",
      "  Attempting uninstall: jupyterlab-widgets\r\n",
      "    Found existing installation: jupyterlab-widgets 3.0.8\r\n",
      "    Uninstalling jupyterlab-widgets-3.0.8:\r\n",
      "      Successfully uninstalled jupyterlab-widgets-3.0.8\r\n",
      "  Attempting uninstall: ipywidgets\r\n",
      "    Found existing installation: ipywidgets 7.7.1\r\n",
      "    Uninstalling ipywidgets-7.7.1:\r\n",
      "      Successfully uninstalled ipywidgets-7.7.1\r\n",
      "Successfully installed ipywidgets-8.1.1 jupyterlab-widgets-3.0.9 widgetsnbextension-4.0.9\r\n",
      "Note: you may need to restart the kernel to use updated packages.\n"
     ]
    }
   ],
   "source": [
    "pip install -U ipywidgets"
   ]
  },
  {
   "cell_type": "code",
   "execution_count": 5,
   "id": "bef78e9e",
   "metadata": {
    "execution": {
     "iopub.execute_input": "2023-12-24T14:15:43.716506Z",
     "iopub.status.busy": "2023-12-24T14:15:43.716061Z",
     "iopub.status.idle": "2023-12-24T14:16:11.178779Z",
     "shell.execute_reply": "2023-12-24T14:16:11.177460Z"
    },
    "papermill": {
     "duration": 27.479483,
     "end_time": "2023-12-24T14:16:11.181698",
     "exception": false,
     "start_time": "2023-12-24T14:15:43.702215",
     "status": "completed"
    },
    "tags": []
   },
   "outputs": [
    {
     "name": "stdout",
     "output_type": "stream",
     "text": [
      "Collecting ray[tune]==2.4.0\r\n",
      "  Downloading ray-2.4.0-cp310-cp310-manylinux2014_x86_64.whl (58.6 MB)\r\n",
      "\u001b[2K     \u001b[90m━━━━━━━━━━━━━━━━━━━━━━━━━━━━━━━━━━━━━━━━\u001b[0m \u001b[32m58.6/58.6 MB\u001b[0m \u001b[31m17.9 MB/s\u001b[0m eta \u001b[36m0:00:00\u001b[0m\r\n",
      "\u001b[?25hRequirement already satisfied: attrs in /opt/conda/lib/python3.10/site-packages (from ray[tune]==2.4.0) (23.1.0)\r\n",
      "Requirement already satisfied: click>=7.0 in /opt/conda/lib/python3.10/site-packages (from ray[tune]==2.4.0) (8.1.7)\r\n",
      "Requirement already satisfied: filelock in /opt/conda/lib/python3.10/site-packages (from ray[tune]==2.4.0) (3.12.2)\r\n",
      "Requirement already satisfied: jsonschema in /opt/conda/lib/python3.10/site-packages (from ray[tune]==2.4.0) (4.19.0)\r\n",
      "Requirement already satisfied: msgpack<2.0.0,>=1.0.0 in /opt/conda/lib/python3.10/site-packages (from ray[tune]==2.4.0) (1.0.5)\r\n",
      "Requirement already satisfied: protobuf!=3.19.5,>=3.15.3 in /opt/conda/lib/python3.10/site-packages (from ray[tune]==2.4.0) (3.20.3)\r\n",
      "Requirement already satisfied: pyyaml in /opt/conda/lib/python3.10/site-packages (from ray[tune]==2.4.0) (6.0.1)\r\n",
      "Requirement already satisfied: aiosignal in /opt/conda/lib/python3.10/site-packages (from ray[tune]==2.4.0) (1.3.1)\r\n",
      "Requirement already satisfied: frozenlist in /opt/conda/lib/python3.10/site-packages (from ray[tune]==2.4.0) (1.4.0)\r\n",
      "Requirement already satisfied: requests in /opt/conda/lib/python3.10/site-packages (from ray[tune]==2.4.0) (2.31.0)\r\n",
      "Requirement already satisfied: virtualenv<20.21.1,>=20.0.24 in /opt/conda/lib/python3.10/site-packages (from ray[tune]==2.4.0) (20.21.0)\r\n",
      "Requirement already satisfied: packaging in /opt/conda/lib/python3.10/site-packages (from ray[tune]==2.4.0) (21.3)\r\n",
      "Collecting grpcio<=1.51.3,>=1.42.0 (from ray[tune]==2.4.0)\r\n",
      "  Downloading grpcio-1.51.3-cp310-cp310-manylinux_2_17_x86_64.manylinux2014_x86_64.whl (4.8 MB)\r\n",
      "\u001b[2K     \u001b[90m━━━━━━━━━━━━━━━━━━━━━━━━━━━━━━━━━━━━━━━━\u001b[0m \u001b[32m4.8/4.8 MB\u001b[0m \u001b[31m64.1 MB/s\u001b[0m eta \u001b[36m0:00:00\u001b[0m\r\n",
      "\u001b[?25hRequirement already satisfied: numpy>=1.19.3 in /opt/conda/lib/python3.10/site-packages (from ray[tune]==2.4.0) (1.24.3)\r\n",
      "Requirement already satisfied: pandas in /opt/conda/lib/python3.10/site-packages (from ray[tune]==2.4.0) (2.0.3)\r\n",
      "Requirement already satisfied: tabulate in /opt/conda/lib/python3.10/site-packages (from ray[tune]==2.4.0) (0.9.0)\r\n",
      "Requirement already satisfied: tensorboardX>=1.9 in /opt/conda/lib/python3.10/site-packages (from ray[tune]==2.4.0) (2.6.2.2)\r\n",
      "Requirement already satisfied: distlib<1,>=0.3.6 in /opt/conda/lib/python3.10/site-packages (from virtualenv<20.21.1,>=20.0.24->ray[tune]==2.4.0) (0.3.7)\r\n",
      "Collecting platformdirs<4,>=2.4 (from virtualenv<20.21.1,>=20.0.24->ray[tune]==2.4.0)\r\n",
      "  Obtaining dependency information for platformdirs<4,>=2.4 from https://files.pythonhosted.org/packages/56/29/3ec311dc18804409ecf0d2b09caa976f3ae6215559306b5b530004e11156/platformdirs-3.11.0-py3-none-any.whl.metadata\r\n",
      "  Downloading platformdirs-3.11.0-py3-none-any.whl.metadata (11 kB)\r\n",
      "Requirement already satisfied: jsonschema-specifications>=2023.03.6 in /opt/conda/lib/python3.10/site-packages (from jsonschema->ray[tune]==2.4.0) (2023.7.1)\r\n",
      "Requirement already satisfied: referencing>=0.28.4 in /opt/conda/lib/python3.10/site-packages (from jsonschema->ray[tune]==2.4.0) (0.30.2)\r\n",
      "Requirement already satisfied: rpds-py>=0.7.1 in /opt/conda/lib/python3.10/site-packages (from jsonschema->ray[tune]==2.4.0) (0.9.2)\r\n",
      "Requirement already satisfied: pyparsing!=3.0.5,>=2.0.2 in /opt/conda/lib/python3.10/site-packages (from packaging->ray[tune]==2.4.0) (3.0.9)\r\n",
      "Requirement already satisfied: python-dateutil>=2.8.2 in /opt/conda/lib/python3.10/site-packages (from pandas->ray[tune]==2.4.0) (2.8.2)\r\n",
      "Requirement already satisfied: pytz>=2020.1 in /opt/conda/lib/python3.10/site-packages (from pandas->ray[tune]==2.4.0) (2023.3)\r\n",
      "Requirement already satisfied: tzdata>=2022.1 in /opt/conda/lib/python3.10/site-packages (from pandas->ray[tune]==2.4.0) (2023.3)\r\n",
      "Requirement already satisfied: charset-normalizer<4,>=2 in /opt/conda/lib/python3.10/site-packages (from requests->ray[tune]==2.4.0) (3.2.0)\r\n",
      "Requirement already satisfied: idna<4,>=2.5 in /opt/conda/lib/python3.10/site-packages (from requests->ray[tune]==2.4.0) (3.4)\r\n",
      "Requirement already satisfied: urllib3<3,>=1.21.1 in /opt/conda/lib/python3.10/site-packages (from requests->ray[tune]==2.4.0) (1.26.15)\r\n",
      "Requirement already satisfied: certifi>=2017.4.17 in /opt/conda/lib/python3.10/site-packages (from requests->ray[tune]==2.4.0) (2023.11.17)\r\n",
      "Requirement already satisfied: six>=1.5 in /opt/conda/lib/python3.10/site-packages (from python-dateutil>=2.8.2->pandas->ray[tune]==2.4.0) (1.16.0)\r\n",
      "Downloading platformdirs-3.11.0-py3-none-any.whl (17 kB)\r\n",
      "Installing collected packages: platformdirs, grpcio, ray\r\n",
      "  Attempting uninstall: platformdirs\r\n",
      "    Found existing installation: platformdirs 4.1.0\r\n",
      "    Uninstalling platformdirs-4.1.0:\r\n",
      "      Successfully uninstalled platformdirs-4.1.0\r\n",
      "  Attempting uninstall: grpcio\r\n",
      "    Found existing installation: grpcio 1.57.0\r\n",
      "    Uninstalling grpcio-1.57.0:\r\n",
      "      Successfully uninstalled grpcio-1.57.0\r\n",
      "  Attempting uninstall: ray\r\n",
      "    Found existing installation: ray 2.6.3\r\n",
      "    Uninstalling ray-2.6.3:\r\n",
      "      Successfully uninstalled ray-2.6.3\r\n",
      "\u001b[31mERROR: pip's dependency resolver does not currently take into account all the packages that are installed. This behaviour is the source of the following dependency conflicts.\r\n",
      "apache-beam 2.46.0 requires dill<0.3.2,>=0.3.1.1, but you have dill 0.3.7 which is incompatible.\r\n",
      "apache-beam 2.46.0 requires pyarrow<10.0.0,>=3.0.0, but you have pyarrow 14.0.1 which is incompatible.\r\n",
      "conda 23.11.0 requires packaging>=23.0, but you have packaging 21.3 which is incompatible.\r\n",
      "jupyterlab 4.0.5 requires jupyter-lsp>=2.0.0, but you have jupyter-lsp 1.5.1 which is incompatible.\r\n",
      "jupyterlab-lsp 5.0.1 requires jupyter-lsp>=2.0.0, but you have jupyter-lsp 1.5.1 which is incompatible.\r\n",
      "jupyterlab-lsp 5.0.1 requires jupyterlab<5.0.0a0,>=4.0.6, but you have jupyterlab 4.0.5 which is incompatible.\r\n",
      "libpysal 4.9.2 requires packaging>=22, but you have packaging 21.3 which is incompatible.\r\n",
      "libpysal 4.9.2 requires shapely>=2.0.1, but you have shapely 1.8.5.post1 which is incompatible.\r\n",
      "momepy 0.7.0 requires shapely>=2, but you have shapely 1.8.5.post1 which is incompatible.\r\n",
      "spopt 0.6.0 requires shapely>=2.0.1, but you have shapely 1.8.5.post1 which is incompatible.\r\n",
      "tensorflowjs 4.14.0 requires packaging~=23.1, but you have packaging 21.3 which is incompatible.\u001b[0m\u001b[31m\r\n",
      "\u001b[0mSuccessfully installed grpcio-1.51.3 platformdirs-3.11.0 ray-2.4.0\r\n"
     ]
    }
   ],
   "source": [
    "!pip install ray[tune]==2.4.0"
   ]
  },
  {
   "cell_type": "code",
   "execution_count": 6,
   "id": "8d133c7e",
   "metadata": {
    "execution": {
     "iopub.execute_input": "2023-12-24T14:16:11.218880Z",
     "iopub.status.busy": "2023-12-24T14:16:11.218474Z",
     "iopub.status.idle": "2023-12-24T14:16:16.161979Z",
     "shell.execute_reply": "2023-12-24T14:16:16.160469Z"
    },
    "papermill": {
     "duration": 4.966788,
     "end_time": "2023-12-24T14:16:16.164976",
     "exception": false,
     "start_time": "2023-12-24T14:16:11.198188",
     "status": "completed"
    },
    "tags": []
   },
   "outputs": [],
   "source": [
    "from sklearn.datasets import load_digits\n",
    "from sklearn.model_selection import train_test_split\n",
    "from flaml import AutoML"
   ]
  },
  {
   "cell_type": "code",
   "execution_count": 7,
   "id": "24166d6e",
   "metadata": {
    "execution": {
     "iopub.execute_input": "2023-12-24T14:16:16.199365Z",
     "iopub.status.busy": "2023-12-24T14:16:16.198929Z",
     "iopub.status.idle": "2023-12-24T14:16:16.204553Z",
     "shell.execute_reply": "2023-12-24T14:16:16.203243Z"
    },
    "papermill": {
     "duration": 0.02592,
     "end_time": "2023-12-24T14:16:16.207316",
     "exception": false,
     "start_time": "2023-12-24T14:16:16.181396",
     "status": "completed"
    },
    "tags": []
   },
   "outputs": [],
   "source": [
    "automl = AutoML()"
   ]
  },
  {
   "cell_type": "markdown",
   "id": "127fb908",
   "metadata": {
    "papermill": {
     "duration": 0.01677,
     "end_time": "2023-12-24T14:16:16.241425",
     "exception": false,
     "start_time": "2023-12-24T14:16:16.224655",
     "status": "completed"
    },
    "tags": []
   },
   "source": [
    "## Loading Data"
   ]
  },
  {
   "cell_type": "code",
   "execution_count": 8,
   "id": "3dab5e01",
   "metadata": {
    "execution": {
     "iopub.execute_input": "2023-12-24T14:16:16.276285Z",
     "iopub.status.busy": "2023-12-24T14:16:16.275843Z",
     "iopub.status.idle": "2023-12-24T14:16:16.297020Z",
     "shell.execute_reply": "2023-12-24T14:16:16.295740Z"
    },
    "papermill": {
     "duration": 0.042311,
     "end_time": "2023-12-24T14:16:16.299948",
     "exception": false,
     "start_time": "2023-12-24T14:16:16.257637",
     "status": "completed"
    },
    "tags": []
   },
   "outputs": [],
   "source": [
    "df = pd.read_csv('/kaggle/input/heart-failure-prediction/heart_failure_clinical_records.csv')"
   ]
  },
  {
   "cell_type": "code",
   "execution_count": 9,
   "id": "7a0e3330",
   "metadata": {
    "execution": {
     "iopub.execute_input": "2023-12-24T14:16:16.334382Z",
     "iopub.status.busy": "2023-12-24T14:16:16.333712Z",
     "iopub.status.idle": "2023-12-24T14:16:16.363981Z",
     "shell.execute_reply": "2023-12-24T14:16:16.362795Z"
    },
    "papermill": {
     "duration": 0.050337,
     "end_time": "2023-12-24T14:16:16.366663",
     "exception": false,
     "start_time": "2023-12-24T14:16:16.316326",
     "status": "completed"
    },
    "tags": []
   },
   "outputs": [
    {
     "data": {
      "text/html": [
       "<div>\n",
       "<style scoped>\n",
       "    .dataframe tbody tr th:only-of-type {\n",
       "        vertical-align: middle;\n",
       "    }\n",
       "\n",
       "    .dataframe tbody tr th {\n",
       "        vertical-align: top;\n",
       "    }\n",
       "\n",
       "    .dataframe thead th {\n",
       "        text-align: right;\n",
       "    }\n",
       "</style>\n",
       "<table border=\"1\" class=\"dataframe\">\n",
       "  <thead>\n",
       "    <tr style=\"text-align: right;\">\n",
       "      <th></th>\n",
       "      <th>age</th>\n",
       "      <th>anaemia</th>\n",
       "      <th>creatinine_phosphokinase</th>\n",
       "      <th>diabetes</th>\n",
       "      <th>ejection_fraction</th>\n",
       "      <th>high_blood_pressure</th>\n",
       "      <th>platelets</th>\n",
       "      <th>serum_creatinine</th>\n",
       "      <th>serum_sodium</th>\n",
       "      <th>sex</th>\n",
       "      <th>smoking</th>\n",
       "      <th>time</th>\n",
       "      <th>DEATH_EVENT</th>\n",
       "    </tr>\n",
       "  </thead>\n",
       "  <tbody>\n",
       "    <tr>\n",
       "      <th>0</th>\n",
       "      <td>75.0</td>\n",
       "      <td>0</td>\n",
       "      <td>582</td>\n",
       "      <td>0</td>\n",
       "      <td>20</td>\n",
       "      <td>1</td>\n",
       "      <td>265000.00</td>\n",
       "      <td>1.9</td>\n",
       "      <td>130</td>\n",
       "      <td>1</td>\n",
       "      <td>0</td>\n",
       "      <td>4</td>\n",
       "      <td>1</td>\n",
       "    </tr>\n",
       "    <tr>\n",
       "      <th>1</th>\n",
       "      <td>55.0</td>\n",
       "      <td>0</td>\n",
       "      <td>7861</td>\n",
       "      <td>0</td>\n",
       "      <td>38</td>\n",
       "      <td>0</td>\n",
       "      <td>263358.03</td>\n",
       "      <td>1.1</td>\n",
       "      <td>136</td>\n",
       "      <td>1</td>\n",
       "      <td>0</td>\n",
       "      <td>6</td>\n",
       "      <td>1</td>\n",
       "    </tr>\n",
       "    <tr>\n",
       "      <th>2</th>\n",
       "      <td>65.0</td>\n",
       "      <td>0</td>\n",
       "      <td>146</td>\n",
       "      <td>0</td>\n",
       "      <td>20</td>\n",
       "      <td>0</td>\n",
       "      <td>162000.00</td>\n",
       "      <td>1.3</td>\n",
       "      <td>129</td>\n",
       "      <td>1</td>\n",
       "      <td>1</td>\n",
       "      <td>7</td>\n",
       "      <td>1</td>\n",
       "    </tr>\n",
       "    <tr>\n",
       "      <th>3</th>\n",
       "      <td>50.0</td>\n",
       "      <td>1</td>\n",
       "      <td>111</td>\n",
       "      <td>0</td>\n",
       "      <td>20</td>\n",
       "      <td>0</td>\n",
       "      <td>210000.00</td>\n",
       "      <td>1.9</td>\n",
       "      <td>137</td>\n",
       "      <td>1</td>\n",
       "      <td>0</td>\n",
       "      <td>7</td>\n",
       "      <td>1</td>\n",
       "    </tr>\n",
       "    <tr>\n",
       "      <th>4</th>\n",
       "      <td>65.0</td>\n",
       "      <td>1</td>\n",
       "      <td>160</td>\n",
       "      <td>1</td>\n",
       "      <td>20</td>\n",
       "      <td>0</td>\n",
       "      <td>327000.00</td>\n",
       "      <td>2.7</td>\n",
       "      <td>116</td>\n",
       "      <td>0</td>\n",
       "      <td>0</td>\n",
       "      <td>8</td>\n",
       "      <td>1</td>\n",
       "    </tr>\n",
       "  </tbody>\n",
       "</table>\n",
       "</div>"
      ],
      "text/plain": [
       "    age  anaemia  creatinine_phosphokinase  diabetes  ejection_fraction  \\\n",
       "0  75.0        0                       582         0                 20   \n",
       "1  55.0        0                      7861         0                 38   \n",
       "2  65.0        0                       146         0                 20   \n",
       "3  50.0        1                       111         0                 20   \n",
       "4  65.0        1                       160         1                 20   \n",
       "\n",
       "   high_blood_pressure  platelets  serum_creatinine  serum_sodium  sex  \\\n",
       "0                    1  265000.00               1.9           130    1   \n",
       "1                    0  263358.03               1.1           136    1   \n",
       "2                    0  162000.00               1.3           129    1   \n",
       "3                    0  210000.00               1.9           137    1   \n",
       "4                    0  327000.00               2.7           116    0   \n",
       "\n",
       "   smoking  time  DEATH_EVENT  \n",
       "0        0     4            1  \n",
       "1        0     6            1  \n",
       "2        1     7            1  \n",
       "3        0     7            1  \n",
       "4        0     8            1  "
      ]
     },
     "execution_count": 9,
     "metadata": {},
     "output_type": "execute_result"
    }
   ],
   "source": [
    "df.head()"
   ]
  },
  {
   "cell_type": "code",
   "execution_count": 10,
   "id": "d7745ea3",
   "metadata": {
    "execution": {
     "iopub.execute_input": "2023-12-24T14:16:16.401889Z",
     "iopub.status.busy": "2023-12-24T14:16:16.401472Z",
     "iopub.status.idle": "2023-12-24T14:16:16.412068Z",
     "shell.execute_reply": "2023-12-24T14:16:16.410999Z"
    },
    "papermill": {
     "duration": 0.031869,
     "end_time": "2023-12-24T14:16:16.414647",
     "exception": false,
     "start_time": "2023-12-24T14:16:16.382778",
     "status": "completed"
    },
    "tags": []
   },
   "outputs": [
    {
     "data": {
      "text/plain": [
       "age                         0\n",
       "anaemia                     0\n",
       "creatinine_phosphokinase    0\n",
       "diabetes                    0\n",
       "ejection_fraction           0\n",
       "high_blood_pressure         0\n",
       "platelets                   0\n",
       "serum_creatinine            0\n",
       "serum_sodium                0\n",
       "sex                         0\n",
       "smoking                     0\n",
       "time                        0\n",
       "DEATH_EVENT                 0\n",
       "dtype: int64"
      ]
     },
     "execution_count": 10,
     "metadata": {},
     "output_type": "execute_result"
    }
   ],
   "source": [
    "df.isna().sum()"
   ]
  },
  {
   "cell_type": "code",
   "execution_count": 11,
   "id": "a4763a91",
   "metadata": {
    "execution": {
     "iopub.execute_input": "2023-12-24T14:16:16.449212Z",
     "iopub.status.busy": "2023-12-24T14:16:16.448761Z",
     "iopub.status.idle": "2023-12-24T14:16:16.459342Z",
     "shell.execute_reply": "2023-12-24T14:16:16.458217Z"
    },
    "papermill": {
     "duration": 0.030466,
     "end_time": "2023-12-24T14:16:16.461677",
     "exception": false,
     "start_time": "2023-12-24T14:16:16.431211",
     "status": "completed"
    },
    "tags": []
   },
   "outputs": [
    {
     "data": {
      "text/plain": [
       "age                         float64\n",
       "anaemia                       int64\n",
       "creatinine_phosphokinase      int64\n",
       "diabetes                      int64\n",
       "ejection_fraction             int64\n",
       "high_blood_pressure           int64\n",
       "platelets                   float64\n",
       "serum_creatinine            float64\n",
       "serum_sodium                  int64\n",
       "sex                           int64\n",
       "smoking                       int64\n",
       "time                          int64\n",
       "DEATH_EVENT                   int64\n",
       "dtype: object"
      ]
     },
     "execution_count": 11,
     "metadata": {},
     "output_type": "execute_result"
    }
   ],
   "source": [
    "df.dtypes"
   ]
  },
  {
   "cell_type": "code",
   "execution_count": 12,
   "id": "82210ce7",
   "metadata": {
    "execution": {
     "iopub.execute_input": "2023-12-24T14:16:16.497775Z",
     "iopub.status.busy": "2023-12-24T14:16:16.496931Z",
     "iopub.status.idle": "2023-12-24T14:16:16.504220Z",
     "shell.execute_reply": "2023-12-24T14:16:16.503393Z"
    },
    "papermill": {
     "duration": 0.027571,
     "end_time": "2023-12-24T14:16:16.506603",
     "exception": false,
     "start_time": "2023-12-24T14:16:16.479032",
     "status": "completed"
    },
    "tags": []
   },
   "outputs": [
    {
     "data": {
      "text/plain": [
       "Index(['age', 'anaemia', 'creatinine_phosphokinase', 'diabetes',\n",
       "       'ejection_fraction', 'high_blood_pressure', 'platelets',\n",
       "       'serum_creatinine', 'serum_sodium', 'sex', 'smoking', 'time',\n",
       "       'DEATH_EVENT'],\n",
       "      dtype='object')"
      ]
     },
     "execution_count": 12,
     "metadata": {},
     "output_type": "execute_result"
    }
   ],
   "source": [
    "df.columns"
   ]
  },
  {
   "cell_type": "markdown",
   "id": "e9273115",
   "metadata": {
    "papermill": {
     "duration": 0.016429,
     "end_time": "2023-12-24T14:16:16.540565",
     "exception": false,
     "start_time": "2023-12-24T14:16:16.524136",
     "status": "completed"
    },
    "tags": []
   },
   "source": [
    "## Checking Data Compatibility For PCA "
   ]
  },
  {
   "cell_type": "code",
   "execution_count": 13,
   "id": "a7dcca6f",
   "metadata": {
    "execution": {
     "iopub.execute_input": "2023-12-24T14:16:16.576452Z",
     "iopub.status.busy": "2023-12-24T14:16:16.575665Z",
     "iopub.status.idle": "2023-12-24T14:16:16.606342Z",
     "shell.execute_reply": "2023-12-24T14:16:16.605083Z"
    },
    "papermill": {
     "duration": 0.051952,
     "end_time": "2023-12-24T14:16:16.608945",
     "exception": false,
     "start_time": "2023-12-24T14:16:16.556993",
     "status": "completed"
    },
    "tags": []
   },
   "outputs": [
    {
     "data": {
      "text/html": [
       "<div>\n",
       "<style scoped>\n",
       "    .dataframe tbody tr th:only-of-type {\n",
       "        vertical-align: middle;\n",
       "    }\n",
       "\n",
       "    .dataframe tbody tr th {\n",
       "        vertical-align: top;\n",
       "    }\n",
       "\n",
       "    .dataframe thead th {\n",
       "        text-align: right;\n",
       "    }\n",
       "</style>\n",
       "<table border=\"1\" class=\"dataframe\">\n",
       "  <thead>\n",
       "    <tr style=\"text-align: right;\">\n",
       "      <th></th>\n",
       "      <th>age</th>\n",
       "      <th>anaemia</th>\n",
       "      <th>creatinine_phosphokinase</th>\n",
       "      <th>diabetes</th>\n",
       "      <th>ejection_fraction</th>\n",
       "      <th>high_blood_pressure</th>\n",
       "      <th>platelets</th>\n",
       "      <th>serum_creatinine</th>\n",
       "      <th>serum_sodium</th>\n",
       "      <th>sex</th>\n",
       "      <th>smoking</th>\n",
       "      <th>time</th>\n",
       "      <th>DEATH_EVENT</th>\n",
       "    </tr>\n",
       "  </thead>\n",
       "  <tbody>\n",
       "    <tr>\n",
       "      <th>age</th>\n",
       "      <td>1.000000</td>\n",
       "      <td>0.088006</td>\n",
       "      <td>-0.081584</td>\n",
       "      <td>-0.101012</td>\n",
       "      <td>0.060098</td>\n",
       "      <td>0.093289</td>\n",
       "      <td>-0.052354</td>\n",
       "      <td>0.159187</td>\n",
       "      <td>-0.045966</td>\n",
       "      <td>0.065430</td>\n",
       "      <td>0.018668</td>\n",
       "      <td>-0.224068</td>\n",
       "      <td>0.253729</td>\n",
       "    </tr>\n",
       "    <tr>\n",
       "      <th>anaemia</th>\n",
       "      <td>0.088006</td>\n",
       "      <td>1.000000</td>\n",
       "      <td>-0.190741</td>\n",
       "      <td>-0.012729</td>\n",
       "      <td>0.031557</td>\n",
       "      <td>0.038182</td>\n",
       "      <td>-0.043786</td>\n",
       "      <td>0.052174</td>\n",
       "      <td>0.041882</td>\n",
       "      <td>-0.094769</td>\n",
       "      <td>-0.107290</td>\n",
       "      <td>-0.141414</td>\n",
       "      <td>0.066270</td>\n",
       "    </tr>\n",
       "    <tr>\n",
       "      <th>creatinine_phosphokinase</th>\n",
       "      <td>-0.081584</td>\n",
       "      <td>-0.190741</td>\n",
       "      <td>1.000000</td>\n",
       "      <td>-0.009639</td>\n",
       "      <td>-0.044080</td>\n",
       "      <td>-0.070590</td>\n",
       "      <td>0.024463</td>\n",
       "      <td>-0.016408</td>\n",
       "      <td>0.059550</td>\n",
       "      <td>0.079791</td>\n",
       "      <td>0.002421</td>\n",
       "      <td>-0.009346</td>\n",
       "      <td>0.062728</td>\n",
       "    </tr>\n",
       "    <tr>\n",
       "      <th>diabetes</th>\n",
       "      <td>-0.101012</td>\n",
       "      <td>-0.012729</td>\n",
       "      <td>-0.009639</td>\n",
       "      <td>1.000000</td>\n",
       "      <td>-0.004850</td>\n",
       "      <td>-0.012732</td>\n",
       "      <td>0.092193</td>\n",
       "      <td>-0.046975</td>\n",
       "      <td>-0.089551</td>\n",
       "      <td>-0.157730</td>\n",
       "      <td>-0.147173</td>\n",
       "      <td>0.033726</td>\n",
       "      <td>-0.001943</td>\n",
       "    </tr>\n",
       "    <tr>\n",
       "      <th>ejection_fraction</th>\n",
       "      <td>0.060098</td>\n",
       "      <td>0.031557</td>\n",
       "      <td>-0.044080</td>\n",
       "      <td>-0.004850</td>\n",
       "      <td>1.000000</td>\n",
       "      <td>0.024445</td>\n",
       "      <td>0.072177</td>\n",
       "      <td>-0.011302</td>\n",
       "      <td>0.175902</td>\n",
       "      <td>-0.148386</td>\n",
       "      <td>-0.067315</td>\n",
       "      <td>0.041729</td>\n",
       "      <td>-0.268603</td>\n",
       "    </tr>\n",
       "    <tr>\n",
       "      <th>high_blood_pressure</th>\n",
       "      <td>0.093289</td>\n",
       "      <td>0.038182</td>\n",
       "      <td>-0.070590</td>\n",
       "      <td>-0.012732</td>\n",
       "      <td>0.024445</td>\n",
       "      <td>1.000000</td>\n",
       "      <td>0.049963</td>\n",
       "      <td>-0.004935</td>\n",
       "      <td>0.037109</td>\n",
       "      <td>-0.104615</td>\n",
       "      <td>-0.055711</td>\n",
       "      <td>-0.196439</td>\n",
       "      <td>0.079351</td>\n",
       "    </tr>\n",
       "    <tr>\n",
       "      <th>platelets</th>\n",
       "      <td>-0.052354</td>\n",
       "      <td>-0.043786</td>\n",
       "      <td>0.024463</td>\n",
       "      <td>0.092193</td>\n",
       "      <td>0.072177</td>\n",
       "      <td>0.049963</td>\n",
       "      <td>1.000000</td>\n",
       "      <td>-0.041198</td>\n",
       "      <td>0.062125</td>\n",
       "      <td>-0.125120</td>\n",
       "      <td>0.028234</td>\n",
       "      <td>0.010514</td>\n",
       "      <td>-0.049139</td>\n",
       "    </tr>\n",
       "    <tr>\n",
       "      <th>serum_creatinine</th>\n",
       "      <td>0.159187</td>\n",
       "      <td>0.052174</td>\n",
       "      <td>-0.016408</td>\n",
       "      <td>-0.046975</td>\n",
       "      <td>-0.011302</td>\n",
       "      <td>-0.004935</td>\n",
       "      <td>-0.041198</td>\n",
       "      <td>1.000000</td>\n",
       "      <td>-0.189095</td>\n",
       "      <td>0.006970</td>\n",
       "      <td>-0.027414</td>\n",
       "      <td>-0.149315</td>\n",
       "      <td>0.294278</td>\n",
       "    </tr>\n",
       "    <tr>\n",
       "      <th>serum_sodium</th>\n",
       "      <td>-0.045966</td>\n",
       "      <td>0.041882</td>\n",
       "      <td>0.059550</td>\n",
       "      <td>-0.089551</td>\n",
       "      <td>0.175902</td>\n",
       "      <td>0.037109</td>\n",
       "      <td>0.062125</td>\n",
       "      <td>-0.189095</td>\n",
       "      <td>1.000000</td>\n",
       "      <td>-0.027566</td>\n",
       "      <td>0.004813</td>\n",
       "      <td>0.087640</td>\n",
       "      <td>-0.195204</td>\n",
       "    </tr>\n",
       "    <tr>\n",
       "      <th>sex</th>\n",
       "      <td>0.065430</td>\n",
       "      <td>-0.094769</td>\n",
       "      <td>0.079791</td>\n",
       "      <td>-0.157730</td>\n",
       "      <td>-0.148386</td>\n",
       "      <td>-0.104615</td>\n",
       "      <td>-0.125120</td>\n",
       "      <td>0.006970</td>\n",
       "      <td>-0.027566</td>\n",
       "      <td>1.000000</td>\n",
       "      <td>0.445892</td>\n",
       "      <td>-0.015608</td>\n",
       "      <td>-0.004316</td>\n",
       "    </tr>\n",
       "    <tr>\n",
       "      <th>smoking</th>\n",
       "      <td>0.018668</td>\n",
       "      <td>-0.107290</td>\n",
       "      <td>0.002421</td>\n",
       "      <td>-0.147173</td>\n",
       "      <td>-0.067315</td>\n",
       "      <td>-0.055711</td>\n",
       "      <td>0.028234</td>\n",
       "      <td>-0.027414</td>\n",
       "      <td>0.004813</td>\n",
       "      <td>0.445892</td>\n",
       "      <td>1.000000</td>\n",
       "      <td>-0.022839</td>\n",
       "      <td>-0.012623</td>\n",
       "    </tr>\n",
       "    <tr>\n",
       "      <th>time</th>\n",
       "      <td>-0.224068</td>\n",
       "      <td>-0.141414</td>\n",
       "      <td>-0.009346</td>\n",
       "      <td>0.033726</td>\n",
       "      <td>0.041729</td>\n",
       "      <td>-0.196439</td>\n",
       "      <td>0.010514</td>\n",
       "      <td>-0.149315</td>\n",
       "      <td>0.087640</td>\n",
       "      <td>-0.015608</td>\n",
       "      <td>-0.022839</td>\n",
       "      <td>1.000000</td>\n",
       "      <td>-0.526964</td>\n",
       "    </tr>\n",
       "    <tr>\n",
       "      <th>DEATH_EVENT</th>\n",
       "      <td>0.253729</td>\n",
       "      <td>0.066270</td>\n",
       "      <td>0.062728</td>\n",
       "      <td>-0.001943</td>\n",
       "      <td>-0.268603</td>\n",
       "      <td>0.079351</td>\n",
       "      <td>-0.049139</td>\n",
       "      <td>0.294278</td>\n",
       "      <td>-0.195204</td>\n",
       "      <td>-0.004316</td>\n",
       "      <td>-0.012623</td>\n",
       "      <td>-0.526964</td>\n",
       "      <td>1.000000</td>\n",
       "    </tr>\n",
       "  </tbody>\n",
       "</table>\n",
       "</div>"
      ],
      "text/plain": [
       "                               age   anaemia  creatinine_phosphokinase  \\\n",
       "age                       1.000000  0.088006                 -0.081584   \n",
       "anaemia                   0.088006  1.000000                 -0.190741   \n",
       "creatinine_phosphokinase -0.081584 -0.190741                  1.000000   \n",
       "diabetes                 -0.101012 -0.012729                 -0.009639   \n",
       "ejection_fraction         0.060098  0.031557                 -0.044080   \n",
       "high_blood_pressure       0.093289  0.038182                 -0.070590   \n",
       "platelets                -0.052354 -0.043786                  0.024463   \n",
       "serum_creatinine          0.159187  0.052174                 -0.016408   \n",
       "serum_sodium             -0.045966  0.041882                  0.059550   \n",
       "sex                       0.065430 -0.094769                  0.079791   \n",
       "smoking                   0.018668 -0.107290                  0.002421   \n",
       "time                     -0.224068 -0.141414                 -0.009346   \n",
       "DEATH_EVENT               0.253729  0.066270                  0.062728   \n",
       "\n",
       "                          diabetes  ejection_fraction  high_blood_pressure  \\\n",
       "age                      -0.101012           0.060098             0.093289   \n",
       "anaemia                  -0.012729           0.031557             0.038182   \n",
       "creatinine_phosphokinase -0.009639          -0.044080            -0.070590   \n",
       "diabetes                  1.000000          -0.004850            -0.012732   \n",
       "ejection_fraction        -0.004850           1.000000             0.024445   \n",
       "high_blood_pressure      -0.012732           0.024445             1.000000   \n",
       "platelets                 0.092193           0.072177             0.049963   \n",
       "serum_creatinine         -0.046975          -0.011302            -0.004935   \n",
       "serum_sodium             -0.089551           0.175902             0.037109   \n",
       "sex                      -0.157730          -0.148386            -0.104615   \n",
       "smoking                  -0.147173          -0.067315            -0.055711   \n",
       "time                      0.033726           0.041729            -0.196439   \n",
       "DEATH_EVENT              -0.001943          -0.268603             0.079351   \n",
       "\n",
       "                          platelets  serum_creatinine  serum_sodium       sex  \\\n",
       "age                       -0.052354          0.159187     -0.045966  0.065430   \n",
       "anaemia                   -0.043786          0.052174      0.041882 -0.094769   \n",
       "creatinine_phosphokinase   0.024463         -0.016408      0.059550  0.079791   \n",
       "diabetes                   0.092193         -0.046975     -0.089551 -0.157730   \n",
       "ejection_fraction          0.072177         -0.011302      0.175902 -0.148386   \n",
       "high_blood_pressure        0.049963         -0.004935      0.037109 -0.104615   \n",
       "platelets                  1.000000         -0.041198      0.062125 -0.125120   \n",
       "serum_creatinine          -0.041198          1.000000     -0.189095  0.006970   \n",
       "serum_sodium               0.062125         -0.189095      1.000000 -0.027566   \n",
       "sex                       -0.125120          0.006970     -0.027566  1.000000   \n",
       "smoking                    0.028234         -0.027414      0.004813  0.445892   \n",
       "time                       0.010514         -0.149315      0.087640 -0.015608   \n",
       "DEATH_EVENT               -0.049139          0.294278     -0.195204 -0.004316   \n",
       "\n",
       "                           smoking      time  DEATH_EVENT  \n",
       "age                       0.018668 -0.224068     0.253729  \n",
       "anaemia                  -0.107290 -0.141414     0.066270  \n",
       "creatinine_phosphokinase  0.002421 -0.009346     0.062728  \n",
       "diabetes                 -0.147173  0.033726    -0.001943  \n",
       "ejection_fraction        -0.067315  0.041729    -0.268603  \n",
       "high_blood_pressure      -0.055711 -0.196439     0.079351  \n",
       "platelets                 0.028234  0.010514    -0.049139  \n",
       "serum_creatinine         -0.027414 -0.149315     0.294278  \n",
       "serum_sodium              0.004813  0.087640    -0.195204  \n",
       "sex                       0.445892 -0.015608    -0.004316  \n",
       "smoking                   1.000000 -0.022839    -0.012623  \n",
       "time                     -0.022839  1.000000    -0.526964  \n",
       "DEATH_EVENT              -0.012623 -0.526964     1.000000  "
      ]
     },
     "execution_count": 13,
     "metadata": {},
     "output_type": "execute_result"
    }
   ],
   "source": [
    "correlation_attributes = df.corr()\n",
    "correlation_attributes"
   ]
  },
  {
   "cell_type": "code",
   "execution_count": 14,
   "id": "1cb8bf23",
   "metadata": {
    "execution": {
     "iopub.execute_input": "2023-12-24T14:16:16.645693Z",
     "iopub.status.busy": "2023-12-24T14:16:16.644803Z",
     "iopub.status.idle": "2023-12-24T14:16:17.702677Z",
     "shell.execute_reply": "2023-12-24T14:16:17.701653Z"
    },
    "papermill": {
     "duration": 1.079772,
     "end_time": "2023-12-24T14:16:17.705948",
     "exception": false,
     "start_time": "2023-12-24T14:16:16.626176",
     "status": "completed"
    },
    "tags": []
   },
   "outputs": [
    {
     "data": {
      "image/png": "[encoded data removed]",
      "text/plain": [
       "<Figure size 1170x500 with 2 Axes>"
      ]
     },
     "metadata": {},
     "output_type": "display_data"
    }
   ],
   "source": [
    "sns.set(rc = {'figure.figsize':(11.7,5)})\n",
    "sns.heatmap(correlation_attributes,annot=True,fmt='.1g')\n",
    "plt.show()"
   ]
  },
  {
   "cell_type": "markdown",
   "id": "597fcb46",
   "metadata": {
    "papermill": {
     "duration": 0.020181,
     "end_time": "2023-12-24T14:16:17.746581",
     "exception": false,
     "start_time": "2023-12-24T14:16:17.726400",
     "status": "completed"
    },
    "tags": []
   },
   "source": [
    "**Observation : Features are very less correlated to each other, so we can use all features for our data training as all are helping in information gain.**"
   ]
  },
  {
   "cell_type": "markdown",
   "id": "c2c702c0",
   "metadata": {
    "papermill": {
     "duration": 0.019959,
     "end_time": "2023-12-24T14:16:17.787012",
     "exception": false,
     "start_time": "2023-12-24T14:16:17.767053",
     "status": "completed"
    },
    "tags": []
   },
   "source": [
    "## Training and Testing Data"
   ]
  },
  {
   "cell_type": "code",
   "execution_count": 15,
   "id": "3e07f39e",
   "metadata": {
    "execution": {
     "iopub.execute_input": "2023-12-24T14:16:17.830518Z",
     "iopub.status.busy": "2023-12-24T14:16:17.829332Z",
     "iopub.status.idle": "2023-12-24T14:16:17.841099Z",
     "shell.execute_reply": "2023-12-24T14:16:17.839645Z"
    },
    "papermill": {
     "duration": 0.03665,
     "end_time": "2023-12-24T14:16:17.844104",
     "exception": false,
     "start_time": "2023-12-24T14:16:17.807454",
     "status": "completed"
    },
    "tags": []
   },
   "outputs": [],
   "source": [
    "x = df.drop(columns='DEATH_EVENT')\n",
    "y = df['DEATH_EVENT']"
   ]
  },
  {
   "cell_type": "code",
   "execution_count": 16,
   "id": "f07ea6e6",
   "metadata": {
    "execution": {
     "iopub.execute_input": "2023-12-24T14:16:17.886547Z",
     "iopub.status.busy": "2023-12-24T14:16:17.886089Z",
     "iopub.status.idle": "2023-12-24T14:16:17.894017Z",
     "shell.execute_reply": "2023-12-24T14:16:17.893207Z"
    },
    "papermill": {
     "duration": 0.031853,
     "end_time": "2023-12-24T14:16:17.896287",
     "exception": false,
     "start_time": "2023-12-24T14:16:17.864434",
     "status": "completed"
    },
    "tags": []
   },
   "outputs": [],
   "source": [
    "X_train, X_test,y_train,y_test = train_test_split(x,y,test_size=0.2)"
   ]
  },
  {
   "cell_type": "code",
   "execution_count": 17,
   "id": "470af8c5",
   "metadata": {
    "execution": {
     "iopub.execute_input": "2023-12-24T14:16:17.939046Z",
     "iopub.status.busy": "2023-12-24T14:16:17.938404Z",
     "iopub.status.idle": "2023-12-24T14:16:17.943581Z",
     "shell.execute_reply": "2023-12-24T14:16:17.942661Z"
    },
    "papermill": {
     "duration": 0.029593,
     "end_time": "2023-12-24T14:16:17.945921",
     "exception": false,
     "start_time": "2023-12-24T14:16:17.916328",
     "status": "completed"
    },
    "tags": []
   },
   "outputs": [],
   "source": [
    "#Customize AutoML https://microsoft.github.io/FLAML/docs/Use-Cases/Task-Oriented-AutoML/#customize-automlfit\n",
    "#Total number of iterations : 200\n",
    "# It run each model alternatively.\n",
    "settings = {\n",
    "    'time_budget':1200,\n",
    "    \"metric\": 'accuracy', \n",
    "    \"estimator_list\":['rf','kneighbor'],\n",
    "     \"task\": 'classification',  # task type\n",
    "    \"seed\": 7654321,    # random seed\n",
    "    'eval_method':'cv',\n",
    "    'max_iter':200\n",
    "}"
   ]
  },
  {
   "cell_type": "code",
   "execution_count": 18,
   "id": "7f4cf9f1",
   "metadata": {
    "execution": {
     "iopub.execute_input": "2023-12-24T14:16:18.051735Z",
     "iopub.status.busy": "2023-12-24T14:16:18.051306Z",
     "iopub.status.idle": "2023-12-24T14:17:11.689266Z",
     "shell.execute_reply": "2023-12-24T14:17:11.688176Z"
    },
    "papermill": {
     "duration": 53.725716,
     "end_time": "2023-12-24T14:17:11.691851",
     "exception": false,
     "start_time": "2023-12-24T14:16:17.966135",
     "status": "completed"
    },
    "tags": []
   },
   "outputs": [
    {
     "name": "stdout",
     "output_type": "stream",
     "text": [
      "[flaml.automl.logger: 12-24 14:16:18] {1679} INFO - task = classification\n",
      "[flaml.automl.logger: 12-24 14:16:18] {1690} INFO - Evaluation method: cv\n",
      "[flaml.automl.logger: 12-24 14:16:18] {1788} INFO - Minimizing error metric: 1-accuracy\n",
      "[flaml.automl.logger: 12-24 14:16:18] {1900} INFO - List of ML learners in AutoML Run: ['rf', 'kneighbor']\n",
      "[flaml.automl.logger: 12-24 14:16:18] {2218} INFO - iteration 0, current learner rf\n",
      "[flaml.automl.logger: 12-24 14:16:18] {2344} INFO - Estimated sufficient time budget=2255s. Estimated necessary time budget=4s.\n",
      "[flaml.automl.logger: 12-24 14:16:18] {2391} INFO -  at 0.3s,\testimator rf's best error=0.2346,\tbest estimator rf's best error=0.2346\n",
      "[flaml.automl.logger: 12-24 14:16:18] {2218} INFO - iteration 1, current learner rf\n",
      "[flaml.automl.logger: 12-24 14:16:18] {2391} INFO -  at 0.5s,\testimator rf's best error=0.2178,\tbest estimator rf's best error=0.2178\n",
      "[flaml.automl.logger: 12-24 14:16:18] {2218} INFO - iteration 2, current learner rf\n",
      "[flaml.automl.logger: 12-24 14:16:18] {2391} INFO -  at 0.8s,\testimator rf's best error=0.1718,\tbest estimator rf's best error=0.1718\n",
      "[flaml.automl.logger: 12-24 14:16:18] {2218} INFO - iteration 3, current learner rf\n",
      "[flaml.automl.logger: 12-24 14:16:19] {2391} INFO -  at 1.1s,\testimator rf's best error=0.1718,\tbest estimator rf's best error=0.1718\n",
      "[flaml.automl.logger: 12-24 14:16:19] {2218} INFO - iteration 4, current learner rf\n",
      "[flaml.automl.logger: 12-24 14:16:19] {2391} INFO -  at 1.5s,\testimator rf's best error=0.1718,\tbest estimator rf's best error=0.1718\n",
      "[flaml.automl.logger: 12-24 14:16:19] {2218} INFO - iteration 5, current learner rf\n",
      "[flaml.automl.logger: 12-24 14:16:19] {2391} INFO -  at 1.8s,\testimator rf's best error=0.1591,\tbest estimator rf's best error=0.1591\n",
      "[flaml.automl.logger: 12-24 14:16:19] {2218} INFO - iteration 6, current learner rf\n",
      "[flaml.automl.logger: 12-24 14:16:20] {2391} INFO -  at 2.1s,\testimator rf's best error=0.1591,\tbest estimator rf's best error=0.1591\n",
      "[flaml.automl.logger: 12-24 14:16:20] {2218} INFO - iteration 7, current learner rf\n",
      "[flaml.automl.logger: 12-24 14:16:20] {2391} INFO -  at 2.6s,\testimator rf's best error=0.1505,\tbest estimator rf's best error=0.1505\n",
      "[flaml.automl.logger: 12-24 14:16:20] {2218} INFO - iteration 8, current learner rf\n",
      "[flaml.automl.logger: 12-24 14:16:20] {2391} INFO -  at 2.9s,\testimator rf's best error=0.1505,\tbest estimator rf's best error=0.1505\n",
      "[flaml.automl.logger: 12-24 14:16:20] {2218} INFO - iteration 9, current learner rf\n",
      "[flaml.automl.logger: 12-24 14:16:21] {2391} INFO -  at 3.4s,\testimator rf's best error=0.1505,\tbest estimator rf's best error=0.1505\n",
      "[flaml.automl.logger: 12-24 14:16:21] {2218} INFO - iteration 10, current learner rf\n",
      "[flaml.automl.logger: 12-24 14:16:21] {2391} INFO -  at 3.7s,\testimator rf's best error=0.1505,\tbest estimator rf's best error=0.1505\n",
      "[flaml.automl.logger: 12-24 14:16:21] {2218} INFO - iteration 11, current learner rf\n",
      "[flaml.automl.logger: 12-24 14:16:22] {2391} INFO -  at 4.1s,\testimator rf's best error=0.1505,\tbest estimator rf's best error=0.1505\n",
      "[flaml.automl.logger: 12-24 14:16:22] {2218} INFO - iteration 12, current learner rf\n",
      "[flaml.automl.logger: 12-24 14:16:22] {2391} INFO -  at 4.5s,\testimator rf's best error=0.1505,\tbest estimator rf's best error=0.1505\n",
      "[flaml.automl.logger: 12-24 14:16:22] {2218} INFO - iteration 13, current learner rf\n",
      "[flaml.automl.logger: 12-24 14:16:22] {2391} INFO -  at 4.8s,\testimator rf's best error=0.1505,\tbest estimator rf's best error=0.1505\n",
      "[flaml.automl.logger: 12-24 14:16:22] {2218} INFO - iteration 14, current learner rf\n",
      "[flaml.automl.logger: 12-24 14:16:23] {2391} INFO -  at 5.3s,\testimator rf's best error=0.1505,\tbest estimator rf's best error=0.1505\n",
      "[flaml.automl.logger: 12-24 14:16:23] {2218} INFO - iteration 15, current learner rf\n",
      "[flaml.automl.logger: 12-24 14:16:23] {2391} INFO -  at 5.7s,\testimator rf's best error=0.1505,\tbest estimator rf's best error=0.1505\n",
      "[flaml.automl.logger: 12-24 14:16:23] {2218} INFO - iteration 16, current learner rf\n",
      "[flaml.automl.logger: 12-24 14:16:24] {2391} INFO -  at 6.1s,\testimator rf's best error=0.1505,\tbest estimator rf's best error=0.1505\n",
      "[flaml.automl.logger: 12-24 14:16:24] {2218} INFO - iteration 17, current learner kneighbor\n",
      "[flaml.automl.logger: 12-24 14:16:24] {2391} INFO -  at 6.2s,\testimator kneighbor's best error=0.4433,\tbest estimator rf's best error=0.1505\n",
      "[flaml.automl.logger: 12-24 14:16:24] {2218} INFO - iteration 18, current learner kneighbor\n",
      "[flaml.automl.logger: 12-24 14:16:24] {2391} INFO -  at 6.3s,\testimator kneighbor's best error=0.4433,\tbest estimator rf's best error=0.1505\n",
      "[flaml.automl.logger: 12-24 14:16:24] {2218} INFO - iteration 19, current learner kneighbor\n",
      "[flaml.automl.logger: 12-24 14:16:24] {2391} INFO -  at 6.4s,\testimator kneighbor's best error=0.4309,\tbest estimator rf's best error=0.1505\n",
      "[flaml.automl.logger: 12-24 14:16:24] {2218} INFO - iteration 20, current learner rf\n",
      "[flaml.automl.logger: 12-24 14:16:24] {2391} INFO -  at 6.8s,\testimator rf's best error=0.1505,\tbest estimator rf's best error=0.1505\n",
      "[flaml.automl.logger: 12-24 14:16:24] {2218} INFO - iteration 21, current learner rf\n",
      "[flaml.automl.logger: 12-24 14:16:25] {2391} INFO -  at 7.2s,\testimator rf's best error=0.1505,\tbest estimator rf's best error=0.1505\n",
      "[flaml.automl.logger: 12-24 14:16:25] {2218} INFO - iteration 22, current learner kneighbor\n",
      "[flaml.automl.logger: 12-24 14:16:25] {2391} INFO -  at 7.4s,\testimator kneighbor's best error=0.4184,\tbest estimator rf's best error=0.1505\n",
      "[flaml.automl.logger: 12-24 14:16:25] {2218} INFO - iteration 23, current learner kneighbor\n",
      "[flaml.automl.logger: 12-24 14:16:25] {2391} INFO -  at 7.5s,\testimator kneighbor's best error=0.4099,\tbest estimator rf's best error=0.1505\n",
      "[flaml.automl.logger: 12-24 14:16:25] {2218} INFO - iteration 24, current learner rf\n",
      "[flaml.automl.logger: 12-24 14:16:25] {2391} INFO -  at 7.8s,\testimator rf's best error=0.1505,\tbest estimator rf's best error=0.1505\n",
      "[flaml.automl.logger: 12-24 14:16:25] {2218} INFO - iteration 25, current learner kneighbor\n",
      "[flaml.automl.logger: 12-24 14:16:26] {2391} INFO -  at 8.0s,\testimator kneighbor's best error=0.4099,\tbest estimator rf's best error=0.1505\n",
      "[flaml.automl.logger: 12-24 14:16:26] {2218} INFO - iteration 26, current learner kneighbor\n",
      "[flaml.automl.logger: 12-24 14:16:26] {2391} INFO -  at 8.1s,\testimator kneighbor's best error=0.3932,\tbest estimator rf's best error=0.1505\n",
      "[flaml.automl.logger: 12-24 14:16:26] {2218} INFO - iteration 27, current learner kneighbor\n",
      "[flaml.automl.logger: 12-24 14:16:26] {2391} INFO -  at 8.2s,\testimator kneighbor's best error=0.3932,\tbest estimator rf's best error=0.1505\n",
      "[flaml.automl.logger: 12-24 14:16:26] {2218} INFO - iteration 28, current learner rf\n",
      "[flaml.automl.logger: 12-24 14:16:26] {2391} INFO -  at 8.6s,\testimator rf's best error=0.1505,\tbest estimator rf's best error=0.1505\n",
      "[flaml.automl.logger: 12-24 14:16:26] {2218} INFO - iteration 29, current learner rf\n",
      "[flaml.automl.logger: 12-24 14:16:27] {2391} INFO -  at 9.0s,\testimator rf's best error=0.1505,\tbest estimator rf's best error=0.1505\n",
      "[flaml.automl.logger: 12-24 14:16:27] {2218} INFO - iteration 30, current learner rf\n",
      "[flaml.automl.logger: 12-24 14:16:27] {2391} INFO -  at 9.4s,\testimator rf's best error=0.1505,\tbest estimator rf's best error=0.1505\n",
      "[flaml.automl.logger: 12-24 14:16:27] {2218} INFO - iteration 31, current learner kneighbor\n",
      "[flaml.automl.logger: 12-24 14:16:27] {2391} INFO -  at 9.5s,\testimator kneighbor's best error=0.3848,\tbest estimator rf's best error=0.1505\n",
      "[flaml.automl.logger: 12-24 14:16:27] {2218} INFO - iteration 32, current learner rf\n",
      "[flaml.automl.logger: 12-24 14:16:27] {2391} INFO -  at 9.8s,\testimator rf's best error=0.1505,\tbest estimator rf's best error=0.1505\n",
      "[flaml.automl.logger: 12-24 14:16:27] {2218} INFO - iteration 33, current learner rf\n",
      "[flaml.automl.logger: 12-24 14:16:28] {2391} INFO -  at 10.3s,\testimator rf's best error=0.1505,\tbest estimator rf's best error=0.1505\n",
      "[flaml.automl.logger: 12-24 14:16:28] {2218} INFO - iteration 34, current learner kneighbor\n",
      "[flaml.automl.logger: 12-24 14:16:28] {2391} INFO -  at 10.4s,\testimator kneighbor's best error=0.3848,\tbest estimator rf's best error=0.1505\n",
      "[flaml.automl.logger: 12-24 14:16:28] {2218} INFO - iteration 35, current learner rf\n",
      "[flaml.automl.logger: 12-24 14:16:28] {2391} INFO -  at 10.8s,\testimator rf's best error=0.1505,\tbest estimator rf's best error=0.1505\n",
      "[flaml.automl.logger: 12-24 14:16:28] {2218} INFO - iteration 36, current learner rf\n",
      "[flaml.automl.logger: 12-24 14:16:29] {2391} INFO -  at 11.2s,\testimator rf's best error=0.1505,\tbest estimator rf's best error=0.1505\n",
      "[flaml.automl.logger: 12-24 14:16:29] {2218} INFO - iteration 37, current learner rf\n",
      "[flaml.automl.logger: 12-24 14:16:29] {2391} INFO -  at 11.6s,\testimator rf's best error=0.1505,\tbest estimator rf's best error=0.1505\n",
      "[flaml.automl.logger: 12-24 14:16:29] {2218} INFO - iteration 38, current learner rf\n",
      "[flaml.automl.logger: 12-24 14:16:30] {2391} INFO -  at 12.0s,\testimator rf's best error=0.1504,\tbest estimator rf's best error=0.1504\n",
      "[flaml.automl.logger: 12-24 14:16:30] {2218} INFO - iteration 39, current learner kneighbor\n",
      "[flaml.automl.logger: 12-24 14:16:30] {2391} INFO -  at 12.1s,\testimator kneighbor's best error=0.3848,\tbest estimator rf's best error=0.1504\n",
      "[flaml.automl.logger: 12-24 14:16:30] {2218} INFO - iteration 40, current learner rf\n",
      "[flaml.automl.logger: 12-24 14:16:30] {2391} INFO -  at 12.5s,\testimator rf's best error=0.1504,\tbest estimator rf's best error=0.1504\n",
      "[flaml.automl.logger: 12-24 14:16:30] {2218} INFO - iteration 41, current learner rf\n",
      "[flaml.automl.logger: 12-24 14:16:30] {2391} INFO -  at 12.9s,\testimator rf's best error=0.1504,\tbest estimator rf's best error=0.1504\n",
      "[flaml.automl.logger: 12-24 14:16:30] {2218} INFO - iteration 42, current learner kneighbor\n",
      "[flaml.automl.logger: 12-24 14:16:31] {2391} INFO -  at 13.0s,\testimator kneighbor's best error=0.3848,\tbest estimator rf's best error=0.1504\n",
      "[flaml.automl.logger: 12-24 14:16:31] {2218} INFO - iteration 43, current learner rf\n",
      "[flaml.automl.logger: 12-24 14:16:31] {2391} INFO -  at 13.4s,\testimator rf's best error=0.1504,\tbest estimator rf's best error=0.1504\n",
      "[flaml.automl.logger: 12-24 14:16:31] {2218} INFO - iteration 44, current learner rf\n",
      "[flaml.automl.logger: 12-24 14:16:31] {2391} INFO -  at 13.7s,\testimator rf's best error=0.1504,\tbest estimator rf's best error=0.1504\n",
      "[flaml.automl.logger: 12-24 14:16:31] {2218} INFO - iteration 45, current learner rf\n",
      "[flaml.automl.logger: 12-24 14:16:32] {2391} INFO -  at 14.3s,\testimator rf's best error=0.1504,\tbest estimator rf's best error=0.1504\n",
      "[flaml.automl.logger: 12-24 14:16:32] {2218} INFO - iteration 46, current learner rf\n",
      "[flaml.automl.logger: 12-24 14:16:32] {2391} INFO -  at 14.6s,\testimator rf's best error=0.1504,\tbest estimator rf's best error=0.1504\n",
      "[flaml.automl.logger: 12-24 14:16:32] {2218} INFO - iteration 47, current learner rf\n",
      "[flaml.automl.logger: 12-24 14:16:33] {2391} INFO -  at 15.1s,\testimator rf's best error=0.1504,\tbest estimator rf's best error=0.1504\n",
      "[flaml.automl.logger: 12-24 14:16:33] {2218} INFO - iteration 48, current learner rf\n",
      "[flaml.automl.logger: 12-24 14:16:33] {2391} INFO -  at 15.4s,\testimator rf's best error=0.1504,\tbest estimator rf's best error=0.1504\n",
      "[flaml.automl.logger: 12-24 14:16:33] {2218} INFO - iteration 49, current learner rf\n",
      "[flaml.automl.logger: 12-24 14:16:33] {2391} INFO -  at 15.8s,\testimator rf's best error=0.1504,\tbest estimator rf's best error=0.1504\n",
      "[flaml.automl.logger: 12-24 14:16:33] {2218} INFO - iteration 50, current learner rf\n",
      "[flaml.automl.logger: 12-24 14:16:34] {2391} INFO -  at 16.3s,\testimator rf's best error=0.1504,\tbest estimator rf's best error=0.1504\n",
      "[flaml.automl.logger: 12-24 14:16:34] {2218} INFO - iteration 51, current learner rf\n",
      "[flaml.automl.logger: 12-24 14:16:34] {2391} INFO -  at 16.6s,\testimator rf's best error=0.1504,\tbest estimator rf's best error=0.1504\n",
      "[flaml.automl.logger: 12-24 14:16:34] {2218} INFO - iteration 52, current learner rf\n",
      "[flaml.automl.logger: 12-24 14:16:35] {2391} INFO -  at 17.1s,\testimator rf's best error=0.1504,\tbest estimator rf's best error=0.1504\n",
      "[flaml.automl.logger: 12-24 14:16:35] {2218} INFO - iteration 53, current learner rf\n",
      "[flaml.automl.logger: 12-24 14:16:35] {2391} INFO -  at 17.5s,\testimator rf's best error=0.1504,\tbest estimator rf's best error=0.1504\n",
      "[flaml.automl.logger: 12-24 14:16:35] {2218} INFO - iteration 54, current learner rf\n",
      "[flaml.automl.logger: 12-24 14:16:36] {2391} INFO -  at 18.0s,\testimator rf's best error=0.1504,\tbest estimator rf's best error=0.1504\n",
      "[flaml.automl.logger: 12-24 14:16:36] {2218} INFO - iteration 55, current learner rf\n",
      "[flaml.automl.logger: 12-24 14:16:36] {2391} INFO -  at 18.4s,\testimator rf's best error=0.1504,\tbest estimator rf's best error=0.1504\n",
      "[flaml.automl.logger: 12-24 14:16:36] {2218} INFO - iteration 56, current learner rf\n",
      "[flaml.automl.logger: 12-24 14:16:36] {2391} INFO -  at 18.8s,\testimator rf's best error=0.1504,\tbest estimator rf's best error=0.1504\n",
      "[flaml.automl.logger: 12-24 14:16:36] {2218} INFO - iteration 57, current learner rf\n",
      "[flaml.automl.logger: 12-24 14:16:37] {2391} INFO -  at 19.2s,\testimator rf's best error=0.1504,\tbest estimator rf's best error=0.1504\n",
      "[flaml.automl.logger: 12-24 14:16:37] {2218} INFO - iteration 58, current learner rf\n",
      "[flaml.automl.logger: 12-24 14:16:37] {2391} INFO -  at 19.6s,\testimator rf's best error=0.1504,\tbest estimator rf's best error=0.1504\n",
      "[flaml.automl.logger: 12-24 14:16:37] {2218} INFO - iteration 59, current learner rf\n",
      "[flaml.automl.logger: 12-24 14:16:38] {2391} INFO -  at 20.0s,\testimator rf's best error=0.1504,\tbest estimator rf's best error=0.1504\n",
      "[flaml.automl.logger: 12-24 14:16:38] {2218} INFO - iteration 60, current learner rf\n",
      "[flaml.automl.logger: 12-24 14:16:38] {2391} INFO -  at 20.4s,\testimator rf's best error=0.1504,\tbest estimator rf's best error=0.1504\n",
      "[flaml.automl.logger: 12-24 14:16:38] {2218} INFO - iteration 61, current learner rf\n",
      "[flaml.automl.logger: 12-24 14:16:39] {2391} INFO -  at 21.0s,\testimator rf's best error=0.1504,\tbest estimator rf's best error=0.1504\n",
      "[flaml.automl.logger: 12-24 14:16:39] {2218} INFO - iteration 62, current learner rf\n",
      "[flaml.automl.logger: 12-24 14:16:39] {2391} INFO -  at 21.4s,\testimator rf's best error=0.1504,\tbest estimator rf's best error=0.1504\n",
      "[flaml.automl.logger: 12-24 14:16:39] {2218} INFO - iteration 63, current learner rf\n",
      "[flaml.automl.logger: 12-24 14:16:39] {2391} INFO -  at 21.8s,\testimator rf's best error=0.1504,\tbest estimator rf's best error=0.1504\n",
      "[flaml.automl.logger: 12-24 14:16:39] {2218} INFO - iteration 64, current learner rf\n",
      "[flaml.automl.logger: 12-24 14:16:40] {2391} INFO -  at 22.2s,\testimator rf's best error=0.1504,\tbest estimator rf's best error=0.1504\n",
      "[flaml.automl.logger: 12-24 14:16:40] {2218} INFO - iteration 65, current learner rf\n",
      "[flaml.automl.logger: 12-24 14:16:40] {2391} INFO -  at 22.6s,\testimator rf's best error=0.1504,\tbest estimator rf's best error=0.1504\n",
      "[flaml.automl.logger: 12-24 14:16:40] {2218} INFO - iteration 66, current learner rf\n",
      "[flaml.automl.logger: 12-24 14:16:41] {2391} INFO -  at 23.0s,\testimator rf's best error=0.1504,\tbest estimator rf's best error=0.1504\n",
      "[flaml.automl.logger: 12-24 14:16:41] {2218} INFO - iteration 67, current learner rf\n",
      "[flaml.automl.logger: 12-24 14:16:41] {2391} INFO -  at 23.4s,\testimator rf's best error=0.1504,\tbest estimator rf's best error=0.1504\n",
      "[flaml.automl.logger: 12-24 14:16:41] {2218} INFO - iteration 68, current learner rf\n",
      "[flaml.automl.logger: 12-24 14:16:41] {2391} INFO -  at 23.8s,\testimator rf's best error=0.1504,\tbest estimator rf's best error=0.1504\n",
      "[flaml.automl.logger: 12-24 14:16:41] {2218} INFO - iteration 69, current learner rf\n",
      "[flaml.automl.logger: 12-24 14:16:42] {2391} INFO -  at 24.2s,\testimator rf's best error=0.1504,\tbest estimator rf's best error=0.1504\n",
      "[flaml.automl.logger: 12-24 14:16:42] {2218} INFO - iteration 70, current learner kneighbor\n",
      "[flaml.automl.logger: 12-24 14:16:42] {2391} INFO -  at 24.4s,\testimator kneighbor's best error=0.3848,\tbest estimator rf's best error=0.1504\n",
      "[flaml.automl.logger: 12-24 14:16:42] {2218} INFO - iteration 71, current learner rf\n",
      "[flaml.automl.logger: 12-24 14:16:42] {2391} INFO -  at 24.8s,\testimator rf's best error=0.1504,\tbest estimator rf's best error=0.1504\n",
      "[flaml.automl.logger: 12-24 14:16:42] {2218} INFO - iteration 72, current learner kneighbor\n",
      "[flaml.automl.logger: 12-24 14:16:42] {2391} INFO -  at 24.9s,\testimator kneighbor's best error=0.3848,\tbest estimator rf's best error=0.1504\n",
      "[flaml.automl.logger: 12-24 14:16:42] {2218} INFO - iteration 73, current learner rf\n",
      "[flaml.automl.logger: 12-24 14:16:43] {2391} INFO -  at 25.3s,\testimator rf's best error=0.1504,\tbest estimator rf's best error=0.1504\n",
      "[flaml.automl.logger: 12-24 14:16:43] {2218} INFO - iteration 74, current learner rf\n",
      "[flaml.automl.logger: 12-24 14:16:43] {2391} INFO -  at 25.7s,\testimator rf's best error=0.1504,\tbest estimator rf's best error=0.1504\n",
      "[flaml.automl.logger: 12-24 14:16:43] {2218} INFO - iteration 75, current learner rf\n",
      "[flaml.automl.logger: 12-24 14:16:44] {2391} INFO -  at 26.2s,\testimator rf's best error=0.1504,\tbest estimator rf's best error=0.1504\n",
      "[flaml.automl.logger: 12-24 14:16:44] {2218} INFO - iteration 76, current learner rf\n",
      "[flaml.automl.logger: 12-24 14:16:44] {2391} INFO -  at 26.6s,\testimator rf's best error=0.1504,\tbest estimator rf's best error=0.1504\n",
      "[flaml.automl.logger: 12-24 14:16:44] {2218} INFO - iteration 77, current learner rf\n",
      "[flaml.automl.logger: 12-24 14:16:45] {2391} INFO -  at 27.0s,\testimator rf's best error=0.1504,\tbest estimator rf's best error=0.1504\n",
      "[flaml.automl.logger: 12-24 14:16:45] {2218} INFO - iteration 78, current learner kneighbor\n",
      "[flaml.automl.logger: 12-24 14:16:45] {2391} INFO -  at 27.1s,\testimator kneighbor's best error=0.3848,\tbest estimator rf's best error=0.1504\n",
      "[flaml.automl.logger: 12-24 14:16:45] {2218} INFO - iteration 79, current learner rf\n",
      "[flaml.automl.logger: 12-24 14:16:45] {2391} INFO -  at 27.5s,\testimator rf's best error=0.1504,\tbest estimator rf's best error=0.1504\n",
      "[flaml.automl.logger: 12-24 14:16:45] {2218} INFO - iteration 80, current learner rf\n",
      "[flaml.automl.logger: 12-24 14:16:46] {2391} INFO -  at 28.0s,\testimator rf's best error=0.1504,\tbest estimator rf's best error=0.1504\n",
      "[flaml.automl.logger: 12-24 14:16:46] {2218} INFO - iteration 81, current learner rf\n",
      "[flaml.automl.logger: 12-24 14:16:46] {2391} INFO -  at 28.4s,\testimator rf's best error=0.1504,\tbest estimator rf's best error=0.1504\n",
      "[flaml.automl.logger: 12-24 14:16:46] {2218} INFO - iteration 82, current learner kneighbor\n",
      "[flaml.automl.logger: 12-24 14:16:46] {2391} INFO -  at 28.6s,\testimator kneighbor's best error=0.3848,\tbest estimator rf's best error=0.1504\n",
      "[flaml.automl.logger: 12-24 14:16:46] {2218} INFO - iteration 83, current learner rf\n",
      "[flaml.automl.logger: 12-24 14:16:46] {2391} INFO -  at 28.9s,\testimator rf's best error=0.1504,\tbest estimator rf's best error=0.1504\n",
      "[flaml.automl.logger: 12-24 14:16:46] {2218} INFO - iteration 84, current learner rf\n",
      "[flaml.automl.logger: 12-24 14:16:47] {2391} INFO -  at 29.4s,\testimator rf's best error=0.1504,\tbest estimator rf's best error=0.1504\n",
      "[flaml.automl.logger: 12-24 14:16:47] {2218} INFO - iteration 85, current learner rf\n",
      "[flaml.automl.logger: 12-24 14:16:47] {2391} INFO -  at 29.8s,\testimator rf's best error=0.1504,\tbest estimator rf's best error=0.1504\n",
      "[flaml.automl.logger: 12-24 14:16:47] {2218} INFO - iteration 86, current learner rf\n",
      "[flaml.automl.logger: 12-24 14:16:48] {2391} INFO -  at 30.2s,\testimator rf's best error=0.1504,\tbest estimator rf's best error=0.1504\n",
      "[flaml.automl.logger: 12-24 14:16:48] {2218} INFO - iteration 87, current learner kneighbor\n",
      "[flaml.automl.logger: 12-24 14:16:48] {2391} INFO -  at 30.4s,\testimator kneighbor's best error=0.3599,\tbest estimator rf's best error=0.1504\n",
      "[flaml.automl.logger: 12-24 14:16:48] {2218} INFO - iteration 88, current learner rf\n",
      "[flaml.automl.logger: 12-24 14:16:48] {2391} INFO -  at 30.7s,\testimator rf's best error=0.1504,\tbest estimator rf's best error=0.1504\n",
      "[flaml.automl.logger: 12-24 14:16:48] {2218} INFO - iteration 89, current learner kneighbor\n",
      "[flaml.automl.logger: 12-24 14:16:48] {2391} INFO -  at 30.7s,\testimator kneighbor's best error=0.3599,\tbest estimator rf's best error=0.1504\n",
      "[flaml.automl.logger: 12-24 14:16:48] {2218} INFO - iteration 90, current learner kneighbor\n",
      "[flaml.automl.logger: 12-24 14:16:48] {2391} INFO -  at 30.8s,\testimator kneighbor's best error=0.3599,\tbest estimator rf's best error=0.1504\n",
      "[flaml.automl.logger: 12-24 14:16:48] {2218} INFO - iteration 91, current learner kneighbor\n",
      "[flaml.automl.logger: 12-24 14:16:48] {2391} INFO -  at 30.8s,\testimator kneighbor's best error=0.3599,\tbest estimator rf's best error=0.1504\n",
      "[flaml.automl.logger: 12-24 14:16:48] {2218} INFO - iteration 92, current learner rf\n",
      "[flaml.automl.logger: 12-24 14:16:49] {2391} INFO -  at 31.0s,\testimator rf's best error=0.1504,\tbest estimator rf's best error=0.1504\n",
      "[flaml.automl.logger: 12-24 14:16:49] {2218} INFO - iteration 93, current learner kneighbor\n",
      "[flaml.automl.logger: 12-24 14:16:49] {2391} INFO -  at 31.1s,\testimator kneighbor's best error=0.3599,\tbest estimator rf's best error=0.1504\n",
      "[flaml.automl.logger: 12-24 14:16:49] {2218} INFO - iteration 94, current learner rf\n",
      "[flaml.automl.logger: 12-24 14:16:49] {2391} INFO -  at 31.3s,\testimator rf's best error=0.1504,\tbest estimator rf's best error=0.1504\n",
      "[flaml.automl.logger: 12-24 14:16:49] {2218} INFO - iteration 95, current learner rf\n",
      "[flaml.automl.logger: 12-24 14:16:49] {2391} INFO -  at 31.6s,\testimator rf's best error=0.1504,\tbest estimator rf's best error=0.1504\n",
      "[flaml.automl.logger: 12-24 14:16:49] {2218} INFO - iteration 96, current learner rf\n",
      "[flaml.automl.logger: 12-24 14:16:49] {2391} INFO -  at 31.8s,\testimator rf's best error=0.1504,\tbest estimator rf's best error=0.1504\n",
      "[flaml.automl.logger: 12-24 14:16:49] {2218} INFO - iteration 97, current learner rf\n",
      "[flaml.automl.logger: 12-24 14:16:50] {2391} INFO -  at 32.0s,\testimator rf's best error=0.1504,\tbest estimator rf's best error=0.1504\n",
      "[flaml.automl.logger: 12-24 14:16:50] {2218} INFO - iteration 98, current learner kneighbor\n",
      "[flaml.automl.logger: 12-24 14:16:50] {2391} INFO -  at 32.1s,\testimator kneighbor's best error=0.3599,\tbest estimator rf's best error=0.1504\n",
      "[flaml.automl.logger: 12-24 14:16:50] {2218} INFO - iteration 99, current learner rf\n",
      "[flaml.automl.logger: 12-24 14:16:50] {2391} INFO -  at 32.3s,\testimator rf's best error=0.1504,\tbest estimator rf's best error=0.1504\n",
      "[flaml.automl.logger: 12-24 14:16:50] {2218} INFO - iteration 100, current learner rf\n",
      "[flaml.automl.logger: 12-24 14:16:50] {2391} INFO -  at 32.5s,\testimator rf's best error=0.1504,\tbest estimator rf's best error=0.1504\n",
      "[flaml.automl.logger: 12-24 14:16:50] {2218} INFO - iteration 101, current learner kneighbor\n",
      "[flaml.automl.logger: 12-24 14:16:50] {2391} INFO -  at 32.6s,\testimator kneighbor's best error=0.3599,\tbest estimator rf's best error=0.1504\n",
      "[flaml.automl.logger: 12-24 14:16:50] {2218} INFO - iteration 102, current learner rf\n",
      "[flaml.automl.logger: 12-24 14:16:50] {2391} INFO -  at 32.8s,\testimator rf's best error=0.1504,\tbest estimator rf's best error=0.1504\n",
      "[flaml.automl.logger: 12-24 14:16:50] {2218} INFO - iteration 103, current learner rf\n",
      "[flaml.automl.logger: 12-24 14:16:51] {2391} INFO -  at 33.0s,\testimator rf's best error=0.1504,\tbest estimator rf's best error=0.1504\n",
      "[flaml.automl.logger: 12-24 14:16:51] {2218} INFO - iteration 104, current learner kneighbor\n",
      "[flaml.automl.logger: 12-24 14:16:51] {2391} INFO -  at 33.1s,\testimator kneighbor's best error=0.3599,\tbest estimator rf's best error=0.1504\n",
      "[flaml.automl.logger: 12-24 14:16:51] {2218} INFO - iteration 105, current learner rf\n",
      "[flaml.automl.logger: 12-24 14:16:51] {2391} INFO -  at 33.3s,\testimator rf's best error=0.1504,\tbest estimator rf's best error=0.1504\n",
      "[flaml.automl.logger: 12-24 14:16:51] {2218} INFO - iteration 106, current learner kneighbor\n",
      "[flaml.automl.logger: 12-24 14:16:51] {2391} INFO -  at 33.4s,\testimator kneighbor's best error=0.3599,\tbest estimator rf's best error=0.1504\n",
      "[flaml.automl.logger: 12-24 14:16:51] {2218} INFO - iteration 107, current learner kneighbor\n",
      "[flaml.automl.logger: 12-24 14:16:51] {2391} INFO -  at 33.4s,\testimator kneighbor's best error=0.3599,\tbest estimator rf's best error=0.1504\n",
      "[flaml.automl.logger: 12-24 14:16:51] {2218} INFO - iteration 108, current learner rf\n",
      "[flaml.automl.logger: 12-24 14:16:51] {2391} INFO -  at 33.7s,\testimator rf's best error=0.1504,\tbest estimator rf's best error=0.1504\n",
      "[flaml.automl.logger: 12-24 14:16:51] {2218} INFO - iteration 109, current learner kneighbor\n",
      "[flaml.automl.logger: 12-24 14:16:51] {2391} INFO -  at 33.7s,\testimator kneighbor's best error=0.3599,\tbest estimator rf's best error=0.1504\n",
      "[flaml.automl.logger: 12-24 14:16:51] {2218} INFO - iteration 110, current learner kneighbor\n",
      "[flaml.automl.logger: 12-24 14:16:51] {2391} INFO -  at 33.8s,\testimator kneighbor's best error=0.3599,\tbest estimator rf's best error=0.1504\n",
      "[flaml.automl.logger: 12-24 14:16:51] {2218} INFO - iteration 111, current learner kneighbor\n",
      "[flaml.automl.logger: 12-24 14:16:51] {2391} INFO -  at 33.8s,\testimator kneighbor's best error=0.3599,\tbest estimator rf's best error=0.1504\n",
      "[flaml.automl.logger: 12-24 14:16:51] {2218} INFO - iteration 112, current learner rf\n",
      "[flaml.automl.logger: 12-24 14:16:52] {2391} INFO -  at 34.0s,\testimator rf's best error=0.1504,\tbest estimator rf's best error=0.1504\n",
      "[flaml.automl.logger: 12-24 14:16:52] {2218} INFO - iteration 113, current learner rf\n",
      "[flaml.automl.logger: 12-24 14:16:52] {2391} INFO -  at 34.3s,\testimator rf's best error=0.1504,\tbest estimator rf's best error=0.1504\n",
      "[flaml.automl.logger: 12-24 14:16:52] {2218} INFO - iteration 114, current learner kneighbor\n",
      "[flaml.automl.logger: 12-24 14:16:52] {2391} INFO -  at 34.3s,\testimator kneighbor's best error=0.3599,\tbest estimator rf's best error=0.1504\n",
      "[flaml.automl.logger: 12-24 14:16:52] {2218} INFO - iteration 115, current learner kneighbor\n",
      "[flaml.automl.logger: 12-24 14:16:52] {2391} INFO -  at 34.4s,\testimator kneighbor's best error=0.3599,\tbest estimator rf's best error=0.1504\n",
      "[flaml.automl.logger: 12-24 14:16:52] {2218} INFO - iteration 116, current learner rf\n",
      "[flaml.automl.logger: 12-24 14:16:52] {2391} INFO -  at 34.6s,\testimator rf's best error=0.1504,\tbest estimator rf's best error=0.1504\n",
      "[flaml.automl.logger: 12-24 14:16:52] {2218} INFO - iteration 117, current learner kneighbor\n",
      "[flaml.automl.logger: 12-24 14:16:52] {2391} INFO -  at 34.7s,\testimator kneighbor's best error=0.3599,\tbest estimator rf's best error=0.1504\n",
      "[flaml.automl.logger: 12-24 14:16:52] {2218} INFO - iteration 118, current learner kneighbor\n",
      "[flaml.automl.logger: 12-24 14:16:52] {2391} INFO -  at 34.7s,\testimator kneighbor's best error=0.3599,\tbest estimator rf's best error=0.1504\n",
      "[flaml.automl.logger: 12-24 14:16:52] {2218} INFO - iteration 119, current learner kneighbor\n",
      "[flaml.automl.logger: 12-24 14:16:52] {2391} INFO -  at 34.8s,\testimator kneighbor's best error=0.3599,\tbest estimator rf's best error=0.1504\n",
      "[flaml.automl.logger: 12-24 14:16:52] {2218} INFO - iteration 120, current learner kneighbor\n",
      "[flaml.automl.logger: 12-24 14:16:52] {2391} INFO -  at 34.8s,\testimator kneighbor's best error=0.3599,\tbest estimator rf's best error=0.1504\n",
      "[flaml.automl.logger: 12-24 14:16:52] {2218} INFO - iteration 121, current learner rf\n",
      "[flaml.automl.logger: 12-24 14:16:53] {2391} INFO -  at 35.1s,\testimator rf's best error=0.1504,\tbest estimator rf's best error=0.1504\n",
      "[flaml.automl.logger: 12-24 14:16:53] {2218} INFO - iteration 122, current learner rf\n",
      "[flaml.automl.logger: 12-24 14:16:53] {2391} INFO -  at 35.3s,\testimator rf's best error=0.1504,\tbest estimator rf's best error=0.1504\n",
      "[flaml.automl.logger: 12-24 14:16:53] {2218} INFO - iteration 123, current learner rf\n",
      "[flaml.automl.logger: 12-24 14:16:53] {2391} INFO -  at 35.6s,\testimator rf's best error=0.1464,\tbest estimator rf's best error=0.1464\n",
      "[flaml.automl.logger: 12-24 14:16:53] {2218} INFO - iteration 124, current learner rf\n",
      "[flaml.automl.logger: 12-24 14:16:53] {2391} INFO -  at 35.8s,\testimator rf's best error=0.1464,\tbest estimator rf's best error=0.1464\n",
      "[flaml.automl.logger: 12-24 14:16:53] {2218} INFO - iteration 125, current learner rf\n",
      "[flaml.automl.logger: 12-24 14:16:54] {2391} INFO -  at 36.1s,\testimator rf's best error=0.1464,\tbest estimator rf's best error=0.1464\n",
      "[flaml.automl.logger: 12-24 14:16:54] {2218} INFO - iteration 126, current learner kneighbor\n",
      "[flaml.automl.logger: 12-24 14:16:54] {2391} INFO -  at 36.1s,\testimator kneighbor's best error=0.3599,\tbest estimator rf's best error=0.1464\n",
      "[flaml.automl.logger: 12-24 14:16:54] {2218} INFO - iteration 127, current learner rf\n",
      "[flaml.automl.logger: 12-24 14:16:54] {2391} INFO -  at 36.3s,\testimator rf's best error=0.1464,\tbest estimator rf's best error=0.1464\n",
      "[flaml.automl.logger: 12-24 14:16:54] {2218} INFO - iteration 128, current learner rf\n",
      "[flaml.automl.logger: 12-24 14:16:54] {2391} INFO -  at 36.6s,\testimator rf's best error=0.1381,\tbest estimator rf's best error=0.1381\n",
      "[flaml.automl.logger: 12-24 14:16:54] {2218} INFO - iteration 129, current learner rf\n",
      "[flaml.automl.logger: 12-24 14:16:54] {2391} INFO -  at 36.9s,\testimator rf's best error=0.1381,\tbest estimator rf's best error=0.1381\n",
      "[flaml.automl.logger: 12-24 14:16:54] {2218} INFO - iteration 130, current learner rf\n",
      "[flaml.automl.logger: 12-24 14:16:55] {2391} INFO -  at 37.2s,\testimator rf's best error=0.1381,\tbest estimator rf's best error=0.1381\n",
      "[flaml.automl.logger: 12-24 14:16:55] {2218} INFO - iteration 131, current learner rf\n",
      "[flaml.automl.logger: 12-24 14:16:55] {2391} INFO -  at 37.4s,\testimator rf's best error=0.1381,\tbest estimator rf's best error=0.1381\n",
      "[flaml.automl.logger: 12-24 14:16:55] {2218} INFO - iteration 132, current learner rf\n",
      "[flaml.automl.logger: 12-24 14:16:55] {2391} INFO -  at 37.7s,\testimator rf's best error=0.1381,\tbest estimator rf's best error=0.1381\n",
      "[flaml.automl.logger: 12-24 14:16:55] {2218} INFO - iteration 133, current learner rf\n",
      "[flaml.automl.logger: 12-24 14:16:55] {2391} INFO -  at 37.9s,\testimator rf's best error=0.1381,\tbest estimator rf's best error=0.1381\n",
      "[flaml.automl.logger: 12-24 14:16:55] {2218} INFO - iteration 134, current learner rf\n",
      "[flaml.automl.logger: 12-24 14:16:56] {2391} INFO -  at 38.2s,\testimator rf's best error=0.1381,\tbest estimator rf's best error=0.1381\n",
      "[flaml.automl.logger: 12-24 14:16:56] {2218} INFO - iteration 135, current learner rf\n",
      "[flaml.automl.logger: 12-24 14:16:56] {2391} INFO -  at 38.5s,\testimator rf's best error=0.1381,\tbest estimator rf's best error=0.1381\n",
      "[flaml.automl.logger: 12-24 14:16:56] {2218} INFO - iteration 136, current learner rf\n",
      "[flaml.automl.logger: 12-24 14:16:56] {2391} INFO -  at 38.8s,\testimator rf's best error=0.1381,\tbest estimator rf's best error=0.1381\n",
      "[flaml.automl.logger: 12-24 14:16:56] {2218} INFO - iteration 137, current learner rf\n",
      "[flaml.automl.logger: 12-24 14:16:57] {2391} INFO -  at 39.1s,\testimator rf's best error=0.1381,\tbest estimator rf's best error=0.1381\n",
      "[flaml.automl.logger: 12-24 14:16:57] {2218} INFO - iteration 138, current learner rf\n",
      "[flaml.automl.logger: 12-24 14:16:57] {2391} INFO -  at 39.3s,\testimator rf's best error=0.1381,\tbest estimator rf's best error=0.1381\n",
      "[flaml.automl.logger: 12-24 14:16:57] {2218} INFO - iteration 139, current learner rf\n",
      "[flaml.automl.logger: 12-24 14:16:57] {2391} INFO -  at 39.6s,\testimator rf's best error=0.1381,\tbest estimator rf's best error=0.1381\n",
      "[flaml.automl.logger: 12-24 14:16:57] {2218} INFO - iteration 140, current learner rf\n",
      "[flaml.automl.logger: 12-24 14:16:57] {2391} INFO -  at 39.9s,\testimator rf's best error=0.1381,\tbest estimator rf's best error=0.1381\n",
      "[flaml.automl.logger: 12-24 14:16:57] {2218} INFO - iteration 141, current learner rf\n",
      "[flaml.automl.logger: 12-24 14:16:58] {2391} INFO -  at 40.1s,\testimator rf's best error=0.1381,\tbest estimator rf's best error=0.1381\n",
      "[flaml.automl.logger: 12-24 14:16:58] {2218} INFO - iteration 142, current learner rf\n",
      "[flaml.automl.logger: 12-24 14:16:58] {2391} INFO -  at 40.4s,\testimator rf's best error=0.1381,\tbest estimator rf's best error=0.1381\n",
      "[flaml.automl.logger: 12-24 14:16:58] {2218} INFO - iteration 143, current learner rf\n",
      "[flaml.automl.logger: 12-24 14:16:58] {2391} INFO -  at 40.7s,\testimator rf's best error=0.1381,\tbest estimator rf's best error=0.1381\n",
      "[flaml.automl.logger: 12-24 14:16:58] {2218} INFO - iteration 144, current learner rf\n",
      "[flaml.automl.logger: 12-24 14:16:58] {2391} INFO -  at 40.9s,\testimator rf's best error=0.1381,\tbest estimator rf's best error=0.1381\n",
      "[flaml.automl.logger: 12-24 14:16:58] {2218} INFO - iteration 145, current learner rf\n",
      "[flaml.automl.logger: 12-24 14:16:59] {2391} INFO -  at 41.2s,\testimator rf's best error=0.1381,\tbest estimator rf's best error=0.1381\n",
      "[flaml.automl.logger: 12-24 14:16:59] {2218} INFO - iteration 146, current learner rf\n",
      "[flaml.automl.logger: 12-24 14:16:59] {2391} INFO -  at 41.5s,\testimator rf's best error=0.1381,\tbest estimator rf's best error=0.1381\n",
      "[flaml.automl.logger: 12-24 14:16:59] {2218} INFO - iteration 147, current learner rf\n",
      "[flaml.automl.logger: 12-24 14:16:59] {2391} INFO -  at 41.7s,\testimator rf's best error=0.1381,\tbest estimator rf's best error=0.1381\n",
      "[flaml.automl.logger: 12-24 14:16:59] {2218} INFO - iteration 148, current learner rf\n",
      "[flaml.automl.logger: 12-24 14:17:00] {2391} INFO -  at 42.0s,\testimator rf's best error=0.1381,\tbest estimator rf's best error=0.1381\n",
      "[flaml.automl.logger: 12-24 14:17:00] {2218} INFO - iteration 149, current learner rf\n",
      "[flaml.automl.logger: 12-24 14:17:00] {2391} INFO -  at 42.3s,\testimator rf's best error=0.1381,\tbest estimator rf's best error=0.1381\n",
      "[flaml.automl.logger: 12-24 14:17:00] {2218} INFO - iteration 150, current learner rf\n",
      "[flaml.automl.logger: 12-24 14:17:00] {2391} INFO -  at 42.5s,\testimator rf's best error=0.1381,\tbest estimator rf's best error=0.1381\n",
      "[flaml.automl.logger: 12-24 14:17:00] {2218} INFO - iteration 151, current learner rf\n",
      "[flaml.automl.logger: 12-24 14:17:00] {2391} INFO -  at 42.8s,\testimator rf's best error=0.1381,\tbest estimator rf's best error=0.1381\n",
      "[flaml.automl.logger: 12-24 14:17:00] {2218} INFO - iteration 152, current learner rf\n",
      "[flaml.automl.logger: 12-24 14:17:01] {2391} INFO -  at 43.1s,\testimator rf's best error=0.1381,\tbest estimator rf's best error=0.1381\n",
      "[flaml.automl.logger: 12-24 14:17:01] {2218} INFO - iteration 153, current learner kneighbor\n",
      "[flaml.automl.logger: 12-24 14:17:01] {2391} INFO -  at 43.1s,\testimator kneighbor's best error=0.3599,\tbest estimator rf's best error=0.1381\n",
      "[flaml.automl.logger: 12-24 14:17:01] {2218} INFO - iteration 154, current learner rf\n",
      "[flaml.automl.logger: 12-24 14:17:01] {2391} INFO -  at 43.4s,\testimator rf's best error=0.1381,\tbest estimator rf's best error=0.1381\n",
      "[flaml.automl.logger: 12-24 14:17:01] {2218} INFO - iteration 155, current learner rf\n",
      "[flaml.automl.logger: 12-24 14:17:01] {2391} INFO -  at 43.7s,\testimator rf's best error=0.1381,\tbest estimator rf's best error=0.1381\n",
      "[flaml.automl.logger: 12-24 14:17:01] {2218} INFO - iteration 156, current learner rf\n",
      "[flaml.automl.logger: 12-24 14:17:01] {2391} INFO -  at 43.9s,\testimator rf's best error=0.1381,\tbest estimator rf's best error=0.1381\n",
      "[flaml.automl.logger: 12-24 14:17:01] {2218} INFO - iteration 157, current learner rf\n",
      "[flaml.automl.logger: 12-24 14:17:02] {2391} INFO -  at 44.2s,\testimator rf's best error=0.1381,\tbest estimator rf's best error=0.1381\n",
      "[flaml.automl.logger: 12-24 14:17:02] {2218} INFO - iteration 158, current learner rf\n",
      "[flaml.automl.logger: 12-24 14:17:02] {2391} INFO -  at 44.5s,\testimator rf's best error=0.1381,\tbest estimator rf's best error=0.1381\n",
      "[flaml.automl.logger: 12-24 14:17:02] {2218} INFO - iteration 159, current learner rf\n",
      "[flaml.automl.logger: 12-24 14:17:02] {2391} INFO -  at 44.7s,\testimator rf's best error=0.1381,\tbest estimator rf's best error=0.1381\n",
      "[flaml.automl.logger: 12-24 14:17:02] {2218} INFO - iteration 160, current learner kneighbor\n",
      "[flaml.automl.logger: 12-24 14:17:02] {2391} INFO -  at 44.8s,\testimator kneighbor's best error=0.3599,\tbest estimator rf's best error=0.1381\n",
      "[flaml.automl.logger: 12-24 14:17:02] {2218} INFO - iteration 161, current learner kneighbor\n",
      "[flaml.automl.logger: 12-24 14:17:02] {2391} INFO -  at 44.9s,\testimator kneighbor's best error=0.3599,\tbest estimator rf's best error=0.1381\n",
      "[flaml.automl.logger: 12-24 14:17:02] {2218} INFO - iteration 162, current learner rf\n",
      "[flaml.automl.logger: 12-24 14:17:03] {2391} INFO -  at 45.1s,\testimator rf's best error=0.1381,\tbest estimator rf's best error=0.1381\n",
      "[flaml.automl.logger: 12-24 14:17:03] {2218} INFO - iteration 163, current learner rf\n",
      "[flaml.automl.logger: 12-24 14:17:03] {2391} INFO -  at 45.4s,\testimator rf's best error=0.1381,\tbest estimator rf's best error=0.1381\n",
      "[flaml.automl.logger: 12-24 14:17:03] {2218} INFO - iteration 164, current learner rf\n",
      "[flaml.automl.logger: 12-24 14:17:03] {2391} INFO -  at 45.6s,\testimator rf's best error=0.1381,\tbest estimator rf's best error=0.1381\n",
      "[flaml.automl.logger: 12-24 14:17:03] {2218} INFO - iteration 165, current learner kneighbor\n",
      "[flaml.automl.logger: 12-24 14:17:03] {2391} INFO -  at 45.7s,\testimator kneighbor's best error=0.3599,\tbest estimator rf's best error=0.1381\n",
      "[flaml.automl.logger: 12-24 14:17:03] {2218} INFO - iteration 166, current learner rf\n",
      "[flaml.automl.logger: 12-24 14:17:04] {2391} INFO -  at 46.0s,\testimator rf's best error=0.1381,\tbest estimator rf's best error=0.1381\n",
      "[flaml.automl.logger: 12-24 14:17:04] {2218} INFO - iteration 167, current learner rf\n",
      "[flaml.automl.logger: 12-24 14:17:04] {2391} INFO -  at 46.3s,\testimator rf's best error=0.1381,\tbest estimator rf's best error=0.1381\n",
      "[flaml.automl.logger: 12-24 14:17:04] {2218} INFO - iteration 168, current learner rf\n",
      "[flaml.automl.logger: 12-24 14:17:04] {2391} INFO -  at 46.5s,\testimator rf's best error=0.1381,\tbest estimator rf's best error=0.1381\n",
      "[flaml.automl.logger: 12-24 14:17:04] {2218} INFO - iteration 169, current learner rf\n",
      "[flaml.automl.logger: 12-24 14:17:04] {2391} INFO -  at 46.8s,\testimator rf's best error=0.1381,\tbest estimator rf's best error=0.1381\n",
      "[flaml.automl.logger: 12-24 14:17:04] {2218} INFO - iteration 170, current learner rf\n",
      "[flaml.automl.logger: 12-24 14:17:05] {2391} INFO -  at 47.1s,\testimator rf's best error=0.1381,\tbest estimator rf's best error=0.1381\n",
      "[flaml.automl.logger: 12-24 14:17:05] {2218} INFO - iteration 171, current learner rf\n",
      "[flaml.automl.logger: 12-24 14:17:05] {2391} INFO -  at 47.4s,\testimator rf's best error=0.1381,\tbest estimator rf's best error=0.1381\n",
      "[flaml.automl.logger: 12-24 14:17:05] {2218} INFO - iteration 172, current learner rf\n",
      "[flaml.automl.logger: 12-24 14:17:05] {2391} INFO -  at 47.6s,\testimator rf's best error=0.1381,\tbest estimator rf's best error=0.1381\n",
      "[flaml.automl.logger: 12-24 14:17:05] {2218} INFO - iteration 173, current learner kneighbor\n",
      "[flaml.automl.logger: 12-24 14:17:05] {2391} INFO -  at 47.7s,\testimator kneighbor's best error=0.3599,\tbest estimator rf's best error=0.1381\n",
      "[flaml.automl.logger: 12-24 14:17:05] {2218} INFO - iteration 174, current learner rf\n",
      "[flaml.automl.logger: 12-24 14:17:05] {2391} INFO -  at 47.9s,\testimator rf's best error=0.1381,\tbest estimator rf's best error=0.1381\n",
      "[flaml.automl.logger: 12-24 14:17:05] {2218} INFO - iteration 175, current learner rf\n",
      "[flaml.automl.logger: 12-24 14:17:06] {2391} INFO -  at 48.2s,\testimator rf's best error=0.1381,\tbest estimator rf's best error=0.1381\n",
      "[flaml.automl.logger: 12-24 14:17:06] {2218} INFO - iteration 176, current learner rf\n",
      "[flaml.automl.logger: 12-24 14:17:06] {2391} INFO -  at 48.5s,\testimator rf's best error=0.1381,\tbest estimator rf's best error=0.1381\n",
      "[flaml.automl.logger: 12-24 14:17:06] {2218} INFO - iteration 177, current learner rf\n",
      "[flaml.automl.logger: 12-24 14:17:06] {2391} INFO -  at 48.8s,\testimator rf's best error=0.1381,\tbest estimator rf's best error=0.1381\n",
      "[flaml.automl.logger: 12-24 14:17:06] {2218} INFO - iteration 178, current learner rf\n",
      "[flaml.automl.logger: 12-24 14:17:07] {2391} INFO -  at 49.0s,\testimator rf's best error=0.1381,\tbest estimator rf's best error=0.1381\n",
      "[flaml.automl.logger: 12-24 14:17:07] {2218} INFO - iteration 179, current learner rf\n",
      "[flaml.automl.logger: 12-24 14:17:07] {2391} INFO -  at 49.3s,\testimator rf's best error=0.1381,\tbest estimator rf's best error=0.1381\n",
      "[flaml.automl.logger: 12-24 14:17:07] {2218} INFO - iteration 180, current learner rf\n",
      "[flaml.automl.logger: 12-24 14:17:07] {2391} INFO -  at 49.6s,\testimator rf's best error=0.1381,\tbest estimator rf's best error=0.1381\n",
      "[flaml.automl.logger: 12-24 14:17:07] {2218} INFO - iteration 181, current learner rf\n",
      "[flaml.automl.logger: 12-24 14:17:07] {2391} INFO -  at 49.8s,\testimator rf's best error=0.1381,\tbest estimator rf's best error=0.1381\n",
      "[flaml.automl.logger: 12-24 14:17:07] {2218} INFO - iteration 182, current learner rf\n",
      "[flaml.automl.logger: 12-24 14:17:08] {2391} INFO -  at 50.1s,\testimator rf's best error=0.1381,\tbest estimator rf's best error=0.1381\n",
      "[flaml.automl.logger: 12-24 14:17:08] {2218} INFO - iteration 183, current learner rf\n",
      "[flaml.automl.logger: 12-24 14:17:08] {2391} INFO -  at 50.4s,\testimator rf's best error=0.1381,\tbest estimator rf's best error=0.1381\n",
      "[flaml.automl.logger: 12-24 14:17:08] {2218} INFO - iteration 184, current learner rf\n",
      "[flaml.automl.logger: 12-24 14:17:08] {2391} INFO -  at 50.7s,\testimator rf's best error=0.1381,\tbest estimator rf's best error=0.1381\n",
      "[flaml.automl.logger: 12-24 14:17:08] {2218} INFO - iteration 185, current learner rf\n",
      "[flaml.automl.logger: 12-24 14:17:08] {2391} INFO -  at 50.9s,\testimator rf's best error=0.1381,\tbest estimator rf's best error=0.1381\n",
      "[flaml.automl.logger: 12-24 14:17:08] {2218} INFO - iteration 186, current learner rf\n",
      "[flaml.automl.logger: 12-24 14:17:09] {2391} INFO -  at 51.2s,\testimator rf's best error=0.1381,\tbest estimator rf's best error=0.1381\n",
      "[flaml.automl.logger: 12-24 14:17:09] {2218} INFO - iteration 187, current learner kneighbor\n",
      "[flaml.automl.logger: 12-24 14:17:09] {2391} INFO -  at 51.2s,\testimator kneighbor's best error=0.3599,\tbest estimator rf's best error=0.1381\n",
      "[flaml.automl.logger: 12-24 14:17:09] {2218} INFO - iteration 188, current learner rf\n",
      "[flaml.automl.logger: 12-24 14:17:09] {2391} INFO -  at 51.5s,\testimator rf's best error=0.1381,\tbest estimator rf's best error=0.1381\n",
      "[flaml.automl.logger: 12-24 14:17:09] {2218} INFO - iteration 189, current learner rf\n",
      "[flaml.automl.logger: 12-24 14:17:09] {2391} INFO -  at 51.7s,\testimator rf's best error=0.1381,\tbest estimator rf's best error=0.1381\n",
      "[flaml.automl.logger: 12-24 14:17:09] {2218} INFO - iteration 190, current learner rf\n",
      "[flaml.automl.logger: 12-24 14:17:10] {2391} INFO -  at 52.0s,\testimator rf's best error=0.1381,\tbest estimator rf's best error=0.1381\n",
      "[flaml.automl.logger: 12-24 14:17:10] {2218} INFO - iteration 191, current learner kneighbor\n",
      "[flaml.automl.logger: 12-24 14:17:10] {2391} INFO -  at 52.1s,\testimator kneighbor's best error=0.3599,\tbest estimator rf's best error=0.1381\n",
      "[flaml.automl.logger: 12-24 14:17:10] {2218} INFO - iteration 192, current learner rf\n",
      "[flaml.automl.logger: 12-24 14:17:10] {2391} INFO -  at 52.3s,\testimator rf's best error=0.1381,\tbest estimator rf's best error=0.1381\n",
      "[flaml.automl.logger: 12-24 14:17:10] {2218} INFO - iteration 193, current learner rf\n",
      "[flaml.automl.logger: 12-24 14:17:10] {2391} INFO -  at 52.6s,\testimator rf's best error=0.1381,\tbest estimator rf's best error=0.1381\n",
      "[flaml.automl.logger: 12-24 14:17:10] {2218} INFO - iteration 194, current learner rf\n",
      "[flaml.automl.logger: 12-24 14:17:10] {2391} INFO -  at 52.9s,\testimator rf's best error=0.1381,\tbest estimator rf's best error=0.1381\n",
      "[flaml.automl.logger: 12-24 14:17:10] {2218} INFO - iteration 195, current learner kneighbor\n",
      "[flaml.automl.logger: 12-24 14:17:11] {2391} INFO -  at 52.9s,\testimator kneighbor's best error=0.3599,\tbest estimator rf's best error=0.1381\n",
      "[flaml.automl.logger: 12-24 14:17:11] {2218} INFO - iteration 196, current learner kneighbor\n",
      "[flaml.automl.logger: 12-24 14:17:11] {2391} INFO -  at 53.0s,\testimator kneighbor's best error=0.3599,\tbest estimator rf's best error=0.1381\n",
      "[flaml.automl.logger: 12-24 14:17:11] {2218} INFO - iteration 197, current learner kneighbor\n",
      "[flaml.automl.logger: 12-24 14:17:11] {2391} INFO -  at 53.1s,\testimator kneighbor's best error=0.3599,\tbest estimator rf's best error=0.1381\n",
      "[flaml.automl.logger: 12-24 14:17:11] {2218} INFO - iteration 198, current learner rf\n",
      "[flaml.automl.logger: 12-24 14:17:11] {2391} INFO -  at 53.3s,\testimator rf's best error=0.1381,\tbest estimator rf's best error=0.1381\n",
      "[flaml.automl.logger: 12-24 14:17:11] {2218} INFO - iteration 199, current learner rf\n",
      "[flaml.automl.logger: 12-24 14:17:11] {2391} INFO -  at 53.6s,\testimator rf's best error=0.1381,\tbest estimator rf's best error=0.1381\n",
      "[flaml.automl.logger: 12-24 14:17:11] {2627} INFO - retrain rf for 0.1s\n",
      "[flaml.automl.logger: 12-24 14:17:11] {2630} INFO - retrained model: RandomForestClassifier(criterion='entropy', max_features=0.4472982144028823,\n",
      "                       max_leaf_nodes=5, n_estimators=17, n_jobs=-1,\n",
      "                       random_state=12032022)\n",
      "[flaml.automl.logger: 12-24 14:17:11] {1930} INFO - fit succeeded\n",
      "[flaml.automl.logger: 12-24 14:17:11] {1931} INFO - Time taken to find the best model: 36.60665822029114\n"
     ]
    }
   ],
   "source": [
    "automl.fit(X_train=X_train, y_train=y_train, **settings)"
   ]
  },
  {
   "cell_type": "markdown",
   "id": "b7ff50fa",
   "metadata": {
    "papermill": {
     "duration": 0.057903,
     "end_time": "2023-12-24T14:17:11.808337",
     "exception": false,
     "start_time": "2023-12-24T14:17:11.750434",
     "status": "completed"
    },
    "tags": []
   },
   "source": [
    "## Outcomes:"
   ]
  },
  {
   "cell_type": "code",
   "execution_count": 19,
   "id": "70a8f4eb",
   "metadata": {
    "execution": {
     "iopub.execute_input": "2023-12-24T14:17:11.926995Z",
     "iopub.status.busy": "2023-12-24T14:17:11.926044Z",
     "iopub.status.idle": "2023-12-24T14:17:11.933747Z",
     "shell.execute_reply": "2023-12-24T14:17:11.932522Z"
    },
    "papermill": {
     "duration": 0.070073,
     "end_time": "2023-12-24T14:17:11.936583",
     "exception": false,
     "start_time": "2023-12-24T14:17:11.866510",
     "status": "completed"
    },
    "tags": []
   },
   "outputs": [
    {
     "data": {
      "text/plain": [
       "'rf'"
      ]
     },
     "execution_count": 19,
     "metadata": {},
     "output_type": "execute_result"
    }
   ],
   "source": [
    "automl.best_estimator"
   ]
  },
  {
   "cell_type": "code",
   "execution_count": 20,
   "id": "a2f3a07c",
   "metadata": {
    "execution": {
     "iopub.execute_input": "2023-12-24T14:17:12.057670Z",
     "iopub.status.busy": "2023-12-24T14:17:12.056718Z",
     "iopub.status.idle": "2023-12-24T14:17:12.067865Z",
     "shell.execute_reply": "2023-12-24T14:17:12.066735Z"
    },
    "papermill": {
     "duration": 0.074754,
     "end_time": "2023-12-24T14:17:12.070586",
     "exception": false,
     "start_time": "2023-12-24T14:17:11.995832",
     "status": "completed"
    },
    "tags": []
   },
   "outputs": [
    {
     "data": {
      "text/plain": [
       "{'n_estimators': 17,\n",
       " 'max_features': 0.4472982144028823,\n",
       " 'max_leaves': 5,\n",
       " 'criterion': 'entropy'}"
      ]
     },
     "execution_count": 20,
     "metadata": {},
     "output_type": "execute_result"
    }
   ],
   "source": [
    "automl.best_config"
   ]
  },
  {
   "cell_type": "code",
   "execution_count": 21,
   "id": "9a2fd6bb",
   "metadata": {
    "execution": {
     "iopub.execute_input": "2023-12-24T14:17:12.192404Z",
     "iopub.status.busy": "2023-12-24T14:17:12.191072Z",
     "iopub.status.idle": "2023-12-24T14:17:12.200327Z",
     "shell.execute_reply": "2023-12-24T14:17:12.199387Z"
    },
    "papermill": {
     "duration": 0.072585,
     "end_time": "2023-12-24T14:17:12.202509",
     "exception": false,
     "start_time": "2023-12-24T14:17:12.129924",
     "status": "completed"
    },
    "tags": []
   },
   "outputs": [
    {
     "data": {
      "text/html": [
       "<style>#sk-container-id-1 {color: black;background-color: white;}#sk-container-id-1 pre{padding: 0;}#sk-container-id-1 div.sk-toggleable {background-color: white;}#sk-container-id-1 label.sk-toggleable__label {cursor: pointer;display: block;width: 100%;margin-bottom: 0;padding: 0.3em;box-sizing: border-box;text-align: center;}#sk-container-id-1 label.sk-toggleable__label-arrow:before {content: \"▸\";float: left;margin-right: 0.25em;color: #696969;}#sk-container-id-1 label.sk-toggleable__label-arrow:hover:before {color: black;}#sk-container-id-1 div.sk-estimator:hover label.sk-toggleable__label-arrow:before {color: black;}#sk-container-id-1 div.sk-toggleable__content {max-height: 0;max-width: 0;overflow: hidden;text-align: left;background-color: #f0f8ff;}#sk-container-id-1 div.sk-toggleable__content pre {margin: 0.2em;color: black;border-radius: 0.25em;background-color: #f0f8ff;}#sk-container-id-1 input.sk-toggleable__control:checked~div.sk-toggleable__content {max-height: 200px;max-width: 100%;overflow: auto;}#sk-container-id-1 input.sk-toggleable__control:checked~label.sk-toggleable__label-arrow:before {content: \"▾\";}#sk-container-id-1 div.sk-estimator input.sk-toggleable__control:checked~label.sk-toggleable__label {background-color: #d4ebff;}#sk-container-id-1 div.sk-label input.sk-toggleable__control:checked~label.sk-toggleable__label {background-color: #d4ebff;}#sk-container-id-1 input.sk-hidden--visually {border: 0;clip: rect(1px 1px 1px 1px);clip: rect(1px, 1px, 1px, 1px);height: 1px;margin: -1px;overflow: hidden;padding: 0;position: absolute;width: 1px;}#sk-container-id-1 div.sk-estimator {font-family: monospace;background-color: #f0f8ff;border: 1px dotted black;border-radius: 0.25em;box-sizing: border-box;margin-bottom: 0.5em;}#sk-container-id-1 div.sk-estimator:hover {background-color: #d4ebff;}#sk-container-id-1 div.sk-parallel-item::after {content: \"\";width: 100%;border-bottom: 1px solid gray;flex-grow: 1;}#sk-container-id-1 div.sk-label:hover label.sk-toggleable__label {background-color: #d4ebff;}#sk-container-id-1 div.sk-serial::before {content: \"\";position: absolute;border-left: 1px solid gray;box-sizing: border-box;top: 0;bottom: 0;left: 50%;z-index: 0;}#sk-container-id-1 div.sk-serial {display: flex;flex-direction: column;align-items: center;background-color: white;padding-right: 0.2em;padding-left: 0.2em;position: relative;}#sk-container-id-1 div.sk-item {position: relative;z-index: 1;}#sk-container-id-1 div.sk-parallel {display: flex;align-items: stretch;justify-content: center;background-color: white;position: relative;}#sk-container-id-1 div.sk-item::before, #sk-container-id-1 div.sk-parallel-item::before {content: \"\";position: absolute;border-left: 1px solid gray;box-sizing: border-box;top: 0;bottom: 0;left: 50%;z-index: -1;}#sk-container-id-1 div.sk-parallel-item {display: flex;flex-direction: column;z-index: 1;position: relative;background-color: white;}#sk-container-id-1 div.sk-parallel-item:first-child::after {align-self: flex-end;width: 50%;}#sk-container-id-1 div.sk-parallel-item:last-child::after {align-self: flex-start;width: 50%;}#sk-container-id-1 div.sk-parallel-item:only-child::after {width: 0;}#sk-container-id-1 div.sk-dashed-wrapped {border: 1px dashed gray;margin: 0 0.4em 0.5em 0.4em;box-sizing: border-box;padding-bottom: 0.4em;background-color: white;}#sk-container-id-1 div.sk-label label {font-family: monospace;font-weight: bold;display: inline-block;line-height: 1.2em;}#sk-container-id-1 div.sk-label-container {text-align: center;}#sk-container-id-1 div.sk-container {/* jupyter's `normalize.less` sets `[hidden] { display: none; }` but bootstrap.min.css set `[hidden] { display: none !important; }` so we also need the `!important` here to be able to override the default hidden behavior on the sphinx rendered scikit-learn.org. See: https://github.com/scikit-learn/scikit-learn/issues/21755 */display: inline-block !important;position: relative;}#sk-container-id-1 div.sk-text-repr-fallback {display: none;}</style><div id=\"sk-container-id-1\" class=\"sk-top-container\"><div class=\"sk-text-repr-fallback\"><pre>RandomForestClassifier(criterion=&#x27;entropy&#x27;, max_features=0.4472982144028823,\n",
       "                       max_leaf_nodes=5, n_estimators=17, n_jobs=-1,\n",
       "                       random_state=12032022)</pre><b>In a Jupyter environment, please rerun this cell to show the HTML representation or trust the notebook. <br />On GitHub, the HTML representation is unable to render, please try loading this page with nbviewer.org.</b></div><div class=\"sk-container\" hidden><div class=\"sk-item\"><div class=\"sk-estimator sk-toggleable\"><input class=\"sk-toggleable__control sk-hidden--visually\" id=\"sk-estimator-id-1\" type=\"checkbox\" checked><label for=\"sk-estimator-id-1\" class=\"sk-toggleable__label sk-toggleable__label-arrow\">RandomForestClassifier</label><div class=\"sk-toggleable__content\"><pre>RandomForestClassifier(criterion=&#x27;entropy&#x27;, max_features=0.4472982144028823,\n",
       "                       max_leaf_nodes=5, n_estimators=17, n_jobs=-1,\n",
       "                       random_state=12032022)</pre></div></div></div></div></div>"
      ],
      "text/plain": [
       "RandomForestClassifier(criterion='entropy', max_features=0.4472982144028823,\n",
       "                       max_leaf_nodes=5, n_estimators=17, n_jobs=-1,\n",
       "                       random_state=12032022)"
      ]
     },
     "execution_count": 21,
     "metadata": {},
     "output_type": "execute_result"
    }
   ],
   "source": [
    "automl.model.estimator"
   ]
  },
  {
   "cell_type": "code",
   "execution_count": 22,
   "id": "00af62a7",
   "metadata": {
    "execution": {
     "iopub.execute_input": "2023-12-24T14:17:12.322319Z",
     "iopub.status.busy": "2023-12-24T14:17:12.321207Z",
     "iopub.status.idle": "2023-12-24T14:17:12.333078Z",
     "shell.execute_reply": "2023-12-24T14:17:12.332138Z"
    },
    "papermill": {
     "duration": 0.074426,
     "end_time": "2023-12-24T14:17:12.335598",
     "exception": false,
     "start_time": "2023-12-24T14:17:12.261172",
     "status": "completed"
    },
    "tags": []
   },
   "outputs": [
    {
     "data": {
      "text/plain": [
       "0.9166666666666666"
      ]
     },
     "execution_count": 22,
     "metadata": {},
     "output_type": "execute_result"
    }
   ],
   "source": [
    "automl.model.score(X_test,y_test)"
   ]
  }
 ],
 "metadata": {
  "kaggle": {
   "accelerator": "none",
   "dataSources": [
    {
     "datasetId": 4189759,
     "sourceId": 7235215,
     "sourceType": "datasetVersion"
    }
   ],
   "dockerImageVersionId": 30626,
   "isGpuEnabled": false,
   "isInternetEnabled": true,
   "language": "python",
   "sourceType": "notebook"
  },
  "kernelspec": {
   "display_name": "Python 3",
   "language": "python",
   "name": "python3"
  },
  "language_info": {
   "codemirror_mode": {
    "name": "ipython",
    "version": 3
   },
   "file_extension": ".py",
   "mimetype": "text/x-python",
   "name": "python",
   "nbconvert_exporter": "python",
   "pygments_lexer": "ipython3",
   "version": "3.10.12"
  },
  "papermill": {
   "default_parameters": {},
   "duration": 127.863488,
   "end_time": "2023-12-24T14:17:13.618796",
   "environment_variables": {},
   "exception": null,
   "input_path": "__notebook__.ipynb",
   "output_path": "__notebook__.ipynb",
   "parameters": {},
   "start_time": "2023-12-24T14:15:05.755308",
   "version": "2.4.0"
  }
 },
 "nbformat": 4,
 "nbformat_minor": 5
}
